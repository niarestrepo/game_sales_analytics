{
 "cells": [
  {
   "cell_type": "markdown",
   "metadata": {},
   "source": [
    "# ¡Hola, Estefanía!  \n",
    "\n",
    "Mi nombre es Carlos Ortiz, soy code reviewer de TripleTen y voy a revisar el proyecto que acabas de desarrollar.\n",
    "\n",
    "Cuando vea un error la primera vez, lo señalaré. Deberás encontrarlo y arreglarlo. La intención es que te prepares para un espacio real de trabajo. En un trabajo, el líder de tu equipo hará lo mismo. Si no puedes solucionar el error, te daré más información en la próxima ocasión. \n",
    "\n",
    "Encontrarás mis comentarios más abajo - **por favor, no los muevas, no los modifiques ni los borres**.\n",
    "\n",
    "¿Cómo lo voy a hacer? Voy a leer detenidamente cada una de las implementaciones que has llevado a cabo para cumplir con lo solicitado. Verás los comentarios de esta forma:\n",
    "\n",
    "<div class=\"alert alert-block alert-success\">\n",
    "<b>Comentario del revisor</b> <a class=\"tocSkip\"></a>\n",
    "    \n",
    "Si todo está perfecto.\n",
    "</div>\n",
    "\n",
    "\n",
    "<div class=\"alert alert-block alert-warning\">\n",
    "<b>Comentario del revisor</b> <a class=\"tocSkip\"></a>\n",
    "    \n",
    "Si tu código está bien pero se puede mejorar o hay algún detalle que le hace falta.\n",
    "</div>\n",
    "\n",
    "\n",
    "<div class=\"alert alert-block alert-danger\">\n",
    "    \n",
    "<b>Comentario del revisor</b> <a class=\"tocSkip\"></a>\n",
    "    \n",
    "    \n",
    "Si de pronto hace falta algo o existe algún problema con tu código o conclusiones.\n",
    "</div>\n",
    "\n",
    "\n",
    "Puedes responderme de esta forma: \n",
    "\n",
    "\n",
    "<div class=\"alert alert-block alert-info\">\n",
    "<b>Respuesta del estudiante</b> <a class=\"tocSkip\"></a>\n",
    "</div>\n",
    "¡Empecemos!"
   ]
  },
  {
   "cell_type": "markdown",
   "metadata": {},
   "source": [
    "## Descripción del proyecto!\n",
    "La finalidad del proyecto es identificar si patrones para determinar el éxito de un juego, o en su defecto, el fracaso en ventas de otros; para la tienda Ice que vende videojuegos por todo el mundo.\n",
    "\n",
    "Base de datos del proyecto: `games.csv`. Contiene datos de ventas de video juegos desde el año 1980 hasta 2016.\n"
   ]
  },
  {
   "cell_type": "markdown",
   "metadata": {},
   "source": [
    "### 1. Importe de librerias y estudio de datos suministrados"
   ]
  },
  {
   "cell_type": "code",
   "execution_count": 3,
   "metadata": {},
   "outputs": [],
   "source": [
    "import pandas as pd\n",
    "import plotly.graph_objects as go\n",
    "from scipy.stats import ttest_ind\n"
   ]
  },
  {
   "cell_type": "code",
   "execution_count": 4,
   "metadata": {},
   "outputs": [],
   "source": [
    "df_video_games = pd.read_csv('./datasets/games.csv') # Lectura de los datos"
   ]
  },
  {
   "cell_type": "code",
   "execution_count": 5,
   "metadata": {},
   "outputs": [
    {
     "data": {
      "text/html": [
       "<div>\n",
       "<style scoped>\n",
       "    .dataframe tbody tr th:only-of-type {\n",
       "        vertical-align: middle;\n",
       "    }\n",
       "\n",
       "    .dataframe tbody tr th {\n",
       "        vertical-align: top;\n",
       "    }\n",
       "\n",
       "    .dataframe thead th {\n",
       "        text-align: right;\n",
       "    }\n",
       "</style>\n",
       "<table border=\"1\" class=\"dataframe\">\n",
       "  <thead>\n",
       "    <tr style=\"text-align: right;\">\n",
       "      <th></th>\n",
       "      <th>Name</th>\n",
       "      <th>Platform</th>\n",
       "      <th>Year_of_Release</th>\n",
       "      <th>Genre</th>\n",
       "      <th>NA_sales</th>\n",
       "      <th>EU_sales</th>\n",
       "      <th>JP_sales</th>\n",
       "      <th>Other_sales</th>\n",
       "      <th>Critic_Score</th>\n",
       "      <th>User_Score</th>\n",
       "      <th>Rating</th>\n",
       "    </tr>\n",
       "  </thead>\n",
       "  <tbody>\n",
       "    <tr>\n",
       "      <th>7335</th>\n",
       "      <td>Conflict Zone</td>\n",
       "      <td>PS2</td>\n",
       "      <td>2002.0</td>\n",
       "      <td>Strategy</td>\n",
       "      <td>0.10</td>\n",
       "      <td>0.08</td>\n",
       "      <td>0.00</td>\n",
       "      <td>0.03</td>\n",
       "      <td>47.0</td>\n",
       "      <td>7.4</td>\n",
       "      <td>T</td>\n",
       "    </tr>\n",
       "    <tr>\n",
       "      <th>14500</th>\n",
       "      <td>Far East of Eden Shinden</td>\n",
       "      <td>NG</td>\n",
       "      <td>1995.0</td>\n",
       "      <td>Fighting</td>\n",
       "      <td>0.00</td>\n",
       "      <td>0.00</td>\n",
       "      <td>0.03</td>\n",
       "      <td>0.00</td>\n",
       "      <td>NaN</td>\n",
       "      <td>NaN</td>\n",
       "      <td>NaN</td>\n",
       "    </tr>\n",
       "    <tr>\n",
       "      <th>7692</th>\n",
       "      <td>Baldur's Gate: Dark Alliance</td>\n",
       "      <td>XB</td>\n",
       "      <td>2002.0</td>\n",
       "      <td>Role-Playing</td>\n",
       "      <td>0.15</td>\n",
       "      <td>0.04</td>\n",
       "      <td>0.00</td>\n",
       "      <td>0.01</td>\n",
       "      <td>83.0</td>\n",
       "      <td>8.3</td>\n",
       "      <td>T</td>\n",
       "    </tr>\n",
       "    <tr>\n",
       "      <th>3797</th>\n",
       "      <td>Oni</td>\n",
       "      <td>PS2</td>\n",
       "      <td>2001.0</td>\n",
       "      <td>Action</td>\n",
       "      <td>0.26</td>\n",
       "      <td>0.20</td>\n",
       "      <td>0.00</td>\n",
       "      <td>0.07</td>\n",
       "      <td>69.0</td>\n",
       "      <td>7.8</td>\n",
       "      <td>T</td>\n",
       "    </tr>\n",
       "    <tr>\n",
       "      <th>8882</th>\n",
       "      <td>Strawberry Shortcake: Game Boy Advance Video V...</td>\n",
       "      <td>GBA</td>\n",
       "      <td>2004.0</td>\n",
       "      <td>Misc</td>\n",
       "      <td>0.11</td>\n",
       "      <td>0.04</td>\n",
       "      <td>0.00</td>\n",
       "      <td>0.00</td>\n",
       "      <td>NaN</td>\n",
       "      <td>NaN</td>\n",
       "      <td>NaN</td>\n",
       "    </tr>\n",
       "    <tr>\n",
       "      <th>2465</th>\n",
       "      <td>The Evil Within</td>\n",
       "      <td>PS3</td>\n",
       "      <td>2014.0</td>\n",
       "      <td>Action</td>\n",
       "      <td>0.26</td>\n",
       "      <td>0.34</td>\n",
       "      <td>0.13</td>\n",
       "      <td>0.12</td>\n",
       "      <td>NaN</td>\n",
       "      <td>7.6</td>\n",
       "      <td>M</td>\n",
       "    </tr>\n",
       "    <tr>\n",
       "      <th>1735</th>\n",
       "      <td>Medal of Honor: Rising Sun</td>\n",
       "      <td>XB</td>\n",
       "      <td>2003.0</td>\n",
       "      <td>Shooter</td>\n",
       "      <td>0.76</td>\n",
       "      <td>0.36</td>\n",
       "      <td>0.00</td>\n",
       "      <td>0.05</td>\n",
       "      <td>65.0</td>\n",
       "      <td>5.8</td>\n",
       "      <td>T</td>\n",
       "    </tr>\n",
       "    <tr>\n",
       "      <th>9227</th>\n",
       "      <td>Master Jin Jin's IQ Challenge</td>\n",
       "      <td>DS</td>\n",
       "      <td>2006.0</td>\n",
       "      <td>Misc</td>\n",
       "      <td>0.13</td>\n",
       "      <td>0.00</td>\n",
       "      <td>0.00</td>\n",
       "      <td>0.01</td>\n",
       "      <td>38.0</td>\n",
       "      <td>tbd</td>\n",
       "      <td>E</td>\n",
       "    </tr>\n",
       "    <tr>\n",
       "      <th>1443</th>\n",
       "      <td>FIFA Soccer 09</td>\n",
       "      <td>PSP</td>\n",
       "      <td>2008.0</td>\n",
       "      <td>Sports</td>\n",
       "      <td>0.23</td>\n",
       "      <td>0.73</td>\n",
       "      <td>0.02</td>\n",
       "      <td>0.37</td>\n",
       "      <td>84.0</td>\n",
       "      <td>8.9</td>\n",
       "      <td>E</td>\n",
       "    </tr>\n",
       "    <tr>\n",
       "      <th>13495</th>\n",
       "      <td>Sotsugyou II: Neo Generation</td>\n",
       "      <td>PS</td>\n",
       "      <td>1995.0</td>\n",
       "      <td>Simulation</td>\n",
       "      <td>0.00</td>\n",
       "      <td>0.00</td>\n",
       "      <td>0.04</td>\n",
       "      <td>0.00</td>\n",
       "      <td>NaN</td>\n",
       "      <td>NaN</td>\n",
       "      <td>NaN</td>\n",
       "    </tr>\n",
       "  </tbody>\n",
       "</table>\n",
       "</div>"
      ],
      "text/plain": [
       "                                                    Name Platform  \\\n",
       "7335                                       Conflict Zone      PS2   \n",
       "14500                           Far East of Eden Shinden       NG   \n",
       "7692                        Baldur's Gate: Dark Alliance       XB   \n",
       "3797                                                 Oni      PS2   \n",
       "8882   Strawberry Shortcake: Game Boy Advance Video V...      GBA   \n",
       "2465                                     The Evil Within      PS3   \n",
       "1735                          Medal of Honor: Rising Sun       XB   \n",
       "9227                       Master Jin Jin's IQ Challenge       DS   \n",
       "1443                                      FIFA Soccer 09      PSP   \n",
       "13495                       Sotsugyou II: Neo Generation       PS   \n",
       "\n",
       "       Year_of_Release         Genre  NA_sales  EU_sales  JP_sales  \\\n",
       "7335            2002.0      Strategy      0.10      0.08      0.00   \n",
       "14500           1995.0      Fighting      0.00      0.00      0.03   \n",
       "7692            2002.0  Role-Playing      0.15      0.04      0.00   \n",
       "3797            2001.0        Action      0.26      0.20      0.00   \n",
       "8882            2004.0          Misc      0.11      0.04      0.00   \n",
       "2465            2014.0        Action      0.26      0.34      0.13   \n",
       "1735            2003.0       Shooter      0.76      0.36      0.00   \n",
       "9227            2006.0          Misc      0.13      0.00      0.00   \n",
       "1443            2008.0        Sports      0.23      0.73      0.02   \n",
       "13495           1995.0    Simulation      0.00      0.00      0.04   \n",
       "\n",
       "       Other_sales  Critic_Score User_Score Rating  \n",
       "7335          0.03          47.0        7.4      T  \n",
       "14500         0.00           NaN        NaN    NaN  \n",
       "7692          0.01          83.0        8.3      T  \n",
       "3797          0.07          69.0        7.8      T  \n",
       "8882          0.00           NaN        NaN    NaN  \n",
       "2465          0.12           NaN        7.6      M  \n",
       "1735          0.05          65.0        5.8      T  \n",
       "9227          0.01          38.0        tbd      E  \n",
       "1443          0.37          84.0        8.9      E  \n",
       "13495         0.00           NaN        NaN    NaN  "
      ]
     },
     "execution_count": 5,
     "metadata": {},
     "output_type": "execute_result"
    }
   ],
   "source": [
    "df_video_games.sample(10) # Encabezados e información de los datos"
   ]
  },
  {
   "cell_type": "code",
   "execution_count": 6,
   "metadata": {},
   "outputs": [
    {
     "name": "stdout",
     "output_type": "stream",
     "text": [
      "<class 'pandas.core.frame.DataFrame'>\n",
      "RangeIndex: 16715 entries, 0 to 16714\n",
      "Data columns (total 11 columns):\n",
      " #   Column           Non-Null Count  Dtype  \n",
      "---  ------           --------------  -----  \n",
      " 0   Name             16713 non-null  object \n",
      " 1   Platform         16715 non-null  object \n",
      " 2   Year_of_Release  16446 non-null  float64\n",
      " 3   Genre            16713 non-null  object \n",
      " 4   NA_sales         16715 non-null  float64\n",
      " 5   EU_sales         16715 non-null  float64\n",
      " 6   JP_sales         16715 non-null  float64\n",
      " 7   Other_sales      16715 non-null  float64\n",
      " 8   Critic_Score     8137 non-null   float64\n",
      " 9   User_Score       10014 non-null  object \n",
      " 10  Rating           9949 non-null   object \n",
      "dtypes: float64(6), object(5)\n",
      "memory usage: 1.4+ MB\n"
     ]
    }
   ],
   "source": [
    "df_video_games.info() # Información relevante para la reparación de los datos"
   ]
  },
  {
   "cell_type": "markdown",
   "metadata": {},
   "source": [
    "#### 2. Preparación de los datos\n",
    "\n",
    "Una vez observados los datos, se hará el Procesamiento de Datos de la siguiente manera: \n",
    "\n",
    "* Pasar los nombre de columnas a minúsculas.\n",
    "* Cambiar el tipo de dato para las columnas `year_of_release` por `int`, ya que no tendremos mayor análisis con esta fecha, y `user_score` por `float`, ya que se trata de una puntuación.\n",
    "* Tratamiento de datos nulos, los cuales se completarán mediante API request para completar al máximo datos ausente, ya que son representativos para las columnas `critic_score`, user_score, y `rating`, con un 51%, 54% y 40%  de datos faltantes respectivamente.\n",
    "* Limpieza los datos para la columna `user_score`, que contiene datos `TBD` significa \"to be determined\", los cuales se considerarán como Nan.\n",
    "* Verificación de duplicados"
   ]
  },
  {
   "cell_type": "markdown",
   "metadata": {},
   "source": [
    "<div class=\"alert alert-block alert-success\">\n",
    "<b>Comentario del revisor</b> <a class=\"tocSkip\"></a>\n",
    "    \n",
    "Muy buena lectura de los problemas.\n",
    "</div>"
   ]
  },
  {
   "cell_type": "code",
   "execution_count": 7,
   "metadata": {},
   "outputs": [],
   "source": [
    "# Nombre de columnas en minúscula\n",
    "df_video_games.columns = df_video_games.columns.str.lower() "
   ]
  },
  {
   "cell_type": "code",
   "execution_count": 8,
   "metadata": {},
   "outputs": [],
   "source": [
    "# Conversión de tipo de dato a int conservando los Nan\n",
    "df_video_games['year_of_release'] = df_video_games['year_of_release'].astype(pd.Int64Dtype()) \n",
    "\n",
    "# valores TBD se manejan como nan, y la columna queda con tipo de dato float\n",
    "df_video_games['user_score'] = pd.to_numeric(df_video_games['user_score'], errors='coerce')  "
   ]
  },
  {
   "cell_type": "markdown",
   "metadata": {},
   "source": [
    "<div class=\"alert alert-block alert-success\">\n",
    "<b>Comentario del revisor</b> <a class=\"tocSkip\"></a>\n",
    "    \n",
    "Buen trabajo.\n",
    "</div>"
   ]
  },
  {
   "cell_type": "code",
   "execution_count": 9,
   "metadata": {},
   "outputs": [
    {
     "data": {
      "text/plain": [
       "0"
      ]
     },
     "execution_count": 9,
     "metadata": {},
     "output_type": "execute_result"
    }
   ],
   "source": [
    "# Conversión de los datos a minúnculas y verificación de duplicados\n",
    "\n",
    "df_video_games = df_video_games.apply(lambda x: x.str.lower() if x.dtype == '0' else x) \n",
    "df_video_games.duplicated().sum()"
   ]
  },
  {
   "cell_type": "code",
   "execution_count": 10,
   "metadata": {},
   "outputs": [
    {
     "data": {
      "text/plain": [
       "name                0.011965\n",
       "platform            0.000000\n",
       "year_of_release     1.609333\n",
       "genre               0.011965\n",
       "na_sales            0.000000\n",
       "eu_sales            0.000000\n",
       "jp_sales            0.000000\n",
       "other_sales         0.000000\n",
       "critic_score       51.319174\n",
       "user_score         54.591684\n",
       "rating             40.478612\n",
       "dtype: float64"
      ]
     },
     "execution_count": 10,
     "metadata": {},
     "output_type": "execute_result"
    }
   ],
   "source": [
    "(df_video_games.isna().sum()/df_video_games.shape[0])*100  # Porcentaje de valores ausentes"
   ]
  },
  {
   "cell_type": "markdown",
   "metadata": {},
   "source": [
    "<font color=\"sienna\"> Los datos nulos de las columnas `name` y `genre` coinciden, por tanto se eliminan del new_new_new_dataFrame</font>"
   ]
  },
  {
   "cell_type": "code",
   "execution_count": 11,
   "metadata": {},
   "outputs": [],
   "source": [
    "df_video_games.dropna(subset=['name', 'genre'], inplace=True)"
   ]
  },
  {
   "cell_type": "code",
   "execution_count": 12,
   "metadata": {},
   "outputs": [
    {
     "data": {
      "text/plain": [
       "name               0.000000\n",
       "platform           0.000000\n",
       "year_of_release    0.016095\n",
       "genre              0.000000\n",
       "na_sales           0.000000\n",
       "eu_sales           0.000000\n",
       "jp_sales           0.000000\n",
       "other_sales        0.000000\n",
       "critic_score       0.513133\n",
       "user_score         0.545863\n",
       "rating             0.404715\n",
       "dtype: float64"
      ]
     },
     "execution_count": 12,
     "metadata": {},
     "output_type": "execute_result"
    }
   ],
   "source": [
    "df_video_games.isna().sum()/df_video_games.shape[0]\n"
   ]
  },
  {
   "cell_type": "markdown",
   "metadata": {},
   "source": [
    "#### 3. Análisis Exploratorio "
   ]
  },
  {
   "cell_type": "markdown",
   "metadata": {},
   "source": [
    "##### 3.1 Cantidad de juegos lanzados durante los años 1980 hasta 2016.\n",
    "* ¿Son significativos los datos de cada período?"
   ]
  },
  {
   "cell_type": "code",
   "execution_count": 13,
   "metadata": {},
   "outputs": [
    {
     "data": {
      "application/vnd.plotly.v1+json": {
       "config": {
        "plotlyServerURL": "https://plot.ly"
       },
       "data": [
        {
         "marker": {
          "color": [
           1980,
           1981,
           1982,
           1983,
           1984,
           1985,
           1986,
           1987,
           1988,
           1989,
           1990,
           1991,
           1992,
           1993,
           1994,
           1995,
           1996,
           1997,
           1998,
           1999,
           2000,
           2001,
           2002,
           2003,
           2004,
           2005,
           2006,
           2007,
           2008,
           2009,
           2010,
           2011,
           2012,
           2013,
           2014,
           2015,
           2016
          ],
          "colorbar": {
           "title": {
            "text": "Amount of Games"
           }
          },
          "colorscale": [
           [
            0,
            "#440154"
           ],
           [
            0.1111111111111111,
            "#482878"
           ],
           [
            0.2222222222222222,
            "#3e4989"
           ],
           [
            0.3333333333333333,
            "#31688e"
           ],
           [
            0.4444444444444444,
            "#26828e"
           ],
           [
            0.5555555555555556,
            "#1f9e89"
           ],
           [
            0.6666666666666666,
            "#35b779"
           ],
           [
            0.7777777777777778,
            "#6ece58"
           ],
           [
            0.8888888888888888,
            "#b5de2b"
           ],
           [
            1,
            "#fde725"
           ]
          ]
         },
         "type": "bar",
         "x": [
          1980,
          1981,
          1982,
          1983,
          1984,
          1985,
          1986,
          1987,
          1988,
          1989,
          1990,
          1991,
          1992,
          1993,
          1994,
          1995,
          1996,
          1997,
          1998,
          1999,
          2000,
          2001,
          2002,
          2003,
          2004,
          2005,
          2006,
          2007,
          2008,
          2009,
          2010,
          2011,
          2012,
          2013,
          2014,
          2015,
          2016
         ],
         "y": [
          9,
          46,
          36,
          17,
          14,
          14,
          21,
          16,
          15,
          17,
          16,
          41,
          43,
          60,
          121,
          219,
          263,
          289,
          379,
          338,
          350,
          482,
          829,
          775,
          762,
          939,
          1006,
          1197,
          1427,
          1426,
          1255,
          1136,
          653,
          544,
          581,
          606,
          502
         ]
        }
       ],
       "layout": {
        "paper_bgcolor": "rgba(0,0,0,0)",
        "plot_bgcolor": "rgba(0,0,0,0)",
        "template": {
         "data": {
          "bar": [
           {
            "error_x": {
             "color": "#2a3f5f"
            },
            "error_y": {
             "color": "#2a3f5f"
            },
            "marker": {
             "line": {
              "color": "#E5ECF6",
              "width": 0.5
             },
             "pattern": {
              "fillmode": "overlay",
              "size": 10,
              "solidity": 0.2
             }
            },
            "type": "bar"
           }
          ],
          "barpolar": [
           {
            "marker": {
             "line": {
              "color": "#E5ECF6",
              "width": 0.5
             },
             "pattern": {
              "fillmode": "overlay",
              "size": 10,
              "solidity": 0.2
             }
            },
            "type": "barpolar"
           }
          ],
          "carpet": [
           {
            "aaxis": {
             "endlinecolor": "#2a3f5f",
             "gridcolor": "white",
             "linecolor": "white",
             "minorgridcolor": "white",
             "startlinecolor": "#2a3f5f"
            },
            "baxis": {
             "endlinecolor": "#2a3f5f",
             "gridcolor": "white",
             "linecolor": "white",
             "minorgridcolor": "white",
             "startlinecolor": "#2a3f5f"
            },
            "type": "carpet"
           }
          ],
          "choropleth": [
           {
            "colorbar": {
             "outlinewidth": 0,
             "ticks": ""
            },
            "type": "choropleth"
           }
          ],
          "contour": [
           {
            "colorbar": {
             "outlinewidth": 0,
             "ticks": ""
            },
            "colorscale": [
             [
              0,
              "#0d0887"
             ],
             [
              0.1111111111111111,
              "#46039f"
             ],
             [
              0.2222222222222222,
              "#7201a8"
             ],
             [
              0.3333333333333333,
              "#9c179e"
             ],
             [
              0.4444444444444444,
              "#bd3786"
             ],
             [
              0.5555555555555556,
              "#d8576b"
             ],
             [
              0.6666666666666666,
              "#ed7953"
             ],
             [
              0.7777777777777778,
              "#fb9f3a"
             ],
             [
              0.8888888888888888,
              "#fdca26"
             ],
             [
              1,
              "#f0f921"
             ]
            ],
            "type": "contour"
           }
          ],
          "contourcarpet": [
           {
            "colorbar": {
             "outlinewidth": 0,
             "ticks": ""
            },
            "type": "contourcarpet"
           }
          ],
          "heatmap": [
           {
            "colorbar": {
             "outlinewidth": 0,
             "ticks": ""
            },
            "colorscale": [
             [
              0,
              "#0d0887"
             ],
             [
              0.1111111111111111,
              "#46039f"
             ],
             [
              0.2222222222222222,
              "#7201a8"
             ],
             [
              0.3333333333333333,
              "#9c179e"
             ],
             [
              0.4444444444444444,
              "#bd3786"
             ],
             [
              0.5555555555555556,
              "#d8576b"
             ],
             [
              0.6666666666666666,
              "#ed7953"
             ],
             [
              0.7777777777777778,
              "#fb9f3a"
             ],
             [
              0.8888888888888888,
              "#fdca26"
             ],
             [
              1,
              "#f0f921"
             ]
            ],
            "type": "heatmap"
           }
          ],
          "heatmapgl": [
           {
            "colorbar": {
             "outlinewidth": 0,
             "ticks": ""
            },
            "colorscale": [
             [
              0,
              "#0d0887"
             ],
             [
              0.1111111111111111,
              "#46039f"
             ],
             [
              0.2222222222222222,
              "#7201a8"
             ],
             [
              0.3333333333333333,
              "#9c179e"
             ],
             [
              0.4444444444444444,
              "#bd3786"
             ],
             [
              0.5555555555555556,
              "#d8576b"
             ],
             [
              0.6666666666666666,
              "#ed7953"
             ],
             [
              0.7777777777777778,
              "#fb9f3a"
             ],
             [
              0.8888888888888888,
              "#fdca26"
             ],
             [
              1,
              "#f0f921"
             ]
            ],
            "type": "heatmapgl"
           }
          ],
          "histogram": [
           {
            "marker": {
             "pattern": {
              "fillmode": "overlay",
              "size": 10,
              "solidity": 0.2
             }
            },
            "type": "histogram"
           }
          ],
          "histogram2d": [
           {
            "colorbar": {
             "outlinewidth": 0,
             "ticks": ""
            },
            "colorscale": [
             [
              0,
              "#0d0887"
             ],
             [
              0.1111111111111111,
              "#46039f"
             ],
             [
              0.2222222222222222,
              "#7201a8"
             ],
             [
              0.3333333333333333,
              "#9c179e"
             ],
             [
              0.4444444444444444,
              "#bd3786"
             ],
             [
              0.5555555555555556,
              "#d8576b"
             ],
             [
              0.6666666666666666,
              "#ed7953"
             ],
             [
              0.7777777777777778,
              "#fb9f3a"
             ],
             [
              0.8888888888888888,
              "#fdca26"
             ],
             [
              1,
              "#f0f921"
             ]
            ],
            "type": "histogram2d"
           }
          ],
          "histogram2dcontour": [
           {
            "colorbar": {
             "outlinewidth": 0,
             "ticks": ""
            },
            "colorscale": [
             [
              0,
              "#0d0887"
             ],
             [
              0.1111111111111111,
              "#46039f"
             ],
             [
              0.2222222222222222,
              "#7201a8"
             ],
             [
              0.3333333333333333,
              "#9c179e"
             ],
             [
              0.4444444444444444,
              "#bd3786"
             ],
             [
              0.5555555555555556,
              "#d8576b"
             ],
             [
              0.6666666666666666,
              "#ed7953"
             ],
             [
              0.7777777777777778,
              "#fb9f3a"
             ],
             [
              0.8888888888888888,
              "#fdca26"
             ],
             [
              1,
              "#f0f921"
             ]
            ],
            "type": "histogram2dcontour"
           }
          ],
          "mesh3d": [
           {
            "colorbar": {
             "outlinewidth": 0,
             "ticks": ""
            },
            "type": "mesh3d"
           }
          ],
          "parcoords": [
           {
            "line": {
             "colorbar": {
              "outlinewidth": 0,
              "ticks": ""
             }
            },
            "type": "parcoords"
           }
          ],
          "pie": [
           {
            "automargin": true,
            "type": "pie"
           }
          ],
          "scatter": [
           {
            "fillpattern": {
             "fillmode": "overlay",
             "size": 10,
             "solidity": 0.2
            },
            "type": "scatter"
           }
          ],
          "scatter3d": [
           {
            "line": {
             "colorbar": {
              "outlinewidth": 0,
              "ticks": ""
             }
            },
            "marker": {
             "colorbar": {
              "outlinewidth": 0,
              "ticks": ""
             }
            },
            "type": "scatter3d"
           }
          ],
          "scattercarpet": [
           {
            "marker": {
             "colorbar": {
              "outlinewidth": 0,
              "ticks": ""
             }
            },
            "type": "scattercarpet"
           }
          ],
          "scattergeo": [
           {
            "marker": {
             "colorbar": {
              "outlinewidth": 0,
              "ticks": ""
             }
            },
            "type": "scattergeo"
           }
          ],
          "scattergl": [
           {
            "marker": {
             "colorbar": {
              "outlinewidth": 0,
              "ticks": ""
             }
            },
            "type": "scattergl"
           }
          ],
          "scattermapbox": [
           {
            "marker": {
             "colorbar": {
              "outlinewidth": 0,
              "ticks": ""
             }
            },
            "type": "scattermapbox"
           }
          ],
          "scatterpolar": [
           {
            "marker": {
             "colorbar": {
              "outlinewidth": 0,
              "ticks": ""
             }
            },
            "type": "scatterpolar"
           }
          ],
          "scatterpolargl": [
           {
            "marker": {
             "colorbar": {
              "outlinewidth": 0,
              "ticks": ""
             }
            },
            "type": "scatterpolargl"
           }
          ],
          "scatterternary": [
           {
            "marker": {
             "colorbar": {
              "outlinewidth": 0,
              "ticks": ""
             }
            },
            "type": "scatterternary"
           }
          ],
          "surface": [
           {
            "colorbar": {
             "outlinewidth": 0,
             "ticks": ""
            },
            "colorscale": [
             [
              0,
              "#0d0887"
             ],
             [
              0.1111111111111111,
              "#46039f"
             ],
             [
              0.2222222222222222,
              "#7201a8"
             ],
             [
              0.3333333333333333,
              "#9c179e"
             ],
             [
              0.4444444444444444,
              "#bd3786"
             ],
             [
              0.5555555555555556,
              "#d8576b"
             ],
             [
              0.6666666666666666,
              "#ed7953"
             ],
             [
              0.7777777777777778,
              "#fb9f3a"
             ],
             [
              0.8888888888888888,
              "#fdca26"
             ],
             [
              1,
              "#f0f921"
             ]
            ],
            "type": "surface"
           }
          ],
          "table": [
           {
            "cells": {
             "fill": {
              "color": "#EBF0F8"
             },
             "line": {
              "color": "white"
             }
            },
            "header": {
             "fill": {
              "color": "#C8D4E3"
             },
             "line": {
              "color": "white"
             }
            },
            "type": "table"
           }
          ]
         },
         "layout": {
          "annotationdefaults": {
           "arrowcolor": "#2a3f5f",
           "arrowhead": 0,
           "arrowwidth": 1
          },
          "autotypenumbers": "strict",
          "coloraxis": {
           "colorbar": {
            "outlinewidth": 0,
            "ticks": ""
           }
          },
          "colorscale": {
           "diverging": [
            [
             0,
             "#8e0152"
            ],
            [
             0.1,
             "#c51b7d"
            ],
            [
             0.2,
             "#de77ae"
            ],
            [
             0.3,
             "#f1b6da"
            ],
            [
             0.4,
             "#fde0ef"
            ],
            [
             0.5,
             "#f7f7f7"
            ],
            [
             0.6,
             "#e6f5d0"
            ],
            [
             0.7,
             "#b8e186"
            ],
            [
             0.8,
             "#7fbc41"
            ],
            [
             0.9,
             "#4d9221"
            ],
            [
             1,
             "#276419"
            ]
           ],
           "sequential": [
            [
             0,
             "#0d0887"
            ],
            [
             0.1111111111111111,
             "#46039f"
            ],
            [
             0.2222222222222222,
             "#7201a8"
            ],
            [
             0.3333333333333333,
             "#9c179e"
            ],
            [
             0.4444444444444444,
             "#bd3786"
            ],
            [
             0.5555555555555556,
             "#d8576b"
            ],
            [
             0.6666666666666666,
             "#ed7953"
            ],
            [
             0.7777777777777778,
             "#fb9f3a"
            ],
            [
             0.8888888888888888,
             "#fdca26"
            ],
            [
             1,
             "#f0f921"
            ]
           ],
           "sequentialminus": [
            [
             0,
             "#0d0887"
            ],
            [
             0.1111111111111111,
             "#46039f"
            ],
            [
             0.2222222222222222,
             "#7201a8"
            ],
            [
             0.3333333333333333,
             "#9c179e"
            ],
            [
             0.4444444444444444,
             "#bd3786"
            ],
            [
             0.5555555555555556,
             "#d8576b"
            ],
            [
             0.6666666666666666,
             "#ed7953"
            ],
            [
             0.7777777777777778,
             "#fb9f3a"
            ],
            [
             0.8888888888888888,
             "#fdca26"
            ],
            [
             1,
             "#f0f921"
            ]
           ]
          },
          "colorway": [
           "#636efa",
           "#EF553B",
           "#00cc96",
           "#ab63fa",
           "#FFA15A",
           "#19d3f3",
           "#FF6692",
           "#B6E880",
           "#FF97FF",
           "#FECB52"
          ],
          "font": {
           "color": "#2a3f5f"
          },
          "geo": {
           "bgcolor": "white",
           "lakecolor": "white",
           "landcolor": "#E5ECF6",
           "showlakes": true,
           "showland": true,
           "subunitcolor": "white"
          },
          "hoverlabel": {
           "align": "left"
          },
          "hovermode": "closest",
          "mapbox": {
           "style": "light"
          },
          "paper_bgcolor": "white",
          "plot_bgcolor": "#E5ECF6",
          "polar": {
           "angularaxis": {
            "gridcolor": "white",
            "linecolor": "white",
            "ticks": ""
           },
           "bgcolor": "#E5ECF6",
           "radialaxis": {
            "gridcolor": "white",
            "linecolor": "white",
            "ticks": ""
           }
          },
          "scene": {
           "xaxis": {
            "backgroundcolor": "#E5ECF6",
            "gridcolor": "white",
            "gridwidth": 2,
            "linecolor": "white",
            "showbackground": true,
            "ticks": "",
            "zerolinecolor": "white"
           },
           "yaxis": {
            "backgroundcolor": "#E5ECF6",
            "gridcolor": "white",
            "gridwidth": 2,
            "linecolor": "white",
            "showbackground": true,
            "ticks": "",
            "zerolinecolor": "white"
           },
           "zaxis": {
            "backgroundcolor": "#E5ECF6",
            "gridcolor": "white",
            "gridwidth": 2,
            "linecolor": "white",
            "showbackground": true,
            "ticks": "",
            "zerolinecolor": "white"
           }
          },
          "shapedefaults": {
           "line": {
            "color": "#2a3f5f"
           }
          },
          "ternary": {
           "aaxis": {
            "gridcolor": "white",
            "linecolor": "white",
            "ticks": ""
           },
           "baxis": {
            "gridcolor": "white",
            "linecolor": "white",
            "ticks": ""
           },
           "bgcolor": "#E5ECF6",
           "caxis": {
            "gridcolor": "white",
            "linecolor": "white",
            "ticks": ""
           }
          },
          "title": {
           "x": 0.05
          },
          "xaxis": {
           "automargin": true,
           "gridcolor": "white",
           "linecolor": "white",
           "ticks": "",
           "title": {
            "standoff": 15
           },
           "zerolinecolor": "white",
           "zerolinewidth": 2
          },
          "yaxis": {
           "automargin": true,
           "gridcolor": "white",
           "linecolor": "white",
           "ticks": "",
           "title": {
            "standoff": 15
           },
           "zerolinecolor": "white",
           "zerolinewidth": 2
          }
         }
        },
        "title": {
         "text": "Amount of games releases by Year"
        },
        "xaxis": {
         "title": {
          "text": "Year"
         }
        },
        "yaxis": {
         "title": {
          "text": "Amount"
         }
        }
       }
      }
     },
     "metadata": {},
     "output_type": "display_data"
    }
   ],
   "source": [
    "# Opción con pivot_table\n",
    "\"\"\" games_by_year = df_video_games.pivot_table(index='year_of_release', values='name', aggfunc='count')\n",
    "games_by_year.columns = ['amount_of_games']\n",
    "games_by_year.reset_index(inplace=True) \"\"\"\n",
    "\n",
    "# Opción groupby y pivot_table\n",
    "graph_bar = df_video_games.groupby('year_of_release')['name'].count().reset_index().rename(columns={'name': 'amount_of_games'}) \n",
    "\n",
    "fig_0 = go.Figure()\n",
    "fig_0.add_trace(go.Bar(\n",
    "               x=graph_bar['year_of_release'],\n",
    "               y=graph_bar['amount_of_games'], \n",
    "               marker=dict(\n",
    "                   color=graph_bar['year_of_release'],  # Use a numeric array for color scale\n",
    "                   colorscale='Viridis',  # Set the colorscale\n",
    "                   colorbar=dict(title='Amount of Games')  # Add colorbar with title\n",
    "               )\n",
    "            ))\n",
    "fig_0.update_layout(\n",
    "        plot_bgcolor='rgba(0,0,0,0)',\n",
    "        paper_bgcolor='rgba(0,0,0,0)',\n",
    "        #width=700,\n",
    "        #height=700,\n",
    "        title='Amount of games releases by Year',\n",
    "        xaxis_title='Year',\n",
    "        yaxis_title='Amount'\n",
    ")\n",
    "fig_0.show()"
   ]
  },
  {
   "cell_type": "markdown",
   "metadata": {},
   "source": [
    "#### 3.2 Ventas por plataforma"
   ]
  },
  {
   "cell_type": "code",
   "execution_count": 14,
   "metadata": {},
   "outputs": [],
   "source": [
    "df_video_games['total_sales_in_millions_usd'] = df_video_games[['na_sales', 'eu_sales', 'jp_sales', 'other_sales']].sum(axis=1)  # Agregando columna con el total de ventas\n",
    "\n",
    "# Reordenando el orden de las columnas\n",
    "column_order = [\n",
    "    'name', 'platform', 'year_of_release', 'genre', 'na_sales', 'eu_sales',\n",
    "    'jp_sales', 'other_sales', 'total_sales_in_millions_usd', 'critic_score', 'user_score', 'rating'\n",
    "] \n",
    "\n",
    "df_video_games = df_video_games[column_order] "
   ]
  },
  {
   "cell_type": "markdown",
   "metadata": {},
   "source": [
    "<div class=\"alert alert-block alert-success\">\n",
    "<b>Comentario del revisor</b> <a class=\"tocSkip\"></a>\n",
    "    \n",
    "Bien.\n",
    "</div>"
   ]
  },
  {
   "cell_type": "code",
   "execution_count": 15,
   "metadata": {},
   "outputs": [
    {
     "data": {
      "text/html": [
       "<div>\n",
       "<style scoped>\n",
       "    .dataframe tbody tr th:only-of-type {\n",
       "        vertical-align: middle;\n",
       "    }\n",
       "\n",
       "    .dataframe tbody tr th {\n",
       "        vertical-align: top;\n",
       "    }\n",
       "\n",
       "    .dataframe thead th {\n",
       "        text-align: right;\n",
       "    }\n",
       "</style>\n",
       "<table border=\"1\" class=\"dataframe\">\n",
       "  <thead>\n",
       "    <tr style=\"text-align: right;\">\n",
       "      <th></th>\n",
       "      <th>name</th>\n",
       "      <th>platform</th>\n",
       "      <th>year_of_release</th>\n",
       "      <th>genre</th>\n",
       "      <th>na_sales</th>\n",
       "      <th>eu_sales</th>\n",
       "      <th>jp_sales</th>\n",
       "      <th>other_sales</th>\n",
       "      <th>total_sales_in_millions_usd</th>\n",
       "      <th>critic_score</th>\n",
       "      <th>user_score</th>\n",
       "      <th>rating</th>\n",
       "    </tr>\n",
       "  </thead>\n",
       "  <tbody>\n",
       "  </tbody>\n",
       "</table>\n",
       "</div>"
      ],
      "text/plain": [
       "Empty DataFrame\n",
       "Columns: [name, platform, year_of_release, genre, na_sales, eu_sales, jp_sales, other_sales, total_sales_in_millions_usd, critic_score, user_score, rating]\n",
       "Index: []"
      ]
     },
     "execution_count": 15,
     "metadata": {},
     "output_type": "execute_result"
    }
   ],
   "source": [
    "# Verificación de juegos que no tuvieron ventas / Eliminación de dos juegos sin ventas\n",
    "\n",
    "(df_video_games.loc[df_video_games['total_sales_in_millions_usd'] == 0]).dropna()"
   ]
  },
  {
   "cell_type": "code",
   "execution_count": 16,
   "metadata": {},
   "outputs": [
    {
     "data": {
      "text/html": [
       "<div>\n",
       "<style scoped>\n",
       "    .dataframe tbody tr th:only-of-type {\n",
       "        vertical-align: middle;\n",
       "    }\n",
       "\n",
       "    .dataframe tbody tr th {\n",
       "        vertical-align: top;\n",
       "    }\n",
       "\n",
       "    .dataframe thead th {\n",
       "        text-align: right;\n",
       "    }\n",
       "</style>\n",
       "<table border=\"1\" class=\"dataframe\">\n",
       "  <thead>\n",
       "    <tr style=\"text-align: right;\">\n",
       "      <th></th>\n",
       "      <th>platform</th>\n",
       "      <th>year_of_release</th>\n",
       "      <th>total_sales_in_millions_usd</th>\n",
       "    </tr>\n",
       "  </thead>\n",
       "  <tbody>\n",
       "    <tr>\n",
       "      <th>0</th>\n",
       "      <td>PS</td>\n",
       "      <td>1998</td>\n",
       "      <td>169.49</td>\n",
       "    </tr>\n",
       "    <tr>\n",
       "      <th>1</th>\n",
       "      <td>PS2</td>\n",
       "      <td>2001</td>\n",
       "      <td>166.43</td>\n",
       "    </tr>\n",
       "    <tr>\n",
       "      <th>2</th>\n",
       "      <td>PS2</td>\n",
       "      <td>2002</td>\n",
       "      <td>205.38</td>\n",
       "    </tr>\n",
       "    <tr>\n",
       "      <th>3</th>\n",
       "      <td>PS2</td>\n",
       "      <td>2003</td>\n",
       "      <td>184.31</td>\n",
       "    </tr>\n",
       "    <tr>\n",
       "      <th>4</th>\n",
       "      <td>PS2</td>\n",
       "      <td>2004</td>\n",
       "      <td>211.81</td>\n",
       "    </tr>\n",
       "    <tr>\n",
       "      <th>5</th>\n",
       "      <td>PS2</td>\n",
       "      <td>2005</td>\n",
       "      <td>160.66</td>\n",
       "    </tr>\n",
       "    <tr>\n",
       "      <th>6</th>\n",
       "      <td>Wii</td>\n",
       "      <td>2008</td>\n",
       "      <td>171.32</td>\n",
       "    </tr>\n",
       "    <tr>\n",
       "      <th>7</th>\n",
       "      <td>Wii</td>\n",
       "      <td>2009</td>\n",
       "      <td>206.97</td>\n",
       "    </tr>\n",
       "    <tr>\n",
       "      <th>8</th>\n",
       "      <td>X360</td>\n",
       "      <td>2010</td>\n",
       "      <td>170.03</td>\n",
       "    </tr>\n",
       "    <tr>\n",
       "      <th>9</th>\n",
       "      <td>PS3</td>\n",
       "      <td>2011</td>\n",
       "      <td>156.78</td>\n",
       "    </tr>\n",
       "  </tbody>\n",
       "</table>\n",
       "</div>"
      ],
      "text/plain": [
       "  platform  year_of_release  total_sales_in_millions_usd\n",
       "0       PS             1998                       169.49\n",
       "1      PS2             2001                       166.43\n",
       "2      PS2             2002                       205.38\n",
       "3      PS2             2003                       184.31\n",
       "4      PS2             2004                       211.81\n",
       "5      PS2             2005                       160.66\n",
       "6      Wii             2008                       171.32\n",
       "7      Wii             2009                       206.97\n",
       "8     X360             2010                       170.03\n",
       "9      PS3             2011                       156.78"
      ]
     },
     "execution_count": 16,
     "metadata": {},
     "output_type": "execute_result"
    }
   ],
   "source": [
    "# Las 10 plataformas con más ventas durante un periodo\n",
    "\n",
    "sales_by_platform = (\n",
    "    df_video_games.groupby(['platform', 'year_of_release'])['total_sales_in_millions_usd']\n",
    "    .sum()\n",
    "    .reset_index()\n",
    "    .sort_values('total_sales_in_millions_usd', ignore_index=True)\n",
    "    .tail(10)\n",
    "    .sort_values('year_of_release', ignore_index=True)\n",
    "    .reset_index(drop=True)\n",
    ")\n",
    "sales_by_platform"
   ]
  },
  {
   "cell_type": "code",
   "execution_count": 17,
   "metadata": {},
   "outputs": [
    {
     "data": {
      "text/html": [
       "<div>\n",
       "<style scoped>\n",
       "    .dataframe tbody tr th:only-of-type {\n",
       "        vertical-align: middle;\n",
       "    }\n",
       "\n",
       "    .dataframe tbody tr th {\n",
       "        vertical-align: top;\n",
       "    }\n",
       "\n",
       "    .dataframe thead th {\n",
       "        text-align: right;\n",
       "    }\n",
       "</style>\n",
       "<table border=\"1\" class=\"dataframe\">\n",
       "  <thead>\n",
       "    <tr style=\"text-align: right;\">\n",
       "      <th></th>\n",
       "      <th>platform</th>\n",
       "      <th>total_sales_in_millions_usd</th>\n",
       "    </tr>\n",
       "  </thead>\n",
       "  <tbody>\n",
       "    <tr>\n",
       "      <th>0</th>\n",
       "      <td>PS2</td>\n",
       "      <td>1255.77</td>\n",
       "    </tr>\n",
       "    <tr>\n",
       "      <th>1</th>\n",
       "      <td>X360</td>\n",
       "      <td>971.42</td>\n",
       "    </tr>\n",
       "    <tr>\n",
       "      <th>2</th>\n",
       "      <td>PS3</td>\n",
       "      <td>939.65</td>\n",
       "    </tr>\n",
       "    <tr>\n",
       "      <th>3</th>\n",
       "      <td>Wii</td>\n",
       "      <td>907.51</td>\n",
       "    </tr>\n",
       "    <tr>\n",
       "      <th>4</th>\n",
       "      <td>DS</td>\n",
       "      <td>806.12</td>\n",
       "    </tr>\n",
       "    <tr>\n",
       "      <th>5</th>\n",
       "      <td>PS</td>\n",
       "      <td>730.86</td>\n",
       "    </tr>\n",
       "    <tr>\n",
       "      <th>6</th>\n",
       "      <td>GBA</td>\n",
       "      <td>317.85</td>\n",
       "    </tr>\n",
       "    <tr>\n",
       "      <th>7</th>\n",
       "      <td>PS4</td>\n",
       "      <td>314.14</td>\n",
       "    </tr>\n",
       "    <tr>\n",
       "      <th>8</th>\n",
       "      <td>PSP</td>\n",
       "      <td>294.05</td>\n",
       "    </tr>\n",
       "    <tr>\n",
       "      <th>9</th>\n",
       "      <td>PC</td>\n",
       "      <td>259.52</td>\n",
       "    </tr>\n",
       "  </tbody>\n",
       "</table>\n",
       "</div>"
      ],
      "text/plain": [
       "  platform  total_sales_in_millions_usd\n",
       "0      PS2                      1255.77\n",
       "1     X360                       971.42\n",
       "2      PS3                       939.65\n",
       "3      Wii                       907.51\n",
       "4       DS                       806.12\n",
       "5       PS                       730.86\n",
       "6      GBA                       317.85\n",
       "7      PS4                       314.14\n",
       "8      PSP                       294.05\n",
       "9       PC                       259.52"
      ]
     },
     "execution_count": 17,
     "metadata": {},
     "output_type": "execute_result"
    }
   ],
   "source": [
    "# Las 10 plataformas con más ventas durante el periodo de 1980 a 2016\n",
    "\n",
    "top10_sales_by_platform = (\n",
    "    df_video_games.groupby('platform',)['total_sales_in_millions_usd']\n",
    "    .sum()\n",
    "    .reset_index(name='total_sales_in_millions_usd')\n",
    "    .sort_values('total_sales_in_millions_usd', ignore_index=True, ascending=False)\n",
    "    .head(10)\n",
    ")\n",
    "\n",
    "top10_sales_by_platform\n"
   ]
  },
  {
   "cell_type": "code",
   "execution_count": 18,
   "metadata": {},
   "outputs": [
    {
     "data": {
      "application/vnd.plotly.v1+json": {
       "config": {
        "plotlyServerURL": "https://plot.ly"
       },
       "data": [
        {
         "marker": {
          "color": "rgba(196, 149, 57, 0.7)",
          "line": {
           "color": "rgba(196, 149, 57, 1)"
          }
         },
         "name": "PS2",
         "type": "bar",
         "x": [
          2000,
          2001,
          2002,
          2003,
          2004,
          2005,
          2006,
          2007,
          2008,
          2009,
          2010,
          2011
         ],
         "y": [
          39.17,
          166.43,
          205.38,
          184.31,
          211.81,
          160.66,
          103.42,
          75.99,
          53.9,
          26.4,
          5.64,
          0.45
         ]
        },
        {
         "marker": {
          "color": "rgba(143, 95, 3, 0.7)",
          "line": {
           "color": "rgba(143, 95, 3, 1)"
          }
         },
         "name": "X360",
         "type": "bar",
         "x": [
          2005,
          2006,
          2007,
          2008,
          2009,
          2010,
          2011,
          2012,
          2013,
          2014,
          2015,
          2016
         ],
         "y": [
          8.25,
          51.620000000000005,
          95.41,
          135.26,
          120.29,
          170.03,
          143.84,
          99.74000000000001,
          88.58,
          34.74,
          11.959999999999999,
          1.52
         ]
        },
        {
         "marker": {
          "color": "rgba(250, 159, 37, 0.7)",
          "line": {
           "color": "rgba(250, 159, 37, 1)"
          }
         },
         "name": "PS3",
         "type": "bar",
         "x": [
          2006,
          2007,
          2008,
          2009,
          2010,
          2011,
          2012,
          2013,
          2014,
          2015,
          2016
         ],
         "y": [
          20.96,
          73.19,
          118.52,
          130.93,
          142.17,
          156.78,
          107.36,
          113.25,
          47.760000000000005,
          16.82,
          3.6
         ]
        },
        {
         "marker": {
          "color": "rgba(247, 127, 0, 0.7)",
          "line": {
           "color": "rgba(247, 127, 0, 1)"
          }
         },
         "name": "Wii",
         "type": "bar",
         "x": [
          2006,
          2007,
          2008,
          2009,
          2010,
          2011,
          2012,
          2013,
          2014,
          2015,
          2016
         ],
         "y": [
          137.15,
          152.77,
          171.32,
          206.97,
          127.95,
          59.65,
          21.71,
          8.59,
          3.75,
          1.14,
          0.18
         ]
        },
        {
         "marker": {
          "color": "rgba(231, 84, 20, 0.7)",
          "line": {
           "color": "rgba(231, 84, 20, 1)"
          }
         },
         "name": "DS",
         "type": "bar",
         "x": [
          1985,
          2004,
          2005,
          2006,
          2007,
          2008,
          2009,
          2010,
          2011,
          2012,
          2013
         ],
         "y": [
          0.02,
          17.27,
          130.14,
          119.81,
          146.94,
          145.31,
          119.54,
          85.02,
          26.18,
          11.01,
          1.54
         ]
        },
        {
         "marker": {
          "color": "rgba(214, 40, 40, 0.7)",
          "line": {
           "color": "rgba(214, 40, 40, 1)"
          }
         },
         "name": "PS",
         "type": "bar",
         "x": [
          1994,
          1995,
          1996,
          1997,
          1998,
          1999,
          2000,
          2001,
          2002,
          2003
         ],
         "y": [
          6.03,
          35.96,
          94.7,
          136.17000000000002,
          169.49,
          144.53,
          96.37,
          35.59,
          6.67,
          2.0700000000000003
         ]
        },
        {
         "marker": {
          "color": "rgba(161, 42, 49, 0.7)",
          "line": {
           "color": "rgba(161, 42, 49, 1)"
          }
         },
         "name": "GBA",
         "type": "bar",
         "x": [
          2000,
          2001,
          2002,
          2003,
          2004,
          2005,
          2006,
          2007
         ],
         "y": [
          0.07,
          61.53,
          74.16,
          56.67,
          77.91,
          33.86,
          5.28,
          3.4
         ]
        },
        {
         "marker": {
          "color": "rgba(107, 44, 57, 0.7)",
          "line": {
           "color": "rgba(107, 44, 57, 1)"
          }
         },
         "name": "PS4",
         "type": "bar",
         "x": [
          2013,
          2014,
          2015,
          2016
         ],
         "y": [
          25.99,
          100,
          118.9,
          69.25
         ]
        },
        {
         "marker": {
          "color": "rgba(54, 46, 65, 0.7)",
          "line": {
           "color": "rgba(54, 46, 65, 1)"
          }
         },
         "name": "PSP",
         "type": "bar",
         "x": [
          2004,
          2005,
          2006,
          2007,
          2008,
          2009,
          2010,
          2011,
          2012,
          2013,
          2014,
          2015
         ],
         "y": [
          7.0600000000000005,
          43.84,
          55.32,
          46.93,
          34.55,
          37.78,
          35.04,
          17.82,
          7.69,
          3.14,
          0.24,
          0.12
         ]
        },
        {
         "marker": {
          "color": "rgba(0, 48, 73, 0.7)",
          "line": {
           "color": "rgba(0, 48, 73, 1)"
          }
         },
         "name": "PC",
         "type": "bar",
         "x": [
          1985,
          1988,
          1992,
          1994,
          1995,
          1996,
          1997,
          1998,
          1999,
          2000,
          2001,
          2002,
          2003,
          2004,
          2005,
          2006,
          2007,
          2008,
          2009,
          2010,
          2011,
          2012,
          2013,
          2014,
          2015,
          2016
         ],
         "y": [
          0.04,
          0.03,
          3.0300000000000002,
          12.87,
          4.22,
          10.58,
          11.27,
          3.2600000000000002,
          4.74,
          4.659999999999999,
          5.470000000000001,
          8.57,
          8.84,
          10.39,
          4.37,
          2.85,
          9.28,
          12.42,
          16.91,
          24.28,
          35.03,
          23.22,
          12.38,
          13.280000000000001,
          8.520000000000001,
          5.25
         ]
        }
       ],
       "layout": {
        "bargap": 0.1,
        "barmode": "stack",
        "paper_bgcolor": "rgba(0,0,0,0)",
        "plot_bgcolor": "rgba(0,0,0,0)",
        "template": {
         "data": {
          "bar": [
           {
            "error_x": {
             "color": "#2a3f5f"
            },
            "error_y": {
             "color": "#2a3f5f"
            },
            "marker": {
             "line": {
              "color": "#E5ECF6",
              "width": 0.5
             },
             "pattern": {
              "fillmode": "overlay",
              "size": 10,
              "solidity": 0.2
             }
            },
            "type": "bar"
           }
          ],
          "barpolar": [
           {
            "marker": {
             "line": {
              "color": "#E5ECF6",
              "width": 0.5
             },
             "pattern": {
              "fillmode": "overlay",
              "size": 10,
              "solidity": 0.2
             }
            },
            "type": "barpolar"
           }
          ],
          "carpet": [
           {
            "aaxis": {
             "endlinecolor": "#2a3f5f",
             "gridcolor": "white",
             "linecolor": "white",
             "minorgridcolor": "white",
             "startlinecolor": "#2a3f5f"
            },
            "baxis": {
             "endlinecolor": "#2a3f5f",
             "gridcolor": "white",
             "linecolor": "white",
             "minorgridcolor": "white",
             "startlinecolor": "#2a3f5f"
            },
            "type": "carpet"
           }
          ],
          "choropleth": [
           {
            "colorbar": {
             "outlinewidth": 0,
             "ticks": ""
            },
            "type": "choropleth"
           }
          ],
          "contour": [
           {
            "colorbar": {
             "outlinewidth": 0,
             "ticks": ""
            },
            "colorscale": [
             [
              0,
              "#0d0887"
             ],
             [
              0.1111111111111111,
              "#46039f"
             ],
             [
              0.2222222222222222,
              "#7201a8"
             ],
             [
              0.3333333333333333,
              "#9c179e"
             ],
             [
              0.4444444444444444,
              "#bd3786"
             ],
             [
              0.5555555555555556,
              "#d8576b"
             ],
             [
              0.6666666666666666,
              "#ed7953"
             ],
             [
              0.7777777777777778,
              "#fb9f3a"
             ],
             [
              0.8888888888888888,
              "#fdca26"
             ],
             [
              1,
              "#f0f921"
             ]
            ],
            "type": "contour"
           }
          ],
          "contourcarpet": [
           {
            "colorbar": {
             "outlinewidth": 0,
             "ticks": ""
            },
            "type": "contourcarpet"
           }
          ],
          "heatmap": [
           {
            "colorbar": {
             "outlinewidth": 0,
             "ticks": ""
            },
            "colorscale": [
             [
              0,
              "#0d0887"
             ],
             [
              0.1111111111111111,
              "#46039f"
             ],
             [
              0.2222222222222222,
              "#7201a8"
             ],
             [
              0.3333333333333333,
              "#9c179e"
             ],
             [
              0.4444444444444444,
              "#bd3786"
             ],
             [
              0.5555555555555556,
              "#d8576b"
             ],
             [
              0.6666666666666666,
              "#ed7953"
             ],
             [
              0.7777777777777778,
              "#fb9f3a"
             ],
             [
              0.8888888888888888,
              "#fdca26"
             ],
             [
              1,
              "#f0f921"
             ]
            ],
            "type": "heatmap"
           }
          ],
          "heatmapgl": [
           {
            "colorbar": {
             "outlinewidth": 0,
             "ticks": ""
            },
            "colorscale": [
             [
              0,
              "#0d0887"
             ],
             [
              0.1111111111111111,
              "#46039f"
             ],
             [
              0.2222222222222222,
              "#7201a8"
             ],
             [
              0.3333333333333333,
              "#9c179e"
             ],
             [
              0.4444444444444444,
              "#bd3786"
             ],
             [
              0.5555555555555556,
              "#d8576b"
             ],
             [
              0.6666666666666666,
              "#ed7953"
             ],
             [
              0.7777777777777778,
              "#fb9f3a"
             ],
             [
              0.8888888888888888,
              "#fdca26"
             ],
             [
              1,
              "#f0f921"
             ]
            ],
            "type": "heatmapgl"
           }
          ],
          "histogram": [
           {
            "marker": {
             "pattern": {
              "fillmode": "overlay",
              "size": 10,
              "solidity": 0.2
             }
            },
            "type": "histogram"
           }
          ],
          "histogram2d": [
           {
            "colorbar": {
             "outlinewidth": 0,
             "ticks": ""
            },
            "colorscale": [
             [
              0,
              "#0d0887"
             ],
             [
              0.1111111111111111,
              "#46039f"
             ],
             [
              0.2222222222222222,
              "#7201a8"
             ],
             [
              0.3333333333333333,
              "#9c179e"
             ],
             [
              0.4444444444444444,
              "#bd3786"
             ],
             [
              0.5555555555555556,
              "#d8576b"
             ],
             [
              0.6666666666666666,
              "#ed7953"
             ],
             [
              0.7777777777777778,
              "#fb9f3a"
             ],
             [
              0.8888888888888888,
              "#fdca26"
             ],
             [
              1,
              "#f0f921"
             ]
            ],
            "type": "histogram2d"
           }
          ],
          "histogram2dcontour": [
           {
            "colorbar": {
             "outlinewidth": 0,
             "ticks": ""
            },
            "colorscale": [
             [
              0,
              "#0d0887"
             ],
             [
              0.1111111111111111,
              "#46039f"
             ],
             [
              0.2222222222222222,
              "#7201a8"
             ],
             [
              0.3333333333333333,
              "#9c179e"
             ],
             [
              0.4444444444444444,
              "#bd3786"
             ],
             [
              0.5555555555555556,
              "#d8576b"
             ],
             [
              0.6666666666666666,
              "#ed7953"
             ],
             [
              0.7777777777777778,
              "#fb9f3a"
             ],
             [
              0.8888888888888888,
              "#fdca26"
             ],
             [
              1,
              "#f0f921"
             ]
            ],
            "type": "histogram2dcontour"
           }
          ],
          "mesh3d": [
           {
            "colorbar": {
             "outlinewidth": 0,
             "ticks": ""
            },
            "type": "mesh3d"
           }
          ],
          "parcoords": [
           {
            "line": {
             "colorbar": {
              "outlinewidth": 0,
              "ticks": ""
             }
            },
            "type": "parcoords"
           }
          ],
          "pie": [
           {
            "automargin": true,
            "type": "pie"
           }
          ],
          "scatter": [
           {
            "fillpattern": {
             "fillmode": "overlay",
             "size": 10,
             "solidity": 0.2
            },
            "type": "scatter"
           }
          ],
          "scatter3d": [
           {
            "line": {
             "colorbar": {
              "outlinewidth": 0,
              "ticks": ""
             }
            },
            "marker": {
             "colorbar": {
              "outlinewidth": 0,
              "ticks": ""
             }
            },
            "type": "scatter3d"
           }
          ],
          "scattercarpet": [
           {
            "marker": {
             "colorbar": {
              "outlinewidth": 0,
              "ticks": ""
             }
            },
            "type": "scattercarpet"
           }
          ],
          "scattergeo": [
           {
            "marker": {
             "colorbar": {
              "outlinewidth": 0,
              "ticks": ""
             }
            },
            "type": "scattergeo"
           }
          ],
          "scattergl": [
           {
            "marker": {
             "colorbar": {
              "outlinewidth": 0,
              "ticks": ""
             }
            },
            "type": "scattergl"
           }
          ],
          "scattermapbox": [
           {
            "marker": {
             "colorbar": {
              "outlinewidth": 0,
              "ticks": ""
             }
            },
            "type": "scattermapbox"
           }
          ],
          "scatterpolar": [
           {
            "marker": {
             "colorbar": {
              "outlinewidth": 0,
              "ticks": ""
             }
            },
            "type": "scatterpolar"
           }
          ],
          "scatterpolargl": [
           {
            "marker": {
             "colorbar": {
              "outlinewidth": 0,
              "ticks": ""
             }
            },
            "type": "scatterpolargl"
           }
          ],
          "scatterternary": [
           {
            "marker": {
             "colorbar": {
              "outlinewidth": 0,
              "ticks": ""
             }
            },
            "type": "scatterternary"
           }
          ],
          "surface": [
           {
            "colorbar": {
             "outlinewidth": 0,
             "ticks": ""
            },
            "colorscale": [
             [
              0,
              "#0d0887"
             ],
             [
              0.1111111111111111,
              "#46039f"
             ],
             [
              0.2222222222222222,
              "#7201a8"
             ],
             [
              0.3333333333333333,
              "#9c179e"
             ],
             [
              0.4444444444444444,
              "#bd3786"
             ],
             [
              0.5555555555555556,
              "#d8576b"
             ],
             [
              0.6666666666666666,
              "#ed7953"
             ],
             [
              0.7777777777777778,
              "#fb9f3a"
             ],
             [
              0.8888888888888888,
              "#fdca26"
             ],
             [
              1,
              "#f0f921"
             ]
            ],
            "type": "surface"
           }
          ],
          "table": [
           {
            "cells": {
             "fill": {
              "color": "#EBF0F8"
             },
             "line": {
              "color": "white"
             }
            },
            "header": {
             "fill": {
              "color": "#C8D4E3"
             },
             "line": {
              "color": "white"
             }
            },
            "type": "table"
           }
          ]
         },
         "layout": {
          "annotationdefaults": {
           "arrowcolor": "#2a3f5f",
           "arrowhead": 0,
           "arrowwidth": 1
          },
          "autotypenumbers": "strict",
          "coloraxis": {
           "colorbar": {
            "outlinewidth": 0,
            "ticks": ""
           }
          },
          "colorscale": {
           "diverging": [
            [
             0,
             "#8e0152"
            ],
            [
             0.1,
             "#c51b7d"
            ],
            [
             0.2,
             "#de77ae"
            ],
            [
             0.3,
             "#f1b6da"
            ],
            [
             0.4,
             "#fde0ef"
            ],
            [
             0.5,
             "#f7f7f7"
            ],
            [
             0.6,
             "#e6f5d0"
            ],
            [
             0.7,
             "#b8e186"
            ],
            [
             0.8,
             "#7fbc41"
            ],
            [
             0.9,
             "#4d9221"
            ],
            [
             1,
             "#276419"
            ]
           ],
           "sequential": [
            [
             0,
             "#0d0887"
            ],
            [
             0.1111111111111111,
             "#46039f"
            ],
            [
             0.2222222222222222,
             "#7201a8"
            ],
            [
             0.3333333333333333,
             "#9c179e"
            ],
            [
             0.4444444444444444,
             "#bd3786"
            ],
            [
             0.5555555555555556,
             "#d8576b"
            ],
            [
             0.6666666666666666,
             "#ed7953"
            ],
            [
             0.7777777777777778,
             "#fb9f3a"
            ],
            [
             0.8888888888888888,
             "#fdca26"
            ],
            [
             1,
             "#f0f921"
            ]
           ],
           "sequentialminus": [
            [
             0,
             "#0d0887"
            ],
            [
             0.1111111111111111,
             "#46039f"
            ],
            [
             0.2222222222222222,
             "#7201a8"
            ],
            [
             0.3333333333333333,
             "#9c179e"
            ],
            [
             0.4444444444444444,
             "#bd3786"
            ],
            [
             0.5555555555555556,
             "#d8576b"
            ],
            [
             0.6666666666666666,
             "#ed7953"
            ],
            [
             0.7777777777777778,
             "#fb9f3a"
            ],
            [
             0.8888888888888888,
             "#fdca26"
            ],
            [
             1,
             "#f0f921"
            ]
           ]
          },
          "colorway": [
           "#636efa",
           "#EF553B",
           "#00cc96",
           "#ab63fa",
           "#FFA15A",
           "#19d3f3",
           "#FF6692",
           "#B6E880",
           "#FF97FF",
           "#FECB52"
          ],
          "font": {
           "color": "#2a3f5f"
          },
          "geo": {
           "bgcolor": "white",
           "lakecolor": "white",
           "landcolor": "#E5ECF6",
           "showlakes": true,
           "showland": true,
           "subunitcolor": "white"
          },
          "hoverlabel": {
           "align": "left"
          },
          "hovermode": "closest",
          "mapbox": {
           "style": "light"
          },
          "paper_bgcolor": "white",
          "plot_bgcolor": "#E5ECF6",
          "polar": {
           "angularaxis": {
            "gridcolor": "white",
            "linecolor": "white",
            "ticks": ""
           },
           "bgcolor": "#E5ECF6",
           "radialaxis": {
            "gridcolor": "white",
            "linecolor": "white",
            "ticks": ""
           }
          },
          "scene": {
           "xaxis": {
            "backgroundcolor": "#E5ECF6",
            "gridcolor": "white",
            "gridwidth": 2,
            "linecolor": "white",
            "showbackground": true,
            "ticks": "",
            "zerolinecolor": "white"
           },
           "yaxis": {
            "backgroundcolor": "#E5ECF6",
            "gridcolor": "white",
            "gridwidth": 2,
            "linecolor": "white",
            "showbackground": true,
            "ticks": "",
            "zerolinecolor": "white"
           },
           "zaxis": {
            "backgroundcolor": "#E5ECF6",
            "gridcolor": "white",
            "gridwidth": 2,
            "linecolor": "white",
            "showbackground": true,
            "ticks": "",
            "zerolinecolor": "white"
           }
          },
          "shapedefaults": {
           "line": {
            "color": "#2a3f5f"
           }
          },
          "ternary": {
           "aaxis": {
            "gridcolor": "white",
            "linecolor": "white",
            "ticks": ""
           },
           "baxis": {
            "gridcolor": "white",
            "linecolor": "white",
            "ticks": ""
           },
           "bgcolor": "#E5ECF6",
           "caxis": {
            "gridcolor": "white",
            "linecolor": "white",
            "ticks": ""
           }
          },
          "title": {
           "x": 0.05
          },
          "xaxis": {
           "automargin": true,
           "gridcolor": "white",
           "linecolor": "white",
           "ticks": "",
           "title": {
            "standoff": 15
           },
           "zerolinecolor": "white",
           "zerolinewidth": 2
          },
          "yaxis": {
           "automargin": true,
           "gridcolor": "white",
           "linecolor": "white",
           "ticks": "",
           "title": {
            "standoff": 15
           },
           "zerolinecolor": "white",
           "zerolinewidth": 2
          }
         }
        }
       }
      }
     },
     "metadata": {},
     "output_type": "display_data"
    }
   ],
   "source": [
    "top_10 = list(top10_sales_by_platform['platform'])\n",
    "\n",
    "fig = go.Figure()\n",
    "data = {}\n",
    "\n",
    "for item in top_10:\n",
    "    data[item] = df_video_games[df_video_games['platform'] == item][['year_of_release', 'total_sales_in_millions_usd']].groupby('year_of_release')['total_sales_in_millions_usd'].sum().reset_index()\n",
    "\n",
    "def sales_graphic(data, figure):\n",
    "\n",
    "    color_counter = 9\n",
    "    colors = [\n",
    "        'rgba(0, 48, 73, 0.7)', \n",
    "        'rgba(54, 46, 65, 0.7)', \n",
    "        'rgba(107, 44, 57, 0.7)',  \n",
    "        'rgba(161, 42, 49, 0.7)',  \n",
    "        'rgba(214, 40, 40, 0.7)',  \n",
    "        'rgba(231, 84, 20, 0.7)',  \n",
    "        'rgba(247, 127, 0, 0.7)',  \n",
    "        'rgba(250, 159, 37, 0.7)',  \n",
    "        'rgba(143, 95, 3, 0.7)',  \n",
    "        'rgba(196, 149, 57, 0.7)'\n",
    "        ]\n",
    "\n",
    "    line_colors = [\n",
    "        'rgba(0, 48, 73, 1)', \n",
    "        'rgba(54, 46, 65, 1)', \n",
    "        'rgba(107, 44, 57, 1)',  \n",
    "        'rgba(161, 42, 49, 1)',  \n",
    "        'rgba(214, 40, 40, 1)',  \n",
    "        'rgba(231, 84, 20, 1)',  \n",
    "        'rgba(247, 127, 0, 1)',  \n",
    "        'rgba(250, 159, 37, 1)',  \n",
    "        'rgba(143, 95, 3, 1)',  \n",
    "        'rgba(196, 149, 57, 1)'\n",
    "        ]\n",
    "    \n",
    "    for item, filter_data in data.items(): \n",
    "        figure.add_trace(go.Bar(\n",
    "            x=filter_data['year_of_release'],\n",
    "            y=filter_data['total_sales_in_millions_usd'],\n",
    "            name=item,\n",
    "            marker=dict(\n",
    "                color=colors[color_counter],\n",
    "                line=dict(color=line_colors[color_counter])  \n",
    "            )\n",
    "\n",
    "        ))\n",
    "        color_counter -= 1\n",
    "        \"\"\" print()\n",
    "        print(filter_data) \"\"\"\n",
    "\n",
    "    return figure.update_layout(barmode='stack', bargap=0.1,  plot_bgcolor='rgba(0,0,0,0)',\n",
    "        paper_bgcolor='rgba(0,0,0,0)',)\n",
    "\n",
    "sales_graphic(data, fig)\n",
    "\n"
   ]
  },
  {
   "cell_type": "markdown",
   "metadata": {},
   "source": [
    "<font color=\"sienna\"> Analizandas las gráficas de los videojuegos con mayores ventas durante el periodo comprendido entre 1980 y 2016, se llega a la conclusión de que, en promedio, las plataformas muestran una distribución normal de ventas a lo largo de 5 años. En base a esto, se evidencia que las plataformas PS, PSP, PS2, DS, WII y GBA experimentaron éxito durante un período al rededor de 5 años, pero en la actualidad han perdido popularidad.</font>"
   ]
  },
  {
   "cell_type": "markdown",
   "metadata": {},
   "source": [
    "<div class=\"alert alert-block alert-success\">\n",
    "<b>Comentario del revisor</b> <a class=\"tocSkip\"></a>\n",
    "    \n",
    "Gran trabajo con este gráfico.\n",
    "</div>"
   ]
  },
  {
   "cell_type": "markdown",
   "metadata": {},
   "source": [
    "#### 3.3 Analisis de las ventas apartir de la vigencia 2002.\n",
    "* Se descartarán dos de las plataformas, PS2 y WII, que en su momento tuvieron un gran éxito en ventas. No obstante, serán irrelevantes para considerarlas en los siguientes análisis, ya que quedaron obsoletas.\n",
    "* Se ejecutará un gráfico para analizar las ventas por plataforma, de las 4 que al 2016 aún mantenían una presencia significativa en el mercado."
   ]
  },
  {
   "cell_type": "code",
   "execution_count": 19,
   "metadata": {},
   "outputs": [
    {
     "data": {
      "application/vnd.plotly.v1+json": {
       "config": {
        "plotlyServerURL": "https://plot.ly"
       },
       "data": [
        {
         "marker": {
          "color": "rgba(196, 149, 57, 0.7)",
          "line": {
           "color": "rgba(196, 149, 57, 1)"
          }
         },
         "name": "X360",
         "type": "bar",
         "x": [
          2013,
          2014,
          2015,
          2016
         ],
         "y": [
          88.58,
          34.74,
          11.959999999999999,
          1.52
         ]
        },
        {
         "marker": {
          "color": "rgba(143, 95, 3, 0.7)",
          "line": {
           "color": "rgba(143, 95, 3, 1)"
          }
         },
         "name": "PC",
         "type": "bar",
         "x": [
          2013,
          2014,
          2015,
          2016
         ],
         "y": [
          12.38,
          13.280000000000001,
          8.520000000000001,
          5.25
         ]
        },
        {
         "marker": {
          "color": "rgba(250, 159, 37, 0.7)",
          "line": {
           "color": "rgba(250, 159, 37, 1)"
          }
         },
         "name": "PS3",
         "type": "bar",
         "x": [
          2013,
          2014,
          2015,
          2016
         ],
         "y": [
          113.25,
          47.760000000000005,
          16.82,
          3.6
         ]
        },
        {
         "marker": {
          "color": "rgba(247, 127, 0, 0.7)",
          "line": {
           "color": "rgba(247, 127, 0, 1)"
          }
         },
         "name": "PS4",
         "type": "bar",
         "x": [
          2013,
          2014,
          2015,
          2016
         ],
         "y": [
          25.99,
          100,
          118.9,
          69.25
         ]
        }
       ],
       "layout": {
        "bargap": 0.1,
        "barmode": "stack",
        "paper_bgcolor": "rgba(0,0,0,0)",
        "plot_bgcolor": "rgba(0,0,0,0)",
        "template": {
         "data": {
          "bar": [
           {
            "error_x": {
             "color": "#2a3f5f"
            },
            "error_y": {
             "color": "#2a3f5f"
            },
            "marker": {
             "line": {
              "color": "#E5ECF6",
              "width": 0.5
             },
             "pattern": {
              "fillmode": "overlay",
              "size": 10,
              "solidity": 0.2
             }
            },
            "type": "bar"
           }
          ],
          "barpolar": [
           {
            "marker": {
             "line": {
              "color": "#E5ECF6",
              "width": 0.5
             },
             "pattern": {
              "fillmode": "overlay",
              "size": 10,
              "solidity": 0.2
             }
            },
            "type": "barpolar"
           }
          ],
          "carpet": [
           {
            "aaxis": {
             "endlinecolor": "#2a3f5f",
             "gridcolor": "white",
             "linecolor": "white",
             "minorgridcolor": "white",
             "startlinecolor": "#2a3f5f"
            },
            "baxis": {
             "endlinecolor": "#2a3f5f",
             "gridcolor": "white",
             "linecolor": "white",
             "minorgridcolor": "white",
             "startlinecolor": "#2a3f5f"
            },
            "type": "carpet"
           }
          ],
          "choropleth": [
           {
            "colorbar": {
             "outlinewidth": 0,
             "ticks": ""
            },
            "type": "choropleth"
           }
          ],
          "contour": [
           {
            "colorbar": {
             "outlinewidth": 0,
             "ticks": ""
            },
            "colorscale": [
             [
              0,
              "#0d0887"
             ],
             [
              0.1111111111111111,
              "#46039f"
             ],
             [
              0.2222222222222222,
              "#7201a8"
             ],
             [
              0.3333333333333333,
              "#9c179e"
             ],
             [
              0.4444444444444444,
              "#bd3786"
             ],
             [
              0.5555555555555556,
              "#d8576b"
             ],
             [
              0.6666666666666666,
              "#ed7953"
             ],
             [
              0.7777777777777778,
              "#fb9f3a"
             ],
             [
              0.8888888888888888,
              "#fdca26"
             ],
             [
              1,
              "#f0f921"
             ]
            ],
            "type": "contour"
           }
          ],
          "contourcarpet": [
           {
            "colorbar": {
             "outlinewidth": 0,
             "ticks": ""
            },
            "type": "contourcarpet"
           }
          ],
          "heatmap": [
           {
            "colorbar": {
             "outlinewidth": 0,
             "ticks": ""
            },
            "colorscale": [
             [
              0,
              "#0d0887"
             ],
             [
              0.1111111111111111,
              "#46039f"
             ],
             [
              0.2222222222222222,
              "#7201a8"
             ],
             [
              0.3333333333333333,
              "#9c179e"
             ],
             [
              0.4444444444444444,
              "#bd3786"
             ],
             [
              0.5555555555555556,
              "#d8576b"
             ],
             [
              0.6666666666666666,
              "#ed7953"
             ],
             [
              0.7777777777777778,
              "#fb9f3a"
             ],
             [
              0.8888888888888888,
              "#fdca26"
             ],
             [
              1,
              "#f0f921"
             ]
            ],
            "type": "heatmap"
           }
          ],
          "heatmapgl": [
           {
            "colorbar": {
             "outlinewidth": 0,
             "ticks": ""
            },
            "colorscale": [
             [
              0,
              "#0d0887"
             ],
             [
              0.1111111111111111,
              "#46039f"
             ],
             [
              0.2222222222222222,
              "#7201a8"
             ],
             [
              0.3333333333333333,
              "#9c179e"
             ],
             [
              0.4444444444444444,
              "#bd3786"
             ],
             [
              0.5555555555555556,
              "#d8576b"
             ],
             [
              0.6666666666666666,
              "#ed7953"
             ],
             [
              0.7777777777777778,
              "#fb9f3a"
             ],
             [
              0.8888888888888888,
              "#fdca26"
             ],
             [
              1,
              "#f0f921"
             ]
            ],
            "type": "heatmapgl"
           }
          ],
          "histogram": [
           {
            "marker": {
             "pattern": {
              "fillmode": "overlay",
              "size": 10,
              "solidity": 0.2
             }
            },
            "type": "histogram"
           }
          ],
          "histogram2d": [
           {
            "colorbar": {
             "outlinewidth": 0,
             "ticks": ""
            },
            "colorscale": [
             [
              0,
              "#0d0887"
             ],
             [
              0.1111111111111111,
              "#46039f"
             ],
             [
              0.2222222222222222,
              "#7201a8"
             ],
             [
              0.3333333333333333,
              "#9c179e"
             ],
             [
              0.4444444444444444,
              "#bd3786"
             ],
             [
              0.5555555555555556,
              "#d8576b"
             ],
             [
              0.6666666666666666,
              "#ed7953"
             ],
             [
              0.7777777777777778,
              "#fb9f3a"
             ],
             [
              0.8888888888888888,
              "#fdca26"
             ],
             [
              1,
              "#f0f921"
             ]
            ],
            "type": "histogram2d"
           }
          ],
          "histogram2dcontour": [
           {
            "colorbar": {
             "outlinewidth": 0,
             "ticks": ""
            },
            "colorscale": [
             [
              0,
              "#0d0887"
             ],
             [
              0.1111111111111111,
              "#46039f"
             ],
             [
              0.2222222222222222,
              "#7201a8"
             ],
             [
              0.3333333333333333,
              "#9c179e"
             ],
             [
              0.4444444444444444,
              "#bd3786"
             ],
             [
              0.5555555555555556,
              "#d8576b"
             ],
             [
              0.6666666666666666,
              "#ed7953"
             ],
             [
              0.7777777777777778,
              "#fb9f3a"
             ],
             [
              0.8888888888888888,
              "#fdca26"
             ],
             [
              1,
              "#f0f921"
             ]
            ],
            "type": "histogram2dcontour"
           }
          ],
          "mesh3d": [
           {
            "colorbar": {
             "outlinewidth": 0,
             "ticks": ""
            },
            "type": "mesh3d"
           }
          ],
          "parcoords": [
           {
            "line": {
             "colorbar": {
              "outlinewidth": 0,
              "ticks": ""
             }
            },
            "type": "parcoords"
           }
          ],
          "pie": [
           {
            "automargin": true,
            "type": "pie"
           }
          ],
          "scatter": [
           {
            "fillpattern": {
             "fillmode": "overlay",
             "size": 10,
             "solidity": 0.2
            },
            "type": "scatter"
           }
          ],
          "scatter3d": [
           {
            "line": {
             "colorbar": {
              "outlinewidth": 0,
              "ticks": ""
             }
            },
            "marker": {
             "colorbar": {
              "outlinewidth": 0,
              "ticks": ""
             }
            },
            "type": "scatter3d"
           }
          ],
          "scattercarpet": [
           {
            "marker": {
             "colorbar": {
              "outlinewidth": 0,
              "ticks": ""
             }
            },
            "type": "scattercarpet"
           }
          ],
          "scattergeo": [
           {
            "marker": {
             "colorbar": {
              "outlinewidth": 0,
              "ticks": ""
             }
            },
            "type": "scattergeo"
           }
          ],
          "scattergl": [
           {
            "marker": {
             "colorbar": {
              "outlinewidth": 0,
              "ticks": ""
             }
            },
            "type": "scattergl"
           }
          ],
          "scattermapbox": [
           {
            "marker": {
             "colorbar": {
              "outlinewidth": 0,
              "ticks": ""
             }
            },
            "type": "scattermapbox"
           }
          ],
          "scatterpolar": [
           {
            "marker": {
             "colorbar": {
              "outlinewidth": 0,
              "ticks": ""
             }
            },
            "type": "scatterpolar"
           }
          ],
          "scatterpolargl": [
           {
            "marker": {
             "colorbar": {
              "outlinewidth": 0,
              "ticks": ""
             }
            },
            "type": "scatterpolargl"
           }
          ],
          "scatterternary": [
           {
            "marker": {
             "colorbar": {
              "outlinewidth": 0,
              "ticks": ""
             }
            },
            "type": "scatterternary"
           }
          ],
          "surface": [
           {
            "colorbar": {
             "outlinewidth": 0,
             "ticks": ""
            },
            "colorscale": [
             [
              0,
              "#0d0887"
             ],
             [
              0.1111111111111111,
              "#46039f"
             ],
             [
              0.2222222222222222,
              "#7201a8"
             ],
             [
              0.3333333333333333,
              "#9c179e"
             ],
             [
              0.4444444444444444,
              "#bd3786"
             ],
             [
              0.5555555555555556,
              "#d8576b"
             ],
             [
              0.6666666666666666,
              "#ed7953"
             ],
             [
              0.7777777777777778,
              "#fb9f3a"
             ],
             [
              0.8888888888888888,
              "#fdca26"
             ],
             [
              1,
              "#f0f921"
             ]
            ],
            "type": "surface"
           }
          ],
          "table": [
           {
            "cells": {
             "fill": {
              "color": "#EBF0F8"
             },
             "line": {
              "color": "white"
             }
            },
            "header": {
             "fill": {
              "color": "#C8D4E3"
             },
             "line": {
              "color": "white"
             }
            },
            "type": "table"
           }
          ]
         },
         "layout": {
          "annotationdefaults": {
           "arrowcolor": "#2a3f5f",
           "arrowhead": 0,
           "arrowwidth": 1
          },
          "autotypenumbers": "strict",
          "coloraxis": {
           "colorbar": {
            "outlinewidth": 0,
            "ticks": ""
           }
          },
          "colorscale": {
           "diverging": [
            [
             0,
             "#8e0152"
            ],
            [
             0.1,
             "#c51b7d"
            ],
            [
             0.2,
             "#de77ae"
            ],
            [
             0.3,
             "#f1b6da"
            ],
            [
             0.4,
             "#fde0ef"
            ],
            [
             0.5,
             "#f7f7f7"
            ],
            [
             0.6,
             "#e6f5d0"
            ],
            [
             0.7,
             "#b8e186"
            ],
            [
             0.8,
             "#7fbc41"
            ],
            [
             0.9,
             "#4d9221"
            ],
            [
             1,
             "#276419"
            ]
           ],
           "sequential": [
            [
             0,
             "#0d0887"
            ],
            [
             0.1111111111111111,
             "#46039f"
            ],
            [
             0.2222222222222222,
             "#7201a8"
            ],
            [
             0.3333333333333333,
             "#9c179e"
            ],
            [
             0.4444444444444444,
             "#bd3786"
            ],
            [
             0.5555555555555556,
             "#d8576b"
            ],
            [
             0.6666666666666666,
             "#ed7953"
            ],
            [
             0.7777777777777778,
             "#fb9f3a"
            ],
            [
             0.8888888888888888,
             "#fdca26"
            ],
            [
             1,
             "#f0f921"
            ]
           ],
           "sequentialminus": [
            [
             0,
             "#0d0887"
            ],
            [
             0.1111111111111111,
             "#46039f"
            ],
            [
             0.2222222222222222,
             "#7201a8"
            ],
            [
             0.3333333333333333,
             "#9c179e"
            ],
            [
             0.4444444444444444,
             "#bd3786"
            ],
            [
             0.5555555555555556,
             "#d8576b"
            ],
            [
             0.6666666666666666,
             "#ed7953"
            ],
            [
             0.7777777777777778,
             "#fb9f3a"
            ],
            [
             0.8888888888888888,
             "#fdca26"
            ],
            [
             1,
             "#f0f921"
            ]
           ]
          },
          "colorway": [
           "#636efa",
           "#EF553B",
           "#00cc96",
           "#ab63fa",
           "#FFA15A",
           "#19d3f3",
           "#FF6692",
           "#B6E880",
           "#FF97FF",
           "#FECB52"
          ],
          "font": {
           "color": "#2a3f5f"
          },
          "geo": {
           "bgcolor": "white",
           "lakecolor": "white",
           "landcolor": "#E5ECF6",
           "showlakes": true,
           "showland": true,
           "subunitcolor": "white"
          },
          "hoverlabel": {
           "align": "left"
          },
          "hovermode": "closest",
          "mapbox": {
           "style": "light"
          },
          "paper_bgcolor": "white",
          "plot_bgcolor": "#E5ECF6",
          "polar": {
           "angularaxis": {
            "gridcolor": "white",
            "linecolor": "white",
            "ticks": ""
           },
           "bgcolor": "#E5ECF6",
           "radialaxis": {
            "gridcolor": "white",
            "linecolor": "white",
            "ticks": ""
           }
          },
          "scene": {
           "xaxis": {
            "backgroundcolor": "#E5ECF6",
            "gridcolor": "white",
            "gridwidth": 2,
            "linecolor": "white",
            "showbackground": true,
            "ticks": "",
            "zerolinecolor": "white"
           },
           "yaxis": {
            "backgroundcolor": "#E5ECF6",
            "gridcolor": "white",
            "gridwidth": 2,
            "linecolor": "white",
            "showbackground": true,
            "ticks": "",
            "zerolinecolor": "white"
           },
           "zaxis": {
            "backgroundcolor": "#E5ECF6",
            "gridcolor": "white",
            "gridwidth": 2,
            "linecolor": "white",
            "showbackground": true,
            "ticks": "",
            "zerolinecolor": "white"
           }
          },
          "shapedefaults": {
           "line": {
            "color": "#2a3f5f"
           }
          },
          "ternary": {
           "aaxis": {
            "gridcolor": "white",
            "linecolor": "white",
            "ticks": ""
           },
           "baxis": {
            "gridcolor": "white",
            "linecolor": "white",
            "ticks": ""
           },
           "bgcolor": "#E5ECF6",
           "caxis": {
            "gridcolor": "white",
            "linecolor": "white",
            "ticks": ""
           }
          },
          "title": {
           "x": 0.05
          },
          "xaxis": {
           "automargin": true,
           "gridcolor": "white",
           "linecolor": "white",
           "ticks": "",
           "title": {
            "standoff": 15
           },
           "zerolinecolor": "white",
           "zerolinewidth": 2
          },
          "yaxis": {
           "automargin": true,
           "gridcolor": "white",
           "linecolor": "white",
           "ticks": "",
           "title": {
            "standoff": 15
           },
           "zerolinecolor": "white",
           "zerolinewidth": 2
          }
         }
        }
       }
      }
     },
     "metadata": {},
     "output_type": "display_data"
    }
   ],
   "source": [
    "# Nuevo DataFrame con ventas a partir del 2002.\n",
    "df_since2002_video_games = df_video_games.loc[df_video_games['year_of_release'] > 2012]\n",
    "\n",
    "\n",
    "top_4 = ['X360', 'PC', 'PS3', 'PS4']\n",
    "fig2 = go.Figure()\n",
    "\n",
    "new_data = {item: df_since2002_video_games[df_since2002_video_games['platform'] == item][['year_of_release', 'total_sales_in_millions_usd']].groupby('year_of_release')['total_sales_in_millions_usd'].sum().reset_index() for item in top_4}\n",
    "\n",
    "sales_graphic(new_data,fig2)"
   ]
  },
  {
   "cell_type": "markdown",
   "metadata": {},
   "source": [
    "<font color=\"sienna\"> Vemos como la plataforma X360 que contaba como un crecimiento significativo desde 2006, se ha venido viendo afectada por las ventas de PS4, que por ser una consola más reciente en el mercada, va remarcando en las ventas, y se espera que sus ventas sigan apuntando para 2017; mejor aun, se podría estar evaluando que nuevas plataformas están a punto de salir al mercado.</font>"
   ]
  },
  {
   "cell_type": "markdown",
   "metadata": {},
   "source": [
    "#### 3.4 Diagrama de cajas \n",
    "* Determinar si son significativas las diferencias en las ventas y, \n",
    "* Qué sucede con las ventas promedio en las plataformas"
   ]
  },
  {
   "cell_type": "code",
   "execution_count": 20,
   "metadata": {},
   "outputs": [
    {
     "data": {
      "application/vnd.plotly.v1+json": {
       "config": {
        "plotlyServerURL": "https://plot.ly"
       },
       "data": [
        {
         "marker": {
          "color": "rgba(0, 48, 73, 0.7)",
          "line": {
           "color": "rgba(0, 48, 73, 1)"
          }
         },
         "name": "X360",
         "type": "box",
         "y": [
          88.58,
          34.74,
          11.959999999999999,
          1.52
         ]
        },
        {
         "marker": {
          "color": "rgba(54, 46, 65, 0.7)",
          "line": {
           "color": "rgba(54, 46, 65, 1)"
          }
         },
         "name": "PC",
         "type": "box",
         "y": [
          12.38,
          13.280000000000001,
          8.520000000000001,
          5.25
         ]
        },
        {
         "marker": {
          "color": "rgba(107, 44, 57, 0.7)",
          "line": {
           "color": "rgba(107, 44, 57, 1)"
          }
         },
         "name": "PS3",
         "type": "box",
         "y": [
          113.25,
          47.760000000000005,
          16.82,
          3.6
         ]
        },
        {
         "marker": {
          "color": "rgba(161, 42, 49, 0.7)",
          "line": {
           "color": "rgba(161, 42, 49, 1)"
          }
         },
         "name": "PS4",
         "type": "box",
         "y": [
          25.99,
          100,
          118.9,
          69.25
         ]
        }
       ],
       "layout": {
        "paper_bgcolor": "rgba(0,0,0,0)",
        "plot_bgcolor": "rgba(0,0,0,0)",
        "template": {
         "data": {
          "bar": [
           {
            "error_x": {
             "color": "#2a3f5f"
            },
            "error_y": {
             "color": "#2a3f5f"
            },
            "marker": {
             "line": {
              "color": "#E5ECF6",
              "width": 0.5
             },
             "pattern": {
              "fillmode": "overlay",
              "size": 10,
              "solidity": 0.2
             }
            },
            "type": "bar"
           }
          ],
          "barpolar": [
           {
            "marker": {
             "line": {
              "color": "#E5ECF6",
              "width": 0.5
             },
             "pattern": {
              "fillmode": "overlay",
              "size": 10,
              "solidity": 0.2
             }
            },
            "type": "barpolar"
           }
          ],
          "carpet": [
           {
            "aaxis": {
             "endlinecolor": "#2a3f5f",
             "gridcolor": "white",
             "linecolor": "white",
             "minorgridcolor": "white",
             "startlinecolor": "#2a3f5f"
            },
            "baxis": {
             "endlinecolor": "#2a3f5f",
             "gridcolor": "white",
             "linecolor": "white",
             "minorgridcolor": "white",
             "startlinecolor": "#2a3f5f"
            },
            "type": "carpet"
           }
          ],
          "choropleth": [
           {
            "colorbar": {
             "outlinewidth": 0,
             "ticks": ""
            },
            "type": "choropleth"
           }
          ],
          "contour": [
           {
            "colorbar": {
             "outlinewidth": 0,
             "ticks": ""
            },
            "colorscale": [
             [
              0,
              "#0d0887"
             ],
             [
              0.1111111111111111,
              "#46039f"
             ],
             [
              0.2222222222222222,
              "#7201a8"
             ],
             [
              0.3333333333333333,
              "#9c179e"
             ],
             [
              0.4444444444444444,
              "#bd3786"
             ],
             [
              0.5555555555555556,
              "#d8576b"
             ],
             [
              0.6666666666666666,
              "#ed7953"
             ],
             [
              0.7777777777777778,
              "#fb9f3a"
             ],
             [
              0.8888888888888888,
              "#fdca26"
             ],
             [
              1,
              "#f0f921"
             ]
            ],
            "type": "contour"
           }
          ],
          "contourcarpet": [
           {
            "colorbar": {
             "outlinewidth": 0,
             "ticks": ""
            },
            "type": "contourcarpet"
           }
          ],
          "heatmap": [
           {
            "colorbar": {
             "outlinewidth": 0,
             "ticks": ""
            },
            "colorscale": [
             [
              0,
              "#0d0887"
             ],
             [
              0.1111111111111111,
              "#46039f"
             ],
             [
              0.2222222222222222,
              "#7201a8"
             ],
             [
              0.3333333333333333,
              "#9c179e"
             ],
             [
              0.4444444444444444,
              "#bd3786"
             ],
             [
              0.5555555555555556,
              "#d8576b"
             ],
             [
              0.6666666666666666,
              "#ed7953"
             ],
             [
              0.7777777777777778,
              "#fb9f3a"
             ],
             [
              0.8888888888888888,
              "#fdca26"
             ],
             [
              1,
              "#f0f921"
             ]
            ],
            "type": "heatmap"
           }
          ],
          "heatmapgl": [
           {
            "colorbar": {
             "outlinewidth": 0,
             "ticks": ""
            },
            "colorscale": [
             [
              0,
              "#0d0887"
             ],
             [
              0.1111111111111111,
              "#46039f"
             ],
             [
              0.2222222222222222,
              "#7201a8"
             ],
             [
              0.3333333333333333,
              "#9c179e"
             ],
             [
              0.4444444444444444,
              "#bd3786"
             ],
             [
              0.5555555555555556,
              "#d8576b"
             ],
             [
              0.6666666666666666,
              "#ed7953"
             ],
             [
              0.7777777777777778,
              "#fb9f3a"
             ],
             [
              0.8888888888888888,
              "#fdca26"
             ],
             [
              1,
              "#f0f921"
             ]
            ],
            "type": "heatmapgl"
           }
          ],
          "histogram": [
           {
            "marker": {
             "pattern": {
              "fillmode": "overlay",
              "size": 10,
              "solidity": 0.2
             }
            },
            "type": "histogram"
           }
          ],
          "histogram2d": [
           {
            "colorbar": {
             "outlinewidth": 0,
             "ticks": ""
            },
            "colorscale": [
             [
              0,
              "#0d0887"
             ],
             [
              0.1111111111111111,
              "#46039f"
             ],
             [
              0.2222222222222222,
              "#7201a8"
             ],
             [
              0.3333333333333333,
              "#9c179e"
             ],
             [
              0.4444444444444444,
              "#bd3786"
             ],
             [
              0.5555555555555556,
              "#d8576b"
             ],
             [
              0.6666666666666666,
              "#ed7953"
             ],
             [
              0.7777777777777778,
              "#fb9f3a"
             ],
             [
              0.8888888888888888,
              "#fdca26"
             ],
             [
              1,
              "#f0f921"
             ]
            ],
            "type": "histogram2d"
           }
          ],
          "histogram2dcontour": [
           {
            "colorbar": {
             "outlinewidth": 0,
             "ticks": ""
            },
            "colorscale": [
             [
              0,
              "#0d0887"
             ],
             [
              0.1111111111111111,
              "#46039f"
             ],
             [
              0.2222222222222222,
              "#7201a8"
             ],
             [
              0.3333333333333333,
              "#9c179e"
             ],
             [
              0.4444444444444444,
              "#bd3786"
             ],
             [
              0.5555555555555556,
              "#d8576b"
             ],
             [
              0.6666666666666666,
              "#ed7953"
             ],
             [
              0.7777777777777778,
              "#fb9f3a"
             ],
             [
              0.8888888888888888,
              "#fdca26"
             ],
             [
              1,
              "#f0f921"
             ]
            ],
            "type": "histogram2dcontour"
           }
          ],
          "mesh3d": [
           {
            "colorbar": {
             "outlinewidth": 0,
             "ticks": ""
            },
            "type": "mesh3d"
           }
          ],
          "parcoords": [
           {
            "line": {
             "colorbar": {
              "outlinewidth": 0,
              "ticks": ""
             }
            },
            "type": "parcoords"
           }
          ],
          "pie": [
           {
            "automargin": true,
            "type": "pie"
           }
          ],
          "scatter": [
           {
            "fillpattern": {
             "fillmode": "overlay",
             "size": 10,
             "solidity": 0.2
            },
            "type": "scatter"
           }
          ],
          "scatter3d": [
           {
            "line": {
             "colorbar": {
              "outlinewidth": 0,
              "ticks": ""
             }
            },
            "marker": {
             "colorbar": {
              "outlinewidth": 0,
              "ticks": ""
             }
            },
            "type": "scatter3d"
           }
          ],
          "scattercarpet": [
           {
            "marker": {
             "colorbar": {
              "outlinewidth": 0,
              "ticks": ""
             }
            },
            "type": "scattercarpet"
           }
          ],
          "scattergeo": [
           {
            "marker": {
             "colorbar": {
              "outlinewidth": 0,
              "ticks": ""
             }
            },
            "type": "scattergeo"
           }
          ],
          "scattergl": [
           {
            "marker": {
             "colorbar": {
              "outlinewidth": 0,
              "ticks": ""
             }
            },
            "type": "scattergl"
           }
          ],
          "scattermapbox": [
           {
            "marker": {
             "colorbar": {
              "outlinewidth": 0,
              "ticks": ""
             }
            },
            "type": "scattermapbox"
           }
          ],
          "scatterpolar": [
           {
            "marker": {
             "colorbar": {
              "outlinewidth": 0,
              "ticks": ""
             }
            },
            "type": "scatterpolar"
           }
          ],
          "scatterpolargl": [
           {
            "marker": {
             "colorbar": {
              "outlinewidth": 0,
              "ticks": ""
             }
            },
            "type": "scatterpolargl"
           }
          ],
          "scatterternary": [
           {
            "marker": {
             "colorbar": {
              "outlinewidth": 0,
              "ticks": ""
             }
            },
            "type": "scatterternary"
           }
          ],
          "surface": [
           {
            "colorbar": {
             "outlinewidth": 0,
             "ticks": ""
            },
            "colorscale": [
             [
              0,
              "#0d0887"
             ],
             [
              0.1111111111111111,
              "#46039f"
             ],
             [
              0.2222222222222222,
              "#7201a8"
             ],
             [
              0.3333333333333333,
              "#9c179e"
             ],
             [
              0.4444444444444444,
              "#bd3786"
             ],
             [
              0.5555555555555556,
              "#d8576b"
             ],
             [
              0.6666666666666666,
              "#ed7953"
             ],
             [
              0.7777777777777778,
              "#fb9f3a"
             ],
             [
              0.8888888888888888,
              "#fdca26"
             ],
             [
              1,
              "#f0f921"
             ]
            ],
            "type": "surface"
           }
          ],
          "table": [
           {
            "cells": {
             "fill": {
              "color": "#EBF0F8"
             },
             "line": {
              "color": "white"
             }
            },
            "header": {
             "fill": {
              "color": "#C8D4E3"
             },
             "line": {
              "color": "white"
             }
            },
            "type": "table"
           }
          ]
         },
         "layout": {
          "annotationdefaults": {
           "arrowcolor": "#2a3f5f",
           "arrowhead": 0,
           "arrowwidth": 1
          },
          "autotypenumbers": "strict",
          "coloraxis": {
           "colorbar": {
            "outlinewidth": 0,
            "ticks": ""
           }
          },
          "colorscale": {
           "diverging": [
            [
             0,
             "#8e0152"
            ],
            [
             0.1,
             "#c51b7d"
            ],
            [
             0.2,
             "#de77ae"
            ],
            [
             0.3,
             "#f1b6da"
            ],
            [
             0.4,
             "#fde0ef"
            ],
            [
             0.5,
             "#f7f7f7"
            ],
            [
             0.6,
             "#e6f5d0"
            ],
            [
             0.7,
             "#b8e186"
            ],
            [
             0.8,
             "#7fbc41"
            ],
            [
             0.9,
             "#4d9221"
            ],
            [
             1,
             "#276419"
            ]
           ],
           "sequential": [
            [
             0,
             "#0d0887"
            ],
            [
             0.1111111111111111,
             "#46039f"
            ],
            [
             0.2222222222222222,
             "#7201a8"
            ],
            [
             0.3333333333333333,
             "#9c179e"
            ],
            [
             0.4444444444444444,
             "#bd3786"
            ],
            [
             0.5555555555555556,
             "#d8576b"
            ],
            [
             0.6666666666666666,
             "#ed7953"
            ],
            [
             0.7777777777777778,
             "#fb9f3a"
            ],
            [
             0.8888888888888888,
             "#fdca26"
            ],
            [
             1,
             "#f0f921"
            ]
           ],
           "sequentialminus": [
            [
             0,
             "#0d0887"
            ],
            [
             0.1111111111111111,
             "#46039f"
            ],
            [
             0.2222222222222222,
             "#7201a8"
            ],
            [
             0.3333333333333333,
             "#9c179e"
            ],
            [
             0.4444444444444444,
             "#bd3786"
            ],
            [
             0.5555555555555556,
             "#d8576b"
            ],
            [
             0.6666666666666666,
             "#ed7953"
            ],
            [
             0.7777777777777778,
             "#fb9f3a"
            ],
            [
             0.8888888888888888,
             "#fdca26"
            ],
            [
             1,
             "#f0f921"
            ]
           ]
          },
          "colorway": [
           "#636efa",
           "#EF553B",
           "#00cc96",
           "#ab63fa",
           "#FFA15A",
           "#19d3f3",
           "#FF6692",
           "#B6E880",
           "#FF97FF",
           "#FECB52"
          ],
          "font": {
           "color": "#2a3f5f"
          },
          "geo": {
           "bgcolor": "white",
           "lakecolor": "white",
           "landcolor": "#E5ECF6",
           "showlakes": true,
           "showland": true,
           "subunitcolor": "white"
          },
          "hoverlabel": {
           "align": "left"
          },
          "hovermode": "closest",
          "mapbox": {
           "style": "light"
          },
          "paper_bgcolor": "white",
          "plot_bgcolor": "#E5ECF6",
          "polar": {
           "angularaxis": {
            "gridcolor": "white",
            "linecolor": "white",
            "ticks": ""
           },
           "bgcolor": "#E5ECF6",
           "radialaxis": {
            "gridcolor": "white",
            "linecolor": "white",
            "ticks": ""
           }
          },
          "scene": {
           "xaxis": {
            "backgroundcolor": "#E5ECF6",
            "gridcolor": "white",
            "gridwidth": 2,
            "linecolor": "white",
            "showbackground": true,
            "ticks": "",
            "zerolinecolor": "white"
           },
           "yaxis": {
            "backgroundcolor": "#E5ECF6",
            "gridcolor": "white",
            "gridwidth": 2,
            "linecolor": "white",
            "showbackground": true,
            "ticks": "",
            "zerolinecolor": "white"
           },
           "zaxis": {
            "backgroundcolor": "#E5ECF6",
            "gridcolor": "white",
            "gridwidth": 2,
            "linecolor": "white",
            "showbackground": true,
            "ticks": "",
            "zerolinecolor": "white"
           }
          },
          "shapedefaults": {
           "line": {
            "color": "#2a3f5f"
           }
          },
          "ternary": {
           "aaxis": {
            "gridcolor": "white",
            "linecolor": "white",
            "ticks": ""
           },
           "baxis": {
            "gridcolor": "white",
            "linecolor": "white",
            "ticks": ""
           },
           "bgcolor": "#E5ECF6",
           "caxis": {
            "gridcolor": "white",
            "linecolor": "white",
            "ticks": ""
           }
          },
          "title": {
           "x": 0.05
          },
          "xaxis": {
           "automargin": true,
           "gridcolor": "white",
           "linecolor": "white",
           "ticks": "",
           "title": {
            "standoff": 15
           },
           "zerolinecolor": "white",
           "zerolinewidth": 2
          },
          "yaxis": {
           "automargin": true,
           "gridcolor": "white",
           "linecolor": "white",
           "ticks": "",
           "title": {
            "standoff": 15
           },
           "zerolinecolor": "white",
           "zerolinewidth": 2
          }
         }
        }
       }
      }
     },
     "metadata": {},
     "output_type": "display_data"
    }
   ],
   "source": [
    "fig3 = go.Figure()\n",
    "color_counter = 0\n",
    "colors = [\n",
    "    'rgba(0, 48, 73, 0.7)', \n",
    "    'rgba(54, 46, 65, 0.7)', \n",
    "    'rgba(107, 44, 57, 0.7)',  \n",
    "    'rgba(161, 42, 49, 0.7)',  \n",
    "    'rgba(214, 40, 40, 0.7)',  \n",
    "    'rgba(231, 84, 20, 0.7)',  \n",
    "    'rgba(247, 127, 0, 0.7)',  \n",
    "    'rgba(250, 159, 37, 0.7)',  \n",
    "    'rgba(143, 95, 3, 0.7)',  \n",
    "    'rgba(196, 149, 57, 0.7)'\n",
    "    ]\n",
    "\n",
    "line_colors = [\n",
    "    'rgba(0, 48, 73, 1)', \n",
    "    'rgba(54, 46, 65, 1)', \n",
    "    'rgba(107, 44, 57, 1)',  \n",
    "    'rgba(161, 42, 49, 1)',  \n",
    "    'rgba(214, 40, 40, 1)',  \n",
    "    'rgba(231, 84, 20, 1)',  \n",
    "    'rgba(247, 127, 0, 1)',  \n",
    "    'rgba(250, 159, 37, 1)',  \n",
    "    'rgba(143, 95, 3, 1)',  \n",
    "    'rgba(196, 149, 57, 1)'\n",
    "    ]\n",
    "\n",
    "for item, filter_data in new_data.items():\n",
    "    fig3.add_trace(go.Box(\n",
    "        y=filter_data['total_sales_in_millions_usd'],\n",
    "        name=item,\n",
    "        marker=dict(\n",
    "            color=colors[color_counter],\n",
    "            line=dict(\n",
    "                color=line_colors[color_counter]\n",
    "            )\n",
    "        )\n",
    "    ))\n",
    "    color_counter += 1\n",
    "    fig3.update_layout( plot_bgcolor='rgba(0,0,0,0)',\n",
    "        paper_bgcolor='rgba(0,0,0,0)',)\n",
    "fig3.show()"
   ]
  },
  {
   "cell_type": "markdown",
   "metadata": {},
   "source": [
    "<font color=\"sienna\">El gráfico de cajas destaca la variabilidad en las ventas de las cuatro plataformas. Se observa que, en los últimos cuatro años, PS4 lidera en ventas, con un promedio superior a las dos plataformas siguientes, PS3 y X360. En contraste, las ventas de PC, aunque han experimentado un crecimiento constante desde 2004, se sitúan considerablemente por debajo del promedio de las otras plataformas. Por lo tanto, para el modelo de 2017, no se considera como una opción competitiva en términos de ventas, en comparación con las otras plataformas mencionadas.\n",
    "\n",
    "`Posterior a este analisis, se hara evalución del valor atípico que refleja la plataforma PC`\n",
    "</font>"
   ]
  },
  {
   "cell_type": "code",
   "execution_count": 21,
   "metadata": {},
   "outputs": [],
   "source": [
    "sales_pc_platform = new_data['PC']"
   ]
  },
  {
   "cell_type": "code",
   "execution_count": 22,
   "metadata": {},
   "outputs": [
    {
     "data": {
      "text/html": [
       "<div>\n",
       "<style scoped>\n",
       "    .dataframe tbody tr th:only-of-type {\n",
       "        vertical-align: middle;\n",
       "    }\n",
       "\n",
       "    .dataframe tbody tr th {\n",
       "        vertical-align: top;\n",
       "    }\n",
       "\n",
       "    .dataframe thead th {\n",
       "        text-align: right;\n",
       "    }\n",
       "</style>\n",
       "<table border=\"1\" class=\"dataframe\">\n",
       "  <thead>\n",
       "    <tr style=\"text-align: right;\">\n",
       "      <th></th>\n",
       "      <th>year_of_release</th>\n",
       "      <th>total_sales_in_millions_usd</th>\n",
       "    </tr>\n",
       "  </thead>\n",
       "  <tbody>\n",
       "  </tbody>\n",
       "</table>\n",
       "</div>"
      ],
      "text/plain": [
       "Empty DataFrame\n",
       "Columns: [year_of_release, total_sales_in_millions_usd]\n",
       "Index: []"
      ]
     },
     "execution_count": 22,
     "metadata": {},
     "output_type": "execute_result"
    }
   ],
   "source": [
    "# Calcular el rango intercuartílico (IQR)\n",
    "\n",
    "q1 = sales_pc_platform['total_sales_in_millions_usd'].quantile(0.25)\n",
    "q3 = sales_pc_platform['total_sales_in_millions_usd'].quantile(0.75)\n",
    "iqr = q3 -q1\n",
    "\n",
    "# Identifica los valores atípicos\n",
    "outliers = sales_pc_platform[(sales_pc_platform['total_sales_in_millions_usd'] < q1 - 1.5 * iqr) | (sales_pc_platform['total_sales_in_millions_usd'] > q3 + 1.5 * iqr)]\n",
    "outliers"
   ]
  },
  {
   "cell_type": "markdown",
   "metadata": {},
   "source": [
    "#### 3.5 Gráfico de dispersión\n",
    "* Que muentre la correlación entre las reseñas y las ventas."
   ]
  },
  {
   "cell_type": "code",
   "execution_count": 23,
   "metadata": {},
   "outputs": [
    {
     "name": "stdout",
     "output_type": "stream",
     "text": [
      "Correlación entre Critic Score y ventas: 0.3136995151027369\n"
     ]
    },
    {
     "data": {
      "application/vnd.plotly.v1+json": {
       "config": {
        "plotlyServerURL": "https://plot.ly"
       },
       "data": [
        {
         "marker": {
          "color": [
           97,
           97,
           97,
           73,
           71,
           82,
           83,
           85,
           87,
           88,
           86,
           82,
           95,
           76,
           97,
           93,
           81,
           86,
           86,
           84,
           77,
           81,
           93,
           88,
           84,
           88,
           80,
           85,
           92,
           70,
           87,
           86,
           87,
           78,
           80,
           88,
           85,
           72,
           80,
           79,
           93,
           76,
           75,
           86,
           82,
           84,
           83,
           81,
           85,
           88,
           91,
           66,
           70,
           87,
           84,
           86,
           78,
           83,
           80,
           83,
           73,
           84,
           87,
           92,
           83,
           78,
           84,
           89,
           86,
           76,
           76,
           87,
           80,
           77,
           80,
           80,
           73,
           79,
           81,
           82,
           80,
           90,
           84,
           73,
           74,
           71,
           81,
           89,
           80,
           93,
           86,
           57,
           86,
           79,
           74,
           88,
           76,
           73,
           82,
           80,
           68,
           87,
           75,
           82,
           65,
           63,
           54,
           61,
           82,
           71,
           94,
           86,
           79,
           81,
           89,
           82,
           70,
           83,
           66,
           78,
           79,
           78,
           80,
           79,
           83,
           85,
           85,
           74,
           64,
           80,
           87,
           86,
           81,
           64,
           60,
           86,
           86,
           83,
           87,
           81,
           84,
           74,
           83,
           91,
           78,
           78,
           74,
           84,
           72,
           77,
           69,
           91,
           75,
           85,
           80,
           76,
           69,
           83,
           76,
           73,
           71,
           81,
           89,
           78,
           96,
           88,
           62,
           74,
           81,
           79,
           83,
           79,
           73,
           87,
           75,
           69,
           80,
           77,
           83,
           91,
           69,
           66,
           91,
           70,
           86,
           90,
           83,
           72,
           90,
           76,
           79,
           78,
           82,
           75,
           76,
           76,
           78,
           84,
           77,
           79,
           85,
           81,
           73,
           80,
           71,
           80,
           85,
           82,
           86,
           77,
           71,
           76,
           70,
           71,
           74,
           61,
           77,
           82,
           77,
           80,
           72,
           84,
           77,
           73,
           78,
           86,
           85,
           76,
           87,
           84,
           55,
           57,
           48,
           91,
           81,
           89,
           95,
           82,
           91,
           74,
           87,
           82,
           85,
           71,
           75,
           80,
           76,
           83,
           83,
           74,
           93,
           73,
           86,
           78,
           76,
           75,
           67,
           79,
           79,
           71,
           81,
           65,
           92,
           94,
           71,
           70,
           73,
           64,
           64,
           84,
           68,
           50,
           85,
           88,
           64,
           74,
           80,
           32,
           76,
           78,
           67,
           73,
           75,
           87,
           77,
           43,
           62,
           60,
           68,
           71,
           72,
           69,
           72,
           60,
           72,
           66,
           89,
           83,
           71,
           91,
           75,
           87,
           56,
           60,
           73,
           86,
           77,
           81,
           75,
           70,
           75,
           80,
           77,
           69,
           81,
           62,
           82,
           70,
           69,
           91,
           88,
           71,
           61,
           68,
           73,
           77,
           34,
           78,
           70,
           59,
           81,
           76,
           81,
           87,
           80,
           78,
           82,
           80,
           79,
           87,
           70,
           74,
           80,
           71,
           70,
           85,
           81,
           61,
           77,
           58,
           78,
           86,
           80,
           73,
           62,
           74,
           81,
           74,
           47,
           76,
           90,
           74,
           61,
           79,
           76,
           80,
           75,
           46,
           46,
           75,
           76,
           69,
           81,
           80,
           59,
           79,
           62,
           78,
           72,
           93,
           85,
           78,
           87,
           87,
           72,
           63,
           79,
           72,
           75,
           33,
           78,
           88,
           84,
           77,
           68,
           82,
           74,
           84,
           83,
           85,
           85,
           81,
           69,
           70,
           73,
           57,
           83,
           78,
           69,
           84,
           77,
           48,
           66,
           71,
           80,
           81,
           59,
           71,
           69,
           63,
           81,
           69,
           80,
           91,
           77,
           78,
           52,
           61,
           80,
           80,
           66,
           72,
           67,
           88,
           81,
           76,
           59,
           74,
           61,
           68,
           32,
           76,
           65,
           81,
           54,
           83,
           68,
           81,
           75,
           79,
           67,
           76,
           60,
           72,
           75,
           47,
           49,
           76,
           80,
           86,
           82,
           73,
           71,
           59,
           71,
           58,
           78,
           68,
           60,
           69,
           69,
           68,
           69,
           73,
           81,
           80,
           68,
           81,
           68,
           75,
           54,
           80,
           67,
           59,
           72,
           78,
           76,
           69,
           88,
           63,
           64,
           75,
           79,
           80,
           57,
           68,
           76,
           76,
           80,
           77,
           77,
           73,
           87,
           43,
           69,
           80,
           59,
           64,
           77,
           88,
           79,
           77,
           82,
           64,
           64,
           82,
           66,
           72,
           88,
           71,
           58,
           62,
           47,
           69,
           68,
           68,
           74,
           74,
           77,
           72,
           83,
           53,
           71,
           74,
           77,
           64,
           32,
           61,
           72,
           73,
           52,
           51,
           62,
           53,
           81,
           36,
           73,
           87,
           86,
           75,
           63,
           53,
           60,
           63,
           23,
           84,
           63,
           85,
           82,
           82,
           77,
           80,
           80,
           47,
           82,
           86,
           74,
           69,
           65,
           58,
           76,
           59,
           60,
           73,
           76,
           48,
           71,
           75,
           45,
           70,
           67,
           59,
           91,
           73,
           66,
           74,
           69,
           81,
           62,
           83,
           58,
           78,
           70,
           57,
           65,
           76,
           77,
           74,
           66,
           72,
           72,
           51,
           71,
           53,
           84,
           38,
           67,
           82,
           68,
           77,
           75,
           65,
           65,
           78,
           71,
           79,
           60,
           73,
           90,
           74,
           68,
           74,
           63,
           80,
           81,
           74,
           40,
           80,
           88,
           79,
           85,
           90,
           93,
           49,
           45,
           87,
           75,
           63,
           71,
           81,
           84,
           73,
           85,
           80,
           75,
           86,
           64,
           70,
           86,
           62,
           67,
           67,
           68,
           83,
           86,
           62,
           64,
           76,
           75,
           65,
           86,
           83,
           65,
           86,
           39,
           45,
           75,
           73,
           58,
           77,
           75,
           84,
           66,
           70,
           19,
           72,
           71,
           67,
           75,
           70,
           75,
           72,
           76,
           77,
           79,
           60,
           62,
           69,
           67,
           85,
           74,
           68,
           66,
           60,
           59,
           56,
           81,
           74,
           54,
           77,
           71,
           85,
           68,
           65,
           75,
           83,
           71,
           73,
           73,
           53,
           61,
           88,
           66,
           71,
           78,
           62,
           59,
           44,
           86,
           81,
           49,
           43,
           70,
           58,
           67,
           69,
           76,
           75,
           71,
           65,
           20,
           42,
           74,
           85,
           47,
           66,
           70,
           90,
           69,
           69,
           77,
           65,
           36,
           85,
           85,
           51,
           52,
           49,
           60,
           72,
           60,
           74,
           33,
           69,
           74,
           91,
           75,
           63,
           81,
           64,
           71,
           40,
           62,
           71,
           89,
           78,
           32,
           83,
           63,
           55,
           72,
           58,
           57,
           72,
           80,
           63,
           70,
           53,
           83,
           74,
           51,
           60,
           72,
           44,
           80,
           55,
           70,
           66,
           70,
           74,
           73,
           60,
           76,
           82,
           83,
           67,
           65,
           68,
           76,
           48,
           76,
           64,
           60,
           66,
           43,
           68,
           58,
           60,
           71,
           74,
           42,
           71,
           25,
           64,
           65,
           19,
           86,
           35,
           83,
           43,
           59,
           52,
           43,
           67,
           58,
           61,
           76,
           76,
           48,
           51,
           77,
           66,
           81,
           64,
           79,
           78,
           63,
           64,
           82,
           66,
           82,
           68,
           75,
           87,
           87,
           50,
           71,
           78,
           63,
           71,
           83,
           66,
           76,
           55,
           35,
           82,
           80,
           43,
           81,
           70,
           13,
           46,
           45,
           64,
           78,
           72,
           84,
           77,
           78,
           72,
           61,
           49,
           58,
           69,
           69,
           72,
           70,
           54,
           75,
           71,
           64,
           73,
           53,
           75,
           77,
           61,
           74,
           73,
           83,
           73,
           86,
           80,
           80,
           65,
           80,
           74,
           65,
           64,
           78,
           43,
           72,
           74,
           73,
           48,
           73,
           88,
           68,
           46,
           58,
           43,
           82,
           45,
           68,
           59,
           57,
           67,
           62,
           70,
           78,
           67,
           86,
           58,
           62,
           52,
           64,
           81,
           31,
           78,
           55,
           58,
           57,
           69,
           65,
           63,
           52,
           43,
           79,
           66,
           73,
           40,
           70,
           26,
           69,
           55,
           65,
           74,
           89,
           48,
           50,
           49,
           87,
           77,
           38,
           66,
           66,
           63,
           62,
           72,
           72,
           90,
           66,
           77,
           73,
           65,
           80,
           56,
           58,
           75,
           66,
           65,
           56,
           66,
           71,
           53,
           67,
           70,
           72,
           71,
           79,
           42,
           70,
           69,
           78,
           82,
           61,
           51,
           65,
           63,
           81,
           74,
           80
          ],
          "colorbar": {
           "title": {
            "text": "Critic Score"
           }
          },
          "colorscale": [
           [
            0,
            "#440154"
           ],
           [
            0.1111111111111111,
            "#482878"
           ],
           [
            0.2222222222222222,
            "#3e4989"
           ],
           [
            0.3333333333333333,
            "#31688e"
           ],
           [
            0.4444444444444444,
            "#26828e"
           ],
           [
            0.5555555555555556,
            "#1f9e89"
           ],
           [
            0.6666666666666666,
            "#35b779"
           ],
           [
            0.7777777777777778,
            "#6ece58"
           ],
           [
            0.8888888888888888,
            "#b5de2b"
           ],
           [
            1,
            "#fde725"
           ]
          ],
          "size": 5
         },
         "mode": "markers",
         "type": "scatter",
         "x": [
          97,
          97,
          97,
          73,
          71,
          82,
          83,
          85,
          87,
          88,
          86,
          82,
          95,
          76,
          97,
          93,
          81,
          86,
          86,
          84,
          77,
          81,
          93,
          88,
          84,
          88,
          80,
          85,
          92,
          70,
          87,
          86,
          87,
          78,
          80,
          88,
          85,
          72,
          80,
          79,
          93,
          76,
          75,
          86,
          82,
          84,
          83,
          81,
          85,
          88,
          91,
          66,
          70,
          87,
          84,
          86,
          78,
          83,
          80,
          83,
          73,
          84,
          87,
          92,
          83,
          78,
          84,
          89,
          86,
          76,
          76,
          87,
          80,
          77,
          80,
          80,
          73,
          79,
          81,
          82,
          80,
          90,
          84,
          73,
          74,
          71,
          81,
          89,
          80,
          93,
          86,
          57,
          86,
          79,
          74,
          88,
          76,
          73,
          82,
          80,
          68,
          87,
          75,
          82,
          65,
          63,
          54,
          61,
          82,
          71,
          94,
          86,
          79,
          81,
          89,
          82,
          70,
          83,
          66,
          78,
          79,
          78,
          80,
          79,
          83,
          85,
          85,
          74,
          64,
          80,
          87,
          86,
          81,
          64,
          60,
          86,
          86,
          83,
          87,
          81,
          84,
          74,
          83,
          91,
          78,
          78,
          74,
          84,
          72,
          77,
          69,
          91,
          75,
          85,
          80,
          76,
          69,
          83,
          76,
          73,
          71,
          81,
          89,
          78,
          96,
          88,
          62,
          74,
          81,
          79,
          83,
          79,
          73,
          87,
          75,
          69,
          80,
          77,
          83,
          91,
          69,
          66,
          91,
          70,
          86,
          90,
          83,
          72,
          90,
          76,
          79,
          78,
          82,
          75,
          76,
          76,
          78,
          84,
          77,
          79,
          85,
          81,
          73,
          80,
          71,
          80,
          85,
          82,
          86,
          77,
          71,
          76,
          70,
          71,
          74,
          61,
          77,
          82,
          77,
          80,
          72,
          84,
          77,
          73,
          78,
          86,
          85,
          76,
          87,
          84,
          55,
          57,
          48,
          91,
          81,
          89,
          95,
          82,
          91,
          74,
          87,
          82,
          85,
          71,
          75,
          80,
          76,
          83,
          83,
          74,
          93,
          73,
          86,
          78,
          76,
          75,
          67,
          79,
          79,
          71,
          81,
          65,
          92,
          94,
          71,
          70,
          73,
          64,
          64,
          84,
          68,
          50,
          85,
          88,
          64,
          74,
          80,
          32,
          76,
          78,
          67,
          73,
          75,
          87,
          77,
          43,
          62,
          60,
          68,
          71,
          72,
          69,
          72,
          60,
          72,
          66,
          89,
          83,
          71,
          91,
          75,
          87,
          56,
          60,
          73,
          86,
          77,
          81,
          75,
          70,
          75,
          80,
          77,
          69,
          81,
          62,
          82,
          70,
          69,
          91,
          88,
          71,
          61,
          68,
          73,
          77,
          34,
          78,
          70,
          59,
          81,
          76,
          81,
          87,
          80,
          78,
          82,
          80,
          79,
          87,
          70,
          74,
          80,
          71,
          70,
          85,
          81,
          61,
          77,
          58,
          78,
          86,
          80,
          73,
          62,
          74,
          81,
          74,
          47,
          76,
          90,
          74,
          61,
          79,
          76,
          80,
          75,
          46,
          46,
          75,
          76,
          69,
          81,
          80,
          59,
          79,
          62,
          78,
          72,
          93,
          85,
          78,
          87,
          87,
          72,
          63,
          79,
          72,
          75,
          33,
          78,
          88,
          84,
          77,
          68,
          82,
          74,
          84,
          83,
          85,
          85,
          81,
          69,
          70,
          73,
          57,
          83,
          78,
          69,
          84,
          77,
          48,
          66,
          71,
          80,
          81,
          59,
          71,
          69,
          63,
          81,
          69,
          80,
          91,
          77,
          78,
          52,
          61,
          80,
          80,
          66,
          72,
          67,
          88,
          81,
          76,
          59,
          74,
          61,
          68,
          32,
          76,
          65,
          81,
          54,
          83,
          68,
          81,
          75,
          79,
          67,
          76,
          60,
          72,
          75,
          47,
          49,
          76,
          80,
          86,
          82,
          73,
          71,
          59,
          71,
          58,
          78,
          68,
          60,
          69,
          69,
          68,
          69,
          73,
          81,
          80,
          68,
          81,
          68,
          75,
          54,
          80,
          67,
          59,
          72,
          78,
          76,
          69,
          88,
          63,
          64,
          75,
          79,
          80,
          57,
          68,
          76,
          76,
          80,
          77,
          77,
          73,
          87,
          43,
          69,
          80,
          59,
          64,
          77,
          88,
          79,
          77,
          82,
          64,
          64,
          82,
          66,
          72,
          88,
          71,
          58,
          62,
          47,
          69,
          68,
          68,
          74,
          74,
          77,
          72,
          83,
          53,
          71,
          74,
          77,
          64,
          32,
          61,
          72,
          73,
          52,
          51,
          62,
          53,
          81,
          36,
          73,
          87,
          86,
          75,
          63,
          53,
          60,
          63,
          23,
          84,
          63,
          85,
          82,
          82,
          77,
          80,
          80,
          47,
          82,
          86,
          74,
          69,
          65,
          58,
          76,
          59,
          60,
          73,
          76,
          48,
          71,
          75,
          45,
          70,
          67,
          59,
          91,
          73,
          66,
          74,
          69,
          81,
          62,
          83,
          58,
          78,
          70,
          57,
          65,
          76,
          77,
          74,
          66,
          72,
          72,
          51,
          71,
          53,
          84,
          38,
          67,
          82,
          68,
          77,
          75,
          65,
          65,
          78,
          71,
          79,
          60,
          73,
          90,
          74,
          68,
          74,
          63,
          80,
          81,
          74,
          40,
          80,
          88,
          79,
          85,
          90,
          93,
          49,
          45,
          87,
          75,
          63,
          71,
          81,
          84,
          73,
          85,
          80,
          75,
          86,
          64,
          70,
          86,
          62,
          67,
          67,
          68,
          83,
          86,
          62,
          64,
          76,
          75,
          65,
          86,
          83,
          65,
          86,
          39,
          45,
          75,
          73,
          58,
          77,
          75,
          84,
          66,
          70,
          19,
          72,
          71,
          67,
          75,
          70,
          75,
          72,
          76,
          77,
          79,
          60,
          62,
          69,
          67,
          85,
          74,
          68,
          66,
          60,
          59,
          56,
          81,
          74,
          54,
          77,
          71,
          85,
          68,
          65,
          75,
          83,
          71,
          73,
          73,
          53,
          61,
          88,
          66,
          71,
          78,
          62,
          59,
          44,
          86,
          81,
          49,
          43,
          70,
          58,
          67,
          69,
          76,
          75,
          71,
          65,
          20,
          42,
          74,
          85,
          47,
          66,
          70,
          90,
          69,
          69,
          77,
          65,
          36,
          85,
          85,
          51,
          52,
          49,
          60,
          72,
          60,
          74,
          33,
          69,
          74,
          91,
          75,
          63,
          81,
          64,
          71,
          40,
          62,
          71,
          89,
          78,
          32,
          83,
          63,
          55,
          72,
          58,
          57,
          72,
          80,
          63,
          70,
          53,
          83,
          74,
          51,
          60,
          72,
          44,
          80,
          55,
          70,
          66,
          70,
          74,
          73,
          60,
          76,
          82,
          83,
          67,
          65,
          68,
          76,
          48,
          76,
          64,
          60,
          66,
          43,
          68,
          58,
          60,
          71,
          74,
          42,
          71,
          25,
          64,
          65,
          19,
          86,
          35,
          83,
          43,
          59,
          52,
          43,
          67,
          58,
          61,
          76,
          76,
          48,
          51,
          77,
          66,
          81,
          64,
          79,
          78,
          63,
          64,
          82,
          66,
          82,
          68,
          75,
          87,
          87,
          50,
          71,
          78,
          63,
          71,
          83,
          66,
          76,
          55,
          35,
          82,
          80,
          43,
          81,
          70,
          13,
          46,
          45,
          64,
          78,
          72,
          84,
          77,
          78,
          72,
          61,
          49,
          58,
          69,
          69,
          72,
          70,
          54,
          75,
          71,
          64,
          73,
          53,
          75,
          77,
          61,
          74,
          73,
          83,
          73,
          86,
          80,
          80,
          65,
          80,
          74,
          65,
          64,
          78,
          43,
          72,
          74,
          73,
          48,
          73,
          88,
          68,
          46,
          58,
          43,
          82,
          45,
          68,
          59,
          57,
          67,
          62,
          70,
          78,
          67,
          86,
          58,
          62,
          52,
          64,
          81,
          31,
          78,
          55,
          58,
          57,
          69,
          65,
          63,
          52,
          43,
          79,
          66,
          73,
          40,
          70,
          26,
          69,
          55,
          65,
          74,
          89,
          48,
          50,
          49,
          87,
          77,
          38,
          66,
          66,
          63,
          62,
          72,
          72,
          90,
          66,
          77,
          73,
          65,
          80,
          56,
          58,
          75,
          66,
          65,
          56,
          66,
          71,
          53,
          67,
          70,
          72,
          71,
          79,
          42,
          70,
          69,
          78,
          82,
          61,
          51,
          65,
          63,
          81,
          74,
          80
         ],
         "y": [
          21.05,
          16.27,
          12.620000000000001,
          10.24,
          9.36,
          8.58,
          7.66,
          7.6000000000000005,
          7.17,
          7.09,
          6.460000000000001,
          6.08,
          5.86,
          5.640000000000001,
          5.47,
          5.39,
          5.26,
          4.62,
          4.59,
          4.49,
          4.470000000000001,
          4.4399999999999995,
          4.319999999999999,
          4.22,
          4.22,
          4.07,
          4.05,
          4.04,
          3.9699999999999998,
          3.96,
          3.96,
          3.89,
          3.87,
          3.8299999999999996,
          3.8,
          3.7099999999999995,
          3.58,
          3.5,
          3.4899999999999998,
          3.49,
          3.4200000000000004,
          3.3899999999999997,
          3.37,
          3.3099999999999996,
          3.28,
          3.25,
          3.2399999999999998,
          3.2299999999999995,
          3.23,
          3.21,
          3.1,
          3.05,
          3.0500000000000003,
          3.01,
          2.96,
          2.95,
          2.92,
          2.86,
          2.7899999999999996,
          2.78,
          2.6900000000000004,
          2.65,
          2.52,
          2.48,
          2.4499999999999997,
          2.4200000000000004,
          2.42,
          2.34,
          2.34,
          2.29,
          2.2600000000000002,
          2.25,
          2.25,
          2.2300000000000004,
          2.23,
          2.22,
          2.21,
          2.1999999999999997,
          2.19,
          2.18,
          2.1700000000000004,
          2.14,
          2.11,
          2.11,
          2.09,
          2.07,
          2.02,
          2.01,
          1.98,
          1.94,
          1.9200000000000002,
          1.9200000000000002,
          1.91,
          1.9100000000000001,
          1.88,
          1.8800000000000001,
          1.87,
          1.85,
          1.83,
          1.83,
          1.81,
          1.7999999999999998,
          1.7900000000000003,
          1.74,
          1.7500000000000002,
          1.7200000000000002,
          1.73,
          1.7200000000000002,
          1.73,
          1.6900000000000002,
          1.6900000000000002,
          1.67,
          1.6600000000000001,
          1.65,
          1.6600000000000001,
          1.6400000000000001,
          1.6400000000000001,
          1.62,
          1.58,
          1.57,
          1.5699999999999998,
          1.5700000000000003,
          1.56,
          1.54,
          1.5299999999999998,
          1.4900000000000002,
          1.44,
          1.44,
          1.42,
          1.42,
          1.4100000000000001,
          1.4000000000000001,
          1.3800000000000001,
          1.3800000000000001,
          1.3900000000000001,
          1.38,
          1.3800000000000001,
          1.3599999999999999,
          1.3599999999999999,
          1.36,
          1.3399999999999999,
          1.3399999999999999,
          1.3199999999999998,
          1.3,
          1.3,
          1.2900000000000003,
          1.29,
          1.2800000000000002,
          1.28,
          1.2800000000000002,
          1.27,
          1.2799999999999998,
          1.2699999999999998,
          1.27,
          1.26,
          1.25,
          1.25,
          1.23,
          1.23,
          1.21,
          1.21,
          1.1900000000000002,
          1.2000000000000002,
          1.19,
          1.1700000000000002,
          1.1600000000000001,
          1.15,
          1.14,
          1.1300000000000001,
          1.14,
          1.13,
          1.1199999999999999,
          1.11,
          1.12,
          1.11,
          1.1,
          1.1,
          1.09,
          1.0799999999999998,
          1.08,
          1.07,
          1.07,
          1.06,
          1.05,
          1.03,
          1.03,
          1.02,
          1.01,
          1.02,
          1.01,
          0.99,
          0.98,
          0.9799999999999999,
          0.9700000000000001,
          0.9700000000000001,
          0.9600000000000001,
          0.95,
          0.9400000000000001,
          0.9400000000000001,
          0.93,
          0.93,
          0.93,
          0.92,
          0.93,
          0.93,
          0.93,
          0.93,
          0.9299999999999999,
          0.8999999999999999,
          0.9,
          0.91,
          0.91,
          0.9,
          0.9000000000000001,
          0.91,
          0.8900000000000001,
          0.88,
          0.88,
          0.87,
          0.86,
          0.84,
          0.8400000000000001,
          0.84,
          0.8,
          0.8000000000000002,
          0.8,
          0.7899999999999999,
          0.8,
          0.78,
          0.79,
          0.7799999999999999,
          0.78,
          0.77,
          0.76,
          0.76,
          0.7600000000000001,
          0.75,
          0.75,
          0.74,
          0.74,
          0.74,
          0.74,
          0.73,
          0.73,
          0.73,
          0.73,
          0.72,
          0.7200000000000001,
          0.72,
          0.73,
          0.7200000000000001,
          0.7,
          0.7,
          0.71,
          0.6799999999999999,
          0.7,
          0.6900000000000001,
          0.6800000000000002,
          0.6599999999999999,
          0.67,
          0.6799999999999999,
          0.67,
          0.6600000000000001,
          0.6599999999999999,
          0.66,
          0.6599999999999999,
          0.65,
          0.65,
          0.64,
          0.65,
          0.6400000000000001,
          0.6400000000000001,
          0.63,
          0.64,
          0.6400000000000001,
          0.6300000000000001,
          0.63,
          0.6200000000000001,
          0.6300000000000001,
          0.63,
          0.6200000000000001,
          0.61,
          0.61,
          0.6200000000000001,
          0.62,
          0.6,
          0.61,
          0.6000000000000001,
          0.6100000000000001,
          0.6000000000000001,
          0.6,
          0.6,
          0.5900000000000001,
          0.6,
          0.5900000000000001,
          0.5800000000000001,
          0.5800000000000001,
          0.5800000000000001,
          0.5800000000000001,
          0.5800000000000001,
          0.5700000000000001,
          0.5700000000000001,
          0.5700000000000001,
          0.5700000000000001,
          0.5700000000000001,
          0.56,
          0.56,
          0.55,
          0.54,
          0.55,
          0.5499999999999999,
          0.54,
          0.5499999999999999,
          0.53,
          0.54,
          0.53,
          0.54,
          0.53,
          0.53,
          0.53,
          0.52,
          0.52,
          0.51,
          0.52,
          0.51,
          0.51,
          0.51,
          0.49999999999999994,
          0.51,
          0.48,
          0.49000000000000005,
          0.49,
          0.48,
          0.48,
          0.4799999999999999,
          0.4800000000000001,
          0.48,
          0.48,
          0.47,
          0.47,
          0.45999999999999996,
          0.47000000000000003,
          0.47,
          0.44999999999999996,
          0.45,
          0.45,
          0.44999999999999996,
          0.45,
          0.44000000000000006,
          0.44000000000000006,
          0.44,
          0.43,
          0.43,
          0.44,
          0.43,
          0.44,
          0.43,
          0.44,
          0.42999999999999994,
          0.43,
          0.43,
          0.43000000000000005,
          0.43000000000000005,
          0.43,
          0.42000000000000004,
          0.42,
          0.42000000000000004,
          0.42,
          0.42000000000000004,
          0.42,
          0.42,
          0.42,
          0.41,
          0.41,
          0.41,
          0.41,
          0.41000000000000003,
          0.41000000000000003,
          0.4,
          0.41,
          0.38999999999999996,
          0.4,
          0.4,
          0.38999999999999996,
          0.39999999999999997,
          0.39,
          0.38,
          0.39,
          0.38,
          0.38999999999999996,
          0.38,
          0.38,
          0.38,
          0.37000000000000005,
          0.38,
          0.38000000000000006,
          0.37000000000000005,
          0.37000000000000005,
          0.38,
          0.36000000000000004,
          0.36,
          0.36,
          0.37,
          0.36,
          0.36000000000000004,
          0.36,
          0.36,
          0.36,
          0.34,
          0.35,
          0.36,
          0.35000000000000003,
          0.36,
          0.35000000000000003,
          0.35,
          0.35000000000000003,
          0.35000000000000003,
          0.33999999999999997,
          0.34,
          0.33999999999999997,
          0.34,
          0.35,
          0.35,
          0.33999999999999997,
          0.34,
          0.33,
          0.33,
          0.33,
          0.33,
          0.32000000000000006,
          0.31999999999999995,
          0.33,
          0.31999999999999995,
          0.32000000000000006,
          0.33,
          0.32,
          0.32,
          0.31000000000000005,
          0.31000000000000005,
          0.31000000000000005,
          0.31000000000000005,
          0.32,
          0.31000000000000005,
          0.3,
          0.3,
          0.31000000000000005,
          0.31000000000000005,
          0.31000000000000005,
          0.31,
          0.30000000000000004,
          0.3,
          0.29000000000000004,
          0.3,
          0.3,
          0.28,
          0.29000000000000004,
          0.29000000000000004,
          0.28,
          0.29,
          0.29000000000000004,
          0.29000000000000004,
          0.29000000000000004,
          0.27,
          0.28,
          0.29,
          0.28,
          0.27,
          0.28,
          0.27,
          0.27,
          0.26,
          0.27,
          0.26,
          0.27,
          0.26,
          0.26,
          0.26,
          0.26,
          0.26,
          0.26,
          0.25,
          0.25,
          0.25,
          0.26,
          0.26,
          0.25,
          0.25,
          0.25,
          0.24,
          0.25,
          0.24999999999999997,
          0.25,
          0.24000000000000002,
          0.24,
          0.25,
          0.24,
          0.24000000000000002,
          0.24000000000000002,
          0.24,
          0.24000000000000002,
          0.24,
          0.24000000000000002,
          0.24000000000000002,
          0.24000000000000002,
          0.24,
          0.24,
          0.24000000000000002,
          0.23,
          0.23,
          0.22999999999999998,
          0.23,
          0.23,
          0.22000000000000003,
          0.23,
          0.23,
          0.22,
          0.23,
          0.22,
          0.22,
          0.22,
          0.21000000000000002,
          0.22,
          0.22,
          0.22,
          0.22,
          0.21,
          0.21,
          0.22,
          0.21,
          0.21,
          0.21000000000000002,
          0.21,
          0.2,
          0.21000000000000002,
          0.21,
          0.2,
          0.19999999999999998,
          0.19999999999999998,
          0.2,
          0.2,
          0.19999999999999998,
          0.2,
          0.19999999999999998,
          0.21,
          0.2,
          0.19999999999999998,
          0.19999999999999998,
          0.2,
          0.2,
          0.19999999999999998,
          0.19999999999999998,
          0.19999999999999998,
          0.18000000000000002,
          0.19999999999999998,
          0.19999999999999998,
          0.18999999999999997,
          0.19,
          0.18000000000000002,
          0.18999999999999997,
          0.18999999999999997,
          0.19999999999999998,
          0.18000000000000002,
          0.18000000000000002,
          0.19,
          0.18000000000000002,
          0.18999999999999997,
          0.18,
          0.19999999999999998,
          0.18999999999999997,
          0.18,
          0.18,
          0.18,
          0.18,
          0.18,
          0.18999999999999997,
          0.18,
          0.16999999999999998,
          0.18000000000000002,
          0.18,
          0.18,
          0.18,
          0.17,
          0.17,
          0.18,
          0.16999999999999998,
          0.16,
          0.17,
          0.17,
          0.17,
          0.16,
          0.16999999999999998,
          0.17,
          0.16,
          0.17,
          0.16999999999999998,
          0.17,
          0.16,
          0.16,
          0.15000000000000002,
          0.16,
          0.16000000000000003,
          0.16000000000000003,
          0.16,
          0.16999999999999998,
          0.15000000000000002,
          0.16,
          0.16,
          0.16000000000000003,
          0.16,
          0.15000000000000002,
          0.15000000000000002,
          0.15000000000000002,
          0.16,
          0.15,
          0.15000000000000002,
          0.15,
          0.15000000000000002,
          0.13999999999999999,
          0.16,
          0.15000000000000002,
          0.15000000000000002,
          0.15,
          0.14,
          0.14,
          0.15000000000000002,
          0.15000000000000002,
          0.13,
          0.13999999999999999,
          0.13999999999999999,
          0.14,
          0.14,
          0.15,
          0.14,
          0.14,
          0.13999999999999999,
          0.14,
          0.14,
          0.13,
          0.14,
          0.13,
          0.13,
          0.13,
          0.13,
          0.12000000000000001,
          0.13,
          0.13,
          0.13,
          0.13,
          0.13,
          0.13,
          0.12000000000000001,
          0.13,
          0.13,
          0.13,
          0.13,
          0.13,
          0.12,
          0.12,
          0.12,
          0.11,
          0.12,
          0.11,
          0.12000000000000001,
          0.12000000000000001,
          0.12,
          0.12,
          0.12000000000000001,
          0.12,
          0.12,
          0.11,
          0.12,
          0.12,
          0.12,
          0.12,
          0.12000000000000001,
          0.11,
          0.11,
          0.11,
          0.12000000000000001,
          0.11,
          0.12000000000000001,
          0.11,
          0.11,
          0.11,
          0.11,
          0.10999999999999999,
          0.11,
          0.09999999999999999,
          0.11,
          0.11,
          0.11,
          0.11,
          0.11,
          0.09999999999999999,
          0.11,
          0.11,
          0.09999999999999999,
          0.11,
          0.09999999999999999,
          0.11,
          0.09999999999999999,
          0.09999999999999999,
          0.09999999999999999,
          0.11,
          0.1,
          0.1,
          0.09,
          0.1,
          0.09,
          0.1,
          0.09999999999999999,
          0.09999999999999999,
          0.09,
          0.09999999999999999,
          0.09999999999999999,
          0.09000000000000001,
          0.1,
          0.09000000000000001,
          0.09,
          0.09999999999999999,
          0.1,
          0.1,
          0.09,
          0.09,
          0.09,
          0.09,
          0.08,
          0.09,
          0.09,
          0.08,
          0.09,
          0.08,
          0.08,
          0.08,
          0.09,
          0.08,
          0.08,
          0.06999999999999999,
          0.08,
          0.09,
          0.09000000000000001,
          0.07,
          0.08,
          0.08,
          0.07999999999999999,
          0.06999999999999999,
          0.08,
          0.08,
          0.08,
          0.08,
          0.06999999999999999,
          0.08,
          0.08,
          0.06999999999999999,
          0.08,
          0.07,
          0.07,
          0.08,
          0.08,
          0.08,
          0.07,
          0.08,
          0.06999999999999999,
          0.07,
          0.07,
          0.06999999999999999,
          0.08,
          0.06999999999999999,
          0.06999999999999999,
          0.06999999999999999,
          0.06999999999999999,
          0.06999999999999999,
          0.08,
          0.07,
          0.06,
          0.06999999999999999,
          0.07,
          0.060000000000000005,
          0.07,
          0.06,
          0.06,
          0.06999999999999999,
          0.06999999999999999,
          0.06,
          0.06999999999999999,
          0.06999999999999999,
          0.06,
          0.06,
          0.06,
          0.060000000000000005,
          0.060000000000000005,
          0.060000000000000005,
          0.06,
          0.06,
          0.060000000000000005,
          0.060000000000000005,
          0.06,
          0.06,
          0.06999999999999999,
          0.060000000000000005,
          0.06999999999999999,
          0.060000000000000005,
          0.06999999999999999,
          0.060000000000000005,
          0.06999999999999999,
          0.06,
          0.05,
          0.060000000000000005,
          0.060000000000000005,
          0.05,
          0.060000000000000005,
          0.05,
          0.060000000000000005,
          0.060000000000000005,
          0.05,
          0.060000000000000005,
          0.05,
          0.05,
          0.05,
          0.060000000000000005,
          0.05,
          0.05,
          0.05,
          0.05,
          0.04,
          0.05,
          0.05,
          0.05,
          0.05,
          0.05,
          0.060000000000000005,
          0.05,
          0.05,
          0.04,
          0.05,
          0.04,
          0.05,
          0.05,
          0.04,
          0.05,
          0.05,
          0.05,
          0.05,
          0.04,
          0.04,
          0.04,
          0.05,
          0.05,
          0.04,
          0.05,
          0.05,
          0.05,
          0.04,
          0.04,
          0.04,
          0.04,
          0.04,
          0.04,
          0.04,
          0.03,
          0.04,
          0.03,
          0.03,
          0.05,
          0.04,
          0.04,
          0.04,
          0.04,
          0.04,
          0.04,
          0.04,
          0.03,
          0.04,
          0.04,
          0.04,
          0.04,
          0.03,
          0.03,
          0.03,
          0.03,
          0.03,
          0.03,
          0.03,
          0.03,
          0.04,
          0.03,
          0.03,
          0.03,
          0.03,
          0.03,
          0.03,
          0.03,
          0.03,
          0.03,
          0.03,
          0.03,
          0.03,
          0.03,
          0.03,
          0.02,
          0.03,
          0.03,
          0.03,
          0.03,
          0.03,
          0.02,
          0.03,
          0.03,
          0.03,
          0.02,
          0.02,
          0.02,
          0.02,
          0.02,
          0.02,
          0.02,
          0.02,
          0.02,
          0.02,
          0.02,
          0.02,
          0.02,
          0.02,
          0.02,
          0.02,
          0.02,
          0.02,
          0.02,
          0.02,
          0.02,
          0.02,
          0.02,
          0.02,
          0.02,
          0.02,
          0.02,
          0.02,
          0.02,
          0.02,
          0.02,
          0.02,
          0.02,
          0.02,
          0.02,
          0.02,
          0.02,
          0.02,
          0.01,
          0.02,
          0.01,
          0.02,
          0.02,
          0.01,
          0.01,
          0.01,
          0.01,
          0.01,
          0.01,
          0.02,
          0.01,
          0.01,
          0.01,
          0.01,
          0.01,
          0.01,
          0.01,
          0.01,
          0.01,
          0.01,
          0.01,
          0.01,
          0.01,
          0.01,
          0.01,
          0.01,
          0.01,
          0.01,
          0.01,
          0.01,
          0.01,
          0.01,
          0.01,
          0.01,
          0.01,
          0.01,
          0.01,
          0.01,
          0.01,
          0.01,
          0.01,
          0.01
         ]
        }
       ],
       "layout": {
        "paper_bgcolor": "rgba(0,0,0,0)",
        "plot_bgcolor": "rgba(0,0,0,0)",
        "showlegend": false,
        "template": {
         "data": {
          "bar": [
           {
            "error_x": {
             "color": "#2a3f5f"
            },
            "error_y": {
             "color": "#2a3f5f"
            },
            "marker": {
             "line": {
              "color": "#E5ECF6",
              "width": 0.5
             },
             "pattern": {
              "fillmode": "overlay",
              "size": 10,
              "solidity": 0.2
             }
            },
            "type": "bar"
           }
          ],
          "barpolar": [
           {
            "marker": {
             "line": {
              "color": "#E5ECF6",
              "width": 0.5
             },
             "pattern": {
              "fillmode": "overlay",
              "size": 10,
              "solidity": 0.2
             }
            },
            "type": "barpolar"
           }
          ],
          "carpet": [
           {
            "aaxis": {
             "endlinecolor": "#2a3f5f",
             "gridcolor": "white",
             "linecolor": "white",
             "minorgridcolor": "white",
             "startlinecolor": "#2a3f5f"
            },
            "baxis": {
             "endlinecolor": "#2a3f5f",
             "gridcolor": "white",
             "linecolor": "white",
             "minorgridcolor": "white",
             "startlinecolor": "#2a3f5f"
            },
            "type": "carpet"
           }
          ],
          "choropleth": [
           {
            "colorbar": {
             "outlinewidth": 0,
             "ticks": ""
            },
            "type": "choropleth"
           }
          ],
          "contour": [
           {
            "colorbar": {
             "outlinewidth": 0,
             "ticks": ""
            },
            "colorscale": [
             [
              0,
              "#0d0887"
             ],
             [
              0.1111111111111111,
              "#46039f"
             ],
             [
              0.2222222222222222,
              "#7201a8"
             ],
             [
              0.3333333333333333,
              "#9c179e"
             ],
             [
              0.4444444444444444,
              "#bd3786"
             ],
             [
              0.5555555555555556,
              "#d8576b"
             ],
             [
              0.6666666666666666,
              "#ed7953"
             ],
             [
              0.7777777777777778,
              "#fb9f3a"
             ],
             [
              0.8888888888888888,
              "#fdca26"
             ],
             [
              1,
              "#f0f921"
             ]
            ],
            "type": "contour"
           }
          ],
          "contourcarpet": [
           {
            "colorbar": {
             "outlinewidth": 0,
             "ticks": ""
            },
            "type": "contourcarpet"
           }
          ],
          "heatmap": [
           {
            "colorbar": {
             "outlinewidth": 0,
             "ticks": ""
            },
            "colorscale": [
             [
              0,
              "#0d0887"
             ],
             [
              0.1111111111111111,
              "#46039f"
             ],
             [
              0.2222222222222222,
              "#7201a8"
             ],
             [
              0.3333333333333333,
              "#9c179e"
             ],
             [
              0.4444444444444444,
              "#bd3786"
             ],
             [
              0.5555555555555556,
              "#d8576b"
             ],
             [
              0.6666666666666666,
              "#ed7953"
             ],
             [
              0.7777777777777778,
              "#fb9f3a"
             ],
             [
              0.8888888888888888,
              "#fdca26"
             ],
             [
              1,
              "#f0f921"
             ]
            ],
            "type": "heatmap"
           }
          ],
          "heatmapgl": [
           {
            "colorbar": {
             "outlinewidth": 0,
             "ticks": ""
            },
            "colorscale": [
             [
              0,
              "#0d0887"
             ],
             [
              0.1111111111111111,
              "#46039f"
             ],
             [
              0.2222222222222222,
              "#7201a8"
             ],
             [
              0.3333333333333333,
              "#9c179e"
             ],
             [
              0.4444444444444444,
              "#bd3786"
             ],
             [
              0.5555555555555556,
              "#d8576b"
             ],
             [
              0.6666666666666666,
              "#ed7953"
             ],
             [
              0.7777777777777778,
              "#fb9f3a"
             ],
             [
              0.8888888888888888,
              "#fdca26"
             ],
             [
              1,
              "#f0f921"
             ]
            ],
            "type": "heatmapgl"
           }
          ],
          "histogram": [
           {
            "marker": {
             "pattern": {
              "fillmode": "overlay",
              "size": 10,
              "solidity": 0.2
             }
            },
            "type": "histogram"
           }
          ],
          "histogram2d": [
           {
            "colorbar": {
             "outlinewidth": 0,
             "ticks": ""
            },
            "colorscale": [
             [
              0,
              "#0d0887"
             ],
             [
              0.1111111111111111,
              "#46039f"
             ],
             [
              0.2222222222222222,
              "#7201a8"
             ],
             [
              0.3333333333333333,
              "#9c179e"
             ],
             [
              0.4444444444444444,
              "#bd3786"
             ],
             [
              0.5555555555555556,
              "#d8576b"
             ],
             [
              0.6666666666666666,
              "#ed7953"
             ],
             [
              0.7777777777777778,
              "#fb9f3a"
             ],
             [
              0.8888888888888888,
              "#fdca26"
             ],
             [
              1,
              "#f0f921"
             ]
            ],
            "type": "histogram2d"
           }
          ],
          "histogram2dcontour": [
           {
            "colorbar": {
             "outlinewidth": 0,
             "ticks": ""
            },
            "colorscale": [
             [
              0,
              "#0d0887"
             ],
             [
              0.1111111111111111,
              "#46039f"
             ],
             [
              0.2222222222222222,
              "#7201a8"
             ],
             [
              0.3333333333333333,
              "#9c179e"
             ],
             [
              0.4444444444444444,
              "#bd3786"
             ],
             [
              0.5555555555555556,
              "#d8576b"
             ],
             [
              0.6666666666666666,
              "#ed7953"
             ],
             [
              0.7777777777777778,
              "#fb9f3a"
             ],
             [
              0.8888888888888888,
              "#fdca26"
             ],
             [
              1,
              "#f0f921"
             ]
            ],
            "type": "histogram2dcontour"
           }
          ],
          "mesh3d": [
           {
            "colorbar": {
             "outlinewidth": 0,
             "ticks": ""
            },
            "type": "mesh3d"
           }
          ],
          "parcoords": [
           {
            "line": {
             "colorbar": {
              "outlinewidth": 0,
              "ticks": ""
             }
            },
            "type": "parcoords"
           }
          ],
          "pie": [
           {
            "automargin": true,
            "type": "pie"
           }
          ],
          "scatter": [
           {
            "fillpattern": {
             "fillmode": "overlay",
             "size": 10,
             "solidity": 0.2
            },
            "type": "scatter"
           }
          ],
          "scatter3d": [
           {
            "line": {
             "colorbar": {
              "outlinewidth": 0,
              "ticks": ""
             }
            },
            "marker": {
             "colorbar": {
              "outlinewidth": 0,
              "ticks": ""
             }
            },
            "type": "scatter3d"
           }
          ],
          "scattercarpet": [
           {
            "marker": {
             "colorbar": {
              "outlinewidth": 0,
              "ticks": ""
             }
            },
            "type": "scattercarpet"
           }
          ],
          "scattergeo": [
           {
            "marker": {
             "colorbar": {
              "outlinewidth": 0,
              "ticks": ""
             }
            },
            "type": "scattergeo"
           }
          ],
          "scattergl": [
           {
            "marker": {
             "colorbar": {
              "outlinewidth": 0,
              "ticks": ""
             }
            },
            "type": "scattergl"
           }
          ],
          "scattermapbox": [
           {
            "marker": {
             "colorbar": {
              "outlinewidth": 0,
              "ticks": ""
             }
            },
            "type": "scattermapbox"
           }
          ],
          "scatterpolar": [
           {
            "marker": {
             "colorbar": {
              "outlinewidth": 0,
              "ticks": ""
             }
            },
            "type": "scatterpolar"
           }
          ],
          "scatterpolargl": [
           {
            "marker": {
             "colorbar": {
              "outlinewidth": 0,
              "ticks": ""
             }
            },
            "type": "scatterpolargl"
           }
          ],
          "scatterternary": [
           {
            "marker": {
             "colorbar": {
              "outlinewidth": 0,
              "ticks": ""
             }
            },
            "type": "scatterternary"
           }
          ],
          "surface": [
           {
            "colorbar": {
             "outlinewidth": 0,
             "ticks": ""
            },
            "colorscale": [
             [
              0,
              "#0d0887"
             ],
             [
              0.1111111111111111,
              "#46039f"
             ],
             [
              0.2222222222222222,
              "#7201a8"
             ],
             [
              0.3333333333333333,
              "#9c179e"
             ],
             [
              0.4444444444444444,
              "#bd3786"
             ],
             [
              0.5555555555555556,
              "#d8576b"
             ],
             [
              0.6666666666666666,
              "#ed7953"
             ],
             [
              0.7777777777777778,
              "#fb9f3a"
             ],
             [
              0.8888888888888888,
              "#fdca26"
             ],
             [
              1,
              "#f0f921"
             ]
            ],
            "type": "surface"
           }
          ],
          "table": [
           {
            "cells": {
             "fill": {
              "color": "#EBF0F8"
             },
             "line": {
              "color": "white"
             }
            },
            "header": {
             "fill": {
              "color": "#C8D4E3"
             },
             "line": {
              "color": "white"
             }
            },
            "type": "table"
           }
          ]
         },
         "layout": {
          "annotationdefaults": {
           "arrowcolor": "#2a3f5f",
           "arrowhead": 0,
           "arrowwidth": 1
          },
          "autotypenumbers": "strict",
          "coloraxis": {
           "colorbar": {
            "outlinewidth": 0,
            "ticks": ""
           }
          },
          "colorscale": {
           "diverging": [
            [
             0,
             "#8e0152"
            ],
            [
             0.1,
             "#c51b7d"
            ],
            [
             0.2,
             "#de77ae"
            ],
            [
             0.3,
             "#f1b6da"
            ],
            [
             0.4,
             "#fde0ef"
            ],
            [
             0.5,
             "#f7f7f7"
            ],
            [
             0.6,
             "#e6f5d0"
            ],
            [
             0.7,
             "#b8e186"
            ],
            [
             0.8,
             "#7fbc41"
            ],
            [
             0.9,
             "#4d9221"
            ],
            [
             1,
             "#276419"
            ]
           ],
           "sequential": [
            [
             0,
             "#0d0887"
            ],
            [
             0.1111111111111111,
             "#46039f"
            ],
            [
             0.2222222222222222,
             "#7201a8"
            ],
            [
             0.3333333333333333,
             "#9c179e"
            ],
            [
             0.4444444444444444,
             "#bd3786"
            ],
            [
             0.5555555555555556,
             "#d8576b"
            ],
            [
             0.6666666666666666,
             "#ed7953"
            ],
            [
             0.7777777777777778,
             "#fb9f3a"
            ],
            [
             0.8888888888888888,
             "#fdca26"
            ],
            [
             1,
             "#f0f921"
            ]
           ],
           "sequentialminus": [
            [
             0,
             "#0d0887"
            ],
            [
             0.1111111111111111,
             "#46039f"
            ],
            [
             0.2222222222222222,
             "#7201a8"
            ],
            [
             0.3333333333333333,
             "#9c179e"
            ],
            [
             0.4444444444444444,
             "#bd3786"
            ],
            [
             0.5555555555555556,
             "#d8576b"
            ],
            [
             0.6666666666666666,
             "#ed7953"
            ],
            [
             0.7777777777777778,
             "#fb9f3a"
            ],
            [
             0.8888888888888888,
             "#fdca26"
            ],
            [
             1,
             "#f0f921"
            ]
           ]
          },
          "colorway": [
           "#636efa",
           "#EF553B",
           "#00cc96",
           "#ab63fa",
           "#FFA15A",
           "#19d3f3",
           "#FF6692",
           "#B6E880",
           "#FF97FF",
           "#FECB52"
          ],
          "font": {
           "color": "#2a3f5f"
          },
          "geo": {
           "bgcolor": "white",
           "lakecolor": "white",
           "landcolor": "#E5ECF6",
           "showlakes": true,
           "showland": true,
           "subunitcolor": "white"
          },
          "hoverlabel": {
           "align": "left"
          },
          "hovermode": "closest",
          "mapbox": {
           "style": "light"
          },
          "paper_bgcolor": "white",
          "plot_bgcolor": "#E5ECF6",
          "polar": {
           "angularaxis": {
            "gridcolor": "white",
            "linecolor": "white",
            "ticks": ""
           },
           "bgcolor": "#E5ECF6",
           "radialaxis": {
            "gridcolor": "white",
            "linecolor": "white",
            "ticks": ""
           }
          },
          "scene": {
           "xaxis": {
            "backgroundcolor": "#E5ECF6",
            "gridcolor": "white",
            "gridwidth": 2,
            "linecolor": "white",
            "showbackground": true,
            "ticks": "",
            "zerolinecolor": "white"
           },
           "yaxis": {
            "backgroundcolor": "#E5ECF6",
            "gridcolor": "white",
            "gridwidth": 2,
            "linecolor": "white",
            "showbackground": true,
            "ticks": "",
            "zerolinecolor": "white"
           },
           "zaxis": {
            "backgroundcolor": "#E5ECF6",
            "gridcolor": "white",
            "gridwidth": 2,
            "linecolor": "white",
            "showbackground": true,
            "ticks": "",
            "zerolinecolor": "white"
           }
          },
          "shapedefaults": {
           "line": {
            "color": "#2a3f5f"
           }
          },
          "ternary": {
           "aaxis": {
            "gridcolor": "white",
            "linecolor": "white",
            "ticks": ""
           },
           "baxis": {
            "gridcolor": "white",
            "linecolor": "white",
            "ticks": ""
           },
           "bgcolor": "#E5ECF6",
           "caxis": {
            "gridcolor": "white",
            "linecolor": "white",
            "ticks": ""
           }
          },
          "title": {
           "x": 0.05
          },
          "xaxis": {
           "automargin": true,
           "gridcolor": "white",
           "linecolor": "white",
           "ticks": "",
           "title": {
            "standoff": 15
           },
           "zerolinecolor": "white",
           "zerolinewidth": 2
          },
          "yaxis": {
           "automargin": true,
           "gridcolor": "white",
           "linecolor": "white",
           "ticks": "",
           "title": {
            "standoff": 15
           },
           "zerolinecolor": "white",
           "zerolinewidth": 2
          }
         }
        },
        "title": {
         "text": "Gráfico de Dispersión: Critic Score vs Ventas"
        },
        "xaxis": {
         "title": {
          "text": "Critic Score"
         }
        },
        "yaxis": {
         "title": {
          "text": "Ventas in Millones USD"
         }
        }
       }
      }
     },
     "metadata": {},
     "output_type": "display_data"
    }
   ],
   "source": [
    "critic_score_data = df_since2002_video_games.loc[~df_since2002_video_games['critic_score'].isna()][['total_sales_in_millions_usd', 'critic_score']]\n",
    "\n",
    "# Crear el gráfico de dispersión\n",
    "fig4 = go.Figure()\n",
    "fig4.add_trace(go.Scatter(\n",
    "    x=critic_score_data['critic_score'],\n",
    "    y=critic_score_data['total_sales_in_millions_usd'],\n",
    "    mode='markers',\n",
    "    marker=dict(\n",
    "        size=5,\n",
    "        color=critic_score_data['critic_score'],  # Utilizar colores según la variable critic_score\n",
    "        colorscale='Viridis',  # Cambiar la escala de colores\n",
    "        colorbar=dict(title='Critic Score')  # Agregar una barra de colores\n",
    "    )\n",
    "))\n",
    "\n",
    "# Configurar el diseño del gráfico\n",
    "fig4.update_layout(\n",
    "    title='Gráfico de Dispersión: Critic Score vs Ventas',\n",
    "    xaxis=dict(title='Critic Score'),\n",
    "    yaxis=dict(title='Ventas in Millones USD'),\n",
    "    showlegend=False,  # Desactivar la leyenda para este ejemplo\n",
    "    plot_bgcolor='rgba(0,0,0,0)',\n",
    "    paper_bgcolor='rgba(0,0,0,0)'\n",
    ")\n",
    "\n",
    "# Calcular la correlación\n",
    "correlation = critic_score_data['critic_score'].corr(critic_score_data['total_sales_in_millions_usd'])\n",
    "print(f'Correlación entre Critic Score y ventas: {correlation}')\n",
    "\n",
    "# Mostrar el gráfico\n",
    "fig4.show()"
   ]
  },
  {
   "cell_type": "markdown",
   "metadata": {},
   "source": [
    "<font color=\"sienna\"> Analizando la gráfica, se podría concluir que existe una correlación entre `critic_score` y `total_sales_in_millions_usd`, indicando que en la medida de que las criticas sean positivas, las ventas aunmentan; sin embargo, el coeficiente de correlación de 0.3136 indica que aunque existe una relación positiva, esta relación se considera débil, ya que es bastante cerca a 0.</font>"
   ]
  },
  {
   "cell_type": "code",
   "execution_count": 24,
   "metadata": {},
   "outputs": [
    {
     "data": {
      "text/html": [
       "<div>\n",
       "<style scoped>\n",
       "    .dataframe tbody tr th:only-of-type {\n",
       "        vertical-align: middle;\n",
       "    }\n",
       "\n",
       "    .dataframe tbody tr th {\n",
       "        vertical-align: top;\n",
       "    }\n",
       "\n",
       "    .dataframe thead th {\n",
       "        text-align: right;\n",
       "    }\n",
       "</style>\n",
       "<table border=\"1\" class=\"dataframe\">\n",
       "  <thead>\n",
       "    <tr style=\"text-align: right;\">\n",
       "      <th>platform</th>\n",
       "      <th>3DS</th>\n",
       "      <th>PC</th>\n",
       "      <th>PS3</th>\n",
       "      <th>PS4</th>\n",
       "      <th>PSP</th>\n",
       "      <th>PSV</th>\n",
       "      <th>WiiU</th>\n",
       "      <th>X360</th>\n",
       "      <th>XOne</th>\n",
       "      <th>Total</th>\n",
       "    </tr>\n",
       "    <tr>\n",
       "      <th>name</th>\n",
       "      <th></th>\n",
       "      <th></th>\n",
       "      <th></th>\n",
       "      <th></th>\n",
       "      <th></th>\n",
       "      <th></th>\n",
       "      <th></th>\n",
       "      <th></th>\n",
       "      <th></th>\n",
       "      <th></th>\n",
       "    </tr>\n",
       "  </thead>\n",
       "  <tbody>\n",
       "    <tr>\n",
       "      <th>2014 FIFA World Cup Brazil</th>\n",
       "      <td>0.00</td>\n",
       "      <td>0.00</td>\n",
       "      <td>0.61</td>\n",
       "      <td>0.00</td>\n",
       "      <td>0.00</td>\n",
       "      <td>0.00</td>\n",
       "      <td>0.00</td>\n",
       "      <td>0.43</td>\n",
       "      <td>0.00</td>\n",
       "      <td>1.04</td>\n",
       "    </tr>\n",
       "    <tr>\n",
       "      <th>7 Days to Die</th>\n",
       "      <td>0.00</td>\n",
       "      <td>0.00</td>\n",
       "      <td>0.00</td>\n",
       "      <td>0.14</td>\n",
       "      <td>0.00</td>\n",
       "      <td>0.00</td>\n",
       "      <td>0.00</td>\n",
       "      <td>0.00</td>\n",
       "      <td>0.05</td>\n",
       "      <td>0.19</td>\n",
       "    </tr>\n",
       "    <tr>\n",
       "      <th>7th Dragon III Code: VFD</th>\n",
       "      <td>0.16</td>\n",
       "      <td>0.00</td>\n",
       "      <td>0.00</td>\n",
       "      <td>0.00</td>\n",
       "      <td>0.00</td>\n",
       "      <td>0.00</td>\n",
       "      <td>0.00</td>\n",
       "      <td>0.00</td>\n",
       "      <td>0.00</td>\n",
       "      <td>0.16</td>\n",
       "    </tr>\n",
       "    <tr>\n",
       "      <th>A-Train: City Simulator</th>\n",
       "      <td>0.06</td>\n",
       "      <td>0.00</td>\n",
       "      <td>0.00</td>\n",
       "      <td>0.00</td>\n",
       "      <td>0.00</td>\n",
       "      <td>0.00</td>\n",
       "      <td>0.00</td>\n",
       "      <td>0.00</td>\n",
       "      <td>0.00</td>\n",
       "      <td>0.06</td>\n",
       "    </tr>\n",
       "    <tr>\n",
       "      <th>Act of Aggression</th>\n",
       "      <td>0.00</td>\n",
       "      <td>0.01</td>\n",
       "      <td>0.00</td>\n",
       "      <td>0.00</td>\n",
       "      <td>0.00</td>\n",
       "      <td>0.00</td>\n",
       "      <td>0.00</td>\n",
       "      <td>0.00</td>\n",
       "      <td>0.00</td>\n",
       "      <td>0.01</td>\n",
       "    </tr>\n",
       "    <tr>\n",
       "      <th>...</th>\n",
       "      <td>...</td>\n",
       "      <td>...</td>\n",
       "      <td>...</td>\n",
       "      <td>...</td>\n",
       "      <td>...</td>\n",
       "      <td>...</td>\n",
       "      <td>...</td>\n",
       "      <td>...</td>\n",
       "      <td>...</td>\n",
       "      <td>...</td>\n",
       "    </tr>\n",
       "    <tr>\n",
       "      <th>Zombie Army Trilogy</th>\n",
       "      <td>0.00</td>\n",
       "      <td>0.00</td>\n",
       "      <td>0.00</td>\n",
       "      <td>0.20</td>\n",
       "      <td>0.00</td>\n",
       "      <td>0.00</td>\n",
       "      <td>0.00</td>\n",
       "      <td>0.00</td>\n",
       "      <td>0.11</td>\n",
       "      <td>0.31</td>\n",
       "    </tr>\n",
       "    <tr>\n",
       "      <th>Zumba Fitness: World Party</th>\n",
       "      <td>0.00</td>\n",
       "      <td>0.00</td>\n",
       "      <td>0.00</td>\n",
       "      <td>0.00</td>\n",
       "      <td>0.00</td>\n",
       "      <td>0.00</td>\n",
       "      <td>0.00</td>\n",
       "      <td>0.00</td>\n",
       "      <td>0.24</td>\n",
       "      <td>0.24</td>\n",
       "    </tr>\n",
       "    <tr>\n",
       "      <th>htoL#NiQ: The Firefly Diary</th>\n",
       "      <td>0.00</td>\n",
       "      <td>0.00</td>\n",
       "      <td>0.00</td>\n",
       "      <td>0.00</td>\n",
       "      <td>0.00</td>\n",
       "      <td>0.01</td>\n",
       "      <td>0.00</td>\n",
       "      <td>0.00</td>\n",
       "      <td>0.00</td>\n",
       "      <td>0.01</td>\n",
       "    </tr>\n",
       "    <tr>\n",
       "      <th>inFAMOUS: Second Son</th>\n",
       "      <td>0.00</td>\n",
       "      <td>0.00</td>\n",
       "      <td>0.00</td>\n",
       "      <td>2.79</td>\n",
       "      <td>0.00</td>\n",
       "      <td>0.00</td>\n",
       "      <td>0.00</td>\n",
       "      <td>0.00</td>\n",
       "      <td>0.00</td>\n",
       "      <td>2.79</td>\n",
       "    </tr>\n",
       "    <tr>\n",
       "      <th>Total</th>\n",
       "      <td>40.32</td>\n",
       "      <td>34.84</td>\n",
       "      <td>114.07</td>\n",
       "      <td>244.49</td>\n",
       "      <td>0.15</td>\n",
       "      <td>13.99</td>\n",
       "      <td>51.42</td>\n",
       "      <td>85.27</td>\n",
       "      <td>130.40</td>\n",
       "      <td>714.95</td>\n",
       "    </tr>\n",
       "  </tbody>\n",
       "</table>\n",
       "<p>559 rows × 10 columns</p>\n",
       "</div>"
      ],
      "text/plain": [
       "platform                       3DS     PC     PS3     PS4   PSP    PSV   WiiU  \\\n",
       "name                                                                            \n",
       "2014 FIFA World Cup Brazil    0.00   0.00    0.61    0.00  0.00   0.00   0.00   \n",
       "7 Days to Die                 0.00   0.00    0.00    0.14  0.00   0.00   0.00   \n",
       "7th Dragon III Code: VFD      0.16   0.00    0.00    0.00  0.00   0.00   0.00   \n",
       "A-Train: City Simulator       0.06   0.00    0.00    0.00  0.00   0.00   0.00   \n",
       "Act of Aggression             0.00   0.01    0.00    0.00  0.00   0.00   0.00   \n",
       "...                            ...    ...     ...     ...   ...    ...    ...   \n",
       "Zombie Army Trilogy           0.00   0.00    0.00    0.20  0.00   0.00   0.00   \n",
       "Zumba Fitness: World Party    0.00   0.00    0.00    0.00  0.00   0.00   0.00   \n",
       "htoL#NiQ: The Firefly Diary   0.00   0.00    0.00    0.00  0.00   0.01   0.00   \n",
       "inFAMOUS: Second Son          0.00   0.00    0.00    2.79  0.00   0.00   0.00   \n",
       "Total                        40.32  34.84  114.07  244.49  0.15  13.99  51.42   \n",
       "\n",
       "platform                      X360    XOne   Total  \n",
       "name                                                \n",
       "2014 FIFA World Cup Brazil    0.43    0.00    1.04  \n",
       "7 Days to Die                 0.00    0.05    0.19  \n",
       "7th Dragon III Code: VFD      0.00    0.00    0.16  \n",
       "A-Train: City Simulator       0.00    0.00    0.06  \n",
       "Act of Aggression             0.00    0.00    0.01  \n",
       "...                            ...     ...     ...  \n",
       "Zombie Army Trilogy           0.00    0.11    0.31  \n",
       "Zumba Fitness: World Party    0.00    0.24    0.24  \n",
       "htoL#NiQ: The Firefly Diary   0.00    0.00    0.01  \n",
       "inFAMOUS: Second Son          0.00    0.00    2.79  \n",
       "Total                        85.27  130.40  714.95  \n",
       "\n",
       "[559 rows x 10 columns]"
      ]
     },
     "execution_count": 24,
     "metadata": {},
     "output_type": "execute_result"
    }
   ],
   "source": [
    "critic_score_by_game = df_since2002_video_games.loc[~df_since2002_video_games['critic_score'].isna()][['name', 'platform', 'total_sales_in_millions_usd']]\n",
    "\n",
    "critic_score_by_game.pivot_table(\n",
    "    index='name', \n",
    "    columns='platform', \n",
    "    values='total_sales_in_millions_usd', \n",
    "    aggfunc='sum',\n",
    "    margins=True,\n",
    "    margins_name='Total'\n",
    "    ).fillna(0.00)"
   ]
  },
  {
   "cell_type": "code",
   "execution_count": 25,
   "metadata": {},
   "outputs": [
    {
     "data": {
      "text/html": [
       "<div>\n",
       "<style scoped>\n",
       "    .dataframe tbody tr th:only-of-type {\n",
       "        vertical-align: middle;\n",
       "    }\n",
       "\n",
       "    .dataframe tbody tr th {\n",
       "        vertical-align: top;\n",
       "    }\n",
       "\n",
       "    .dataframe thead th {\n",
       "        text-align: right;\n",
       "    }\n",
       "</style>\n",
       "<table border=\"1\" class=\"dataframe\">\n",
       "  <thead>\n",
       "    <tr style=\"text-align: right;\">\n",
       "      <th>rating</th>\n",
       "      <th>E</th>\n",
       "      <th>E10+</th>\n",
       "      <th>M</th>\n",
       "      <th>T</th>\n",
       "      <th>total</th>\n",
       "    </tr>\n",
       "    <tr>\n",
       "      <th>name</th>\n",
       "      <th></th>\n",
       "      <th></th>\n",
       "      <th></th>\n",
       "      <th></th>\n",
       "      <th></th>\n",
       "    </tr>\n",
       "  </thead>\n",
       "  <tbody>\n",
       "    <tr>\n",
       "      <th>Far Cry 4</th>\n",
       "      <td>0.00</td>\n",
       "      <td>0.00</td>\n",
       "      <td>6.31</td>\n",
       "      <td>0.00</td>\n",
       "      <td>6.31</td>\n",
       "    </tr>\n",
       "    <tr>\n",
       "      <th>Tom Clancy's The Division</th>\n",
       "      <td>0.00</td>\n",
       "      <td>0.00</td>\n",
       "      <td>6.38</td>\n",
       "      <td>0.00</td>\n",
       "      <td>6.38</td>\n",
       "    </tr>\n",
       "    <tr>\n",
       "      <th>Battlefield 1</th>\n",
       "      <td>0.00</td>\n",
       "      <td>0.00</td>\n",
       "      <td>6.70</td>\n",
       "      <td>0.00</td>\n",
       "      <td>6.70</td>\n",
       "    </tr>\n",
       "    <tr>\n",
       "      <th>NBA 2K14</th>\n",
       "      <td>6.97</td>\n",
       "      <td>0.00</td>\n",
       "      <td>0.00</td>\n",
       "      <td>0.00</td>\n",
       "      <td>6.97</td>\n",
       "    </tr>\n",
       "    <tr>\n",
       "      <th>Call of Duty: Infinite Warfare</th>\n",
       "      <td>0.00</td>\n",
       "      <td>0.00</td>\n",
       "      <td>7.02</td>\n",
       "      <td>0.00</td>\n",
       "      <td>7.02</td>\n",
       "    </tr>\n",
       "    <tr>\n",
       "      <th>Mario Kart 8</th>\n",
       "      <td>7.09</td>\n",
       "      <td>0.00</td>\n",
       "      <td>0.00</td>\n",
       "      <td>0.00</td>\n",
       "      <td>7.09</td>\n",
       "    </tr>\n",
       "    <tr>\n",
       "      <th>LEGO Marvel Super Heroes</th>\n",
       "      <td>0.00</td>\n",
       "      <td>7.47</td>\n",
       "      <td>0.00</td>\n",
       "      <td>0.00</td>\n",
       "      <td>7.47</td>\n",
       "    </tr>\n",
       "    <tr>\n",
       "      <th>Assassin's Creed: Unity</th>\n",
       "      <td>0.00</td>\n",
       "      <td>0.00</td>\n",
       "      <td>8.01</td>\n",
       "      <td>0.00</td>\n",
       "      <td>8.01</td>\n",
       "    </tr>\n",
       "    <tr>\n",
       "      <th>FIFA 15</th>\n",
       "      <td>8.55</td>\n",
       "      <td>0.00</td>\n",
       "      <td>0.00</td>\n",
       "      <td>0.00</td>\n",
       "      <td>8.55</td>\n",
       "    </tr>\n",
       "    <tr>\n",
       "      <th>Destiny</th>\n",
       "      <td>0.00</td>\n",
       "      <td>0.00</td>\n",
       "      <td>0.00</td>\n",
       "      <td>9.01</td>\n",
       "      <td>9.01</td>\n",
       "    </tr>\n",
       "    <tr>\n",
       "      <th>FIFA 17</th>\n",
       "      <td>10.37</td>\n",
       "      <td>0.00</td>\n",
       "      <td>0.00</td>\n",
       "      <td>0.00</td>\n",
       "      <td>10.37</td>\n",
       "    </tr>\n",
       "    <tr>\n",
       "      <th>Assassin's Creed IV: Black Flag</th>\n",
       "      <td>0.00</td>\n",
       "      <td>0.00</td>\n",
       "      <td>10.82</td>\n",
       "      <td>0.00</td>\n",
       "      <td>10.82</td>\n",
       "    </tr>\n",
       "    <tr>\n",
       "      <th>FIFA 16</th>\n",
       "      <td>12.03</td>\n",
       "      <td>0.00</td>\n",
       "      <td>0.00</td>\n",
       "      <td>0.00</td>\n",
       "      <td>12.03</td>\n",
       "    </tr>\n",
       "    <tr>\n",
       "      <th>Fallout 4</th>\n",
       "      <td>0.00</td>\n",
       "      <td>0.00</td>\n",
       "      <td>12.67</td>\n",
       "      <td>0.00</td>\n",
       "      <td>12.67</td>\n",
       "    </tr>\n",
       "    <tr>\n",
       "      <th>Call of Duty: Advanced Warfare</th>\n",
       "      <td>0.00</td>\n",
       "      <td>0.00</td>\n",
       "      <td>13.33</td>\n",
       "      <td>0.00</td>\n",
       "      <td>13.33</td>\n",
       "    </tr>\n",
       "    <tr>\n",
       "      <th>Battlefield 4</th>\n",
       "      <td>0.00</td>\n",
       "      <td>0.00</td>\n",
       "      <td>13.94</td>\n",
       "      <td>0.00</td>\n",
       "      <td>13.94</td>\n",
       "    </tr>\n",
       "    <tr>\n",
       "      <th>FIFA 14</th>\n",
       "      <td>15.25</td>\n",
       "      <td>0.00</td>\n",
       "      <td>0.00</td>\n",
       "      <td>0.00</td>\n",
       "      <td>15.25</td>\n",
       "    </tr>\n",
       "    <tr>\n",
       "      <th>Call of Duty: Ghosts</th>\n",
       "      <td>0.00</td>\n",
       "      <td>0.00</td>\n",
       "      <td>26.70</td>\n",
       "      <td>0.00</td>\n",
       "      <td>26.70</td>\n",
       "    </tr>\n",
       "    <tr>\n",
       "      <th>Grand Theft Auto V</th>\n",
       "      <td>0.00</td>\n",
       "      <td>0.00</td>\n",
       "      <td>56.58</td>\n",
       "      <td>0.00</td>\n",
       "      <td>56.58</td>\n",
       "    </tr>\n",
       "    <tr>\n",
       "      <th>total</th>\n",
       "      <td>167.84</td>\n",
       "      <td>84.46</td>\n",
       "      <td>345.05</td>\n",
       "      <td>113.65</td>\n",
       "      <td>711.00</td>\n",
       "    </tr>\n",
       "  </tbody>\n",
       "</table>\n",
       "</div>"
      ],
      "text/plain": [
       "rating                                E   E10+       M       T   total\n",
       "name                                                                  \n",
       "Far Cry 4                          0.00   0.00    6.31    0.00    6.31\n",
       "Tom Clancy's The Division          0.00   0.00    6.38    0.00    6.38\n",
       "Battlefield 1                      0.00   0.00    6.70    0.00    6.70\n",
       "NBA 2K14                           6.97   0.00    0.00    0.00    6.97\n",
       "Call of Duty: Infinite Warfare     0.00   0.00    7.02    0.00    7.02\n",
       "Mario Kart 8                       7.09   0.00    0.00    0.00    7.09\n",
       "LEGO Marvel Super Heroes           0.00   7.47    0.00    0.00    7.47\n",
       "Assassin's Creed: Unity            0.00   0.00    8.01    0.00    8.01\n",
       "FIFA 15                            8.55   0.00    0.00    0.00    8.55\n",
       "Destiny                            0.00   0.00    0.00    9.01    9.01\n",
       "FIFA 17                           10.37   0.00    0.00    0.00   10.37\n",
       "Assassin's Creed IV: Black Flag    0.00   0.00   10.82    0.00   10.82\n",
       "FIFA 16                           12.03   0.00    0.00    0.00   12.03\n",
       "Fallout 4                          0.00   0.00   12.67    0.00   12.67\n",
       "Call of Duty: Advanced Warfare     0.00   0.00   13.33    0.00   13.33\n",
       "Battlefield 4                      0.00   0.00   13.94    0.00   13.94\n",
       "FIFA 14                           15.25   0.00    0.00    0.00   15.25\n",
       "Call of Duty: Ghosts               0.00   0.00   26.70    0.00   26.70\n",
       "Grand Theft Auto V                 0.00   0.00   56.58    0.00   56.58\n",
       "total                            167.84  84.46  345.05  113.65  711.00"
      ]
     },
     "execution_count": 25,
     "metadata": {},
     "output_type": "execute_result"
    }
   ],
   "source": [
    "#Distribución general de los juegos por género\n",
    "\n",
    "game_by_genre = df_since2002_video_games.loc[~((df_since2002_video_games['critic_score'].isna()) | (df_since2002_video_games['rating'].isna()))][['name', 'total_sales_in_millions_usd', 'rating']]\n",
    "game_by_genre.pivot_table(\n",
    "    index='name',\n",
    "    columns='rating',\n",
    "    values='total_sales_in_millions_usd',\n",
    "    aggfunc='sum',\n",
    "    margins=True,\n",
    "    margins_name='total'\n",
    ").fillna(0.00).sort_values('total').tail(20) "
   ]
  },
  {
   "cell_type": "code",
   "execution_count": 26,
   "metadata": {
    "scrolled": true
   },
   "outputs": [
    {
     "data": {
      "text/html": [
       "<div>\n",
       "<style scoped>\n",
       "    .dataframe tbody tr th:only-of-type {\n",
       "        vertical-align: middle;\n",
       "    }\n",
       "\n",
       "    .dataframe tbody tr th {\n",
       "        vertical-align: top;\n",
       "    }\n",
       "\n",
       "    .dataframe thead th {\n",
       "        text-align: right;\n",
       "    }\n",
       "</style>\n",
       "<table border=\"1\" class=\"dataframe\">\n",
       "  <thead>\n",
       "    <tr style=\"text-align: right;\">\n",
       "      <th>year_of_release</th>\n",
       "      <th>2013</th>\n",
       "      <th>2014</th>\n",
       "      <th>2015</th>\n",
       "      <th>2016</th>\n",
       "    </tr>\n",
       "    <tr>\n",
       "      <th>rating</th>\n",
       "      <th></th>\n",
       "      <th></th>\n",
       "      <th></th>\n",
       "      <th></th>\n",
       "    </tr>\n",
       "  </thead>\n",
       "  <tbody>\n",
       "    <tr>\n",
       "      <th>E</th>\n",
       "      <td>63.46</td>\n",
       "      <td>40.88</td>\n",
       "      <td>39.73</td>\n",
       "      <td>23.77</td>\n",
       "    </tr>\n",
       "    <tr>\n",
       "      <th>E10+</th>\n",
       "      <td>34.27</td>\n",
       "      <td>20.89</td>\n",
       "      <td>22.00</td>\n",
       "      <td>7.30</td>\n",
       "    </tr>\n",
       "    <tr>\n",
       "      <th>M</th>\n",
       "      <td>142.74</td>\n",
       "      <td>93.75</td>\n",
       "      <td>70.37</td>\n",
       "      <td>38.19</td>\n",
       "    </tr>\n",
       "    <tr>\n",
       "      <th>T</th>\n",
       "      <td>26.82</td>\n",
       "      <td>37.15</td>\n",
       "      <td>27.08</td>\n",
       "      <td>22.60</td>\n",
       "    </tr>\n",
       "  </tbody>\n",
       "</table>\n",
       "</div>"
      ],
      "text/plain": [
       "year_of_release    2013   2014   2015   2016\n",
       "rating                                      \n",
       "E                 63.46  40.88  39.73  23.77\n",
       "E10+              34.27  20.89  22.00   7.30\n",
       "M                142.74  93.75  70.37  38.19\n",
       "T                 26.82  37.15  27.08  22.60"
      ]
     },
     "execution_count": 26,
     "metadata": {},
     "output_type": "execute_result"
    }
   ],
   "source": [
    "# distribución por género\n",
    "\n",
    "game_by_genre = df_since2002_video_games.loc[~((df_since2002_video_games['critic_score'].isna()) | (df_since2002_video_games['rating'].isna()))][['name', 'year_of_release', 'total_sales_in_millions_usd', 'rating']]\n",
    "game_by_genre.pivot_table(\n",
    "    index='rating',\n",
    "    columns='year_of_release',\n",
    "    values='total_sales_in_millions_usd',\n",
    "    aggfunc='sum',\n",
    ").sort_index()"
   ]
  },
  {
   "cell_type": "markdown",
   "metadata": {},
   "source": [
    "<font color=\"sienna\"> Las ventas por género son de gran importancia a la hora de elaborar un modelo, ya que son de gran relevancia las categorias T, M y E.</font>"
   ]
  },
  {
   "cell_type": "markdown",
   "metadata": {},
   "source": [
    "<div class=\"alert alert-block alert-danger\">\n",
    "<b>Comentario del revisor</b> <a class=\"tocSkip\"></a>\n",
    "    \n",
    "Bien. Solo debemos actualizar el filtro por periodo.\n",
    "</div>"
   ]
  },
  {
   "cell_type": "markdown",
   "metadata": {},
   "source": [
    "<div class=\"alert alert-block alert-success\">\n",
    "<b>Comentario del revisor</b> <a class=\"tocSkip\"></a>\n",
    "    \n",
    "Gran trabajo.\n",
    "</div>"
   ]
  },
  {
   "cell_type": "markdown",
   "metadata": {},
   "source": [
    "#### 4. Análisis por Región"
   ]
  },
  {
   "cell_type": "code",
   "execution_count": 27,
   "metadata": {},
   "outputs": [
    {
     "data": {
      "text/html": [
       "<div>\n",
       "<style scoped>\n",
       "    .dataframe tbody tr th:only-of-type {\n",
       "        vertical-align: middle;\n",
       "    }\n",
       "\n",
       "    .dataframe tbody tr th {\n",
       "        vertical-align: top;\n",
       "    }\n",
       "\n",
       "    .dataframe thead th {\n",
       "        text-align: right;\n",
       "    }\n",
       "</style>\n",
       "<table border=\"1\" class=\"dataframe\">\n",
       "  <thead>\n",
       "    <tr style=\"text-align: right;\">\n",
       "      <th></th>\n",
       "      <th>platform</th>\n",
       "      <th>na_sales_count</th>\n",
       "      <th>na_sales_sum</th>\n",
       "      <th>unit_price</th>\n",
       "    </tr>\n",
       "  </thead>\n",
       "  <tbody>\n",
       "    <tr>\n",
       "      <th>0</th>\n",
       "      <td>3DS</td>\n",
       "      <td>119</td>\n",
       "      <td>38.20</td>\n",
       "      <td>3.115183</td>\n",
       "    </tr>\n",
       "    <tr>\n",
       "      <th>3</th>\n",
       "      <td>PS3</td>\n",
       "      <td>211</td>\n",
       "      <td>63.50</td>\n",
       "      <td>3.322835</td>\n",
       "    </tr>\n",
       "    <tr>\n",
       "      <th>8</th>\n",
       "      <td>X360</td>\n",
       "      <td>170</td>\n",
       "      <td>81.66</td>\n",
       "      <td>2.081803</td>\n",
       "    </tr>\n",
       "    <tr>\n",
       "      <th>9</th>\n",
       "      <td>XOne</td>\n",
       "      <td>227</td>\n",
       "      <td>93.12</td>\n",
       "      <td>2.437715</td>\n",
       "    </tr>\n",
       "    <tr>\n",
       "      <th>4</th>\n",
       "      <td>PS4</td>\n",
       "      <td>294</td>\n",
       "      <td>108.74</td>\n",
       "      <td>2.703697</td>\n",
       "    </tr>\n",
       "  </tbody>\n",
       "</table>\n",
       "</div>"
      ],
      "text/plain": [
       "  platform  na_sales_count  na_sales_sum  unit_price\n",
       "0      3DS             119         38.20    3.115183\n",
       "3      PS3             211         63.50    3.322835\n",
       "8     X360             170         81.66    2.081803\n",
       "9     XOne             227         93.12    2.437715\n",
       "4      PS4             294        108.74    2.703697"
      ]
     },
     "execution_count": 27,
     "metadata": {},
     "output_type": "execute_result"
    }
   ],
   "source": [
    "# Ventas en Norteamérica\n",
    "na_data_frame = df_since2002_video_games.drop(['eu_sales', 'jp_sales', 'other_sales', 'total_sales_in_millions_usd'], axis=1)\\\n",
    "                                           .loc[df_since2002_video_games['na_sales'] != 0.00]\n",
    "na = na_data_frame.groupby('platform')['na_sales'].agg(['count', 'sum']).reset_index().sort_values('sum').tail()\n",
    "na.rename(columns={'count': 'na_sales_count', 'sum': 'na_sales_sum'}, inplace=True)\n",
    "na['unit_price'] = na['na_sales_count'] / na['na_sales_sum']\n",
    "na"
   ]
  },
  {
   "cell_type": "code",
   "execution_count": 28,
   "metadata": {},
   "outputs": [
    {
     "data": {
      "text/html": [
       "<div>\n",
       "<style scoped>\n",
       "    .dataframe tbody tr th:only-of-type {\n",
       "        vertical-align: middle;\n",
       "    }\n",
       "\n",
       "    .dataframe tbody tr th {\n",
       "        vertical-align: top;\n",
       "    }\n",
       "\n",
       "    .dataframe thead th {\n",
       "        text-align: right;\n",
       "    }\n",
       "</style>\n",
       "<table border=\"1\" class=\"dataframe\">\n",
       "  <thead>\n",
       "    <tr style=\"text-align: right;\">\n",
       "      <th></th>\n",
       "      <th>platform</th>\n",
       "      <th>count</th>\n",
       "      <th>sum</th>\n",
       "      <th>unit_price</th>\n",
       "    </tr>\n",
       "  </thead>\n",
       "  <tbody>\n",
       "    <tr>\n",
       "      <th>0</th>\n",
       "      <td>3DS</td>\n",
       "      <td>122</td>\n",
       "      <td>30.96</td>\n",
       "      <td>3.940568</td>\n",
       "    </tr>\n",
       "    <tr>\n",
       "      <th>3</th>\n",
       "      <td>PS3</td>\n",
       "      <td>212</td>\n",
       "      <td>67.81</td>\n",
       "      <td>3.126383</td>\n",
       "    </tr>\n",
       "    <tr>\n",
       "      <th>4</th>\n",
       "      <td>PS4</td>\n",
       "      <td>290</td>\n",
       "      <td>141.09</td>\n",
       "      <td>2.055426</td>\n",
       "    </tr>\n",
       "    <tr>\n",
       "      <th>9</th>\n",
       "      <td>X360</td>\n",
       "      <td>169</td>\n",
       "      <td>42.52</td>\n",
       "      <td>3.974600</td>\n",
       "    </tr>\n",
       "    <tr>\n",
       "      <th>10</th>\n",
       "      <td>XOne</td>\n",
       "      <td>218</td>\n",
       "      <td>51.59</td>\n",
       "      <td>4.225625</td>\n",
       "    </tr>\n",
       "  </tbody>\n",
       "</table>\n",
       "</div>"
      ],
      "text/plain": [
       "   platform  count     sum  unit_price\n",
       "0       3DS    122   30.96    3.940568\n",
       "3       PS3    212   67.81    3.126383\n",
       "4       PS4    290  141.09    2.055426\n",
       "9      X360    169   42.52    3.974600\n",
       "10     XOne    218   51.59    4.225625"
      ]
     },
     "execution_count": 28,
     "metadata": {},
     "output_type": "execute_result"
    }
   ],
   "source": [
    "# Ventas en Europa\n",
    "eu_data_frame = df_since2002_video_games.drop(['na_sales', 'jp_sales', 'other_sales', 'total_sales_in_millions_usd'], axis=1)\\\n",
    "                                           .loc[df_since2002_video_games['eu_sales'] != 0.00]\n",
    "eu = eu_data_frame.groupby('platform')['eu_sales'].agg(['count', 'sum']).reset_index().sort_values('sum').tail()\n",
    "eu.sort_values('platform', inplace=True)\n",
    "eu['unit_price'] = eu['count'] / eu['sum']\n",
    "eu"
   ]
  },
  {
   "cell_type": "code",
   "execution_count": 29,
   "metadata": {},
   "outputs": [
    {
     "data": {
      "text/html": [
       "<div>\n",
       "<style scoped>\n",
       "    .dataframe tbody tr th:only-of-type {\n",
       "        vertical-align: middle;\n",
       "    }\n",
       "\n",
       "    .dataframe tbody tr th {\n",
       "        vertical-align: top;\n",
       "    }\n",
       "\n",
       "    .dataframe thead th {\n",
       "        text-align: right;\n",
       "    }\n",
       "</style>\n",
       "<table border=\"1\" class=\"dataframe\">\n",
       "  <thead>\n",
       "    <tr style=\"text-align: right;\">\n",
       "      <th></th>\n",
       "      <th>platform</th>\n",
       "      <th>count</th>\n",
       "      <th>sum</th>\n",
       "      <th>unit_price</th>\n",
       "    </tr>\n",
       "  </thead>\n",
       "  <tbody>\n",
       "    <tr>\n",
       "      <th>0</th>\n",
       "      <td>3DS</td>\n",
       "      <td>235</td>\n",
       "      <td>67.81</td>\n",
       "      <td>3.465566</td>\n",
       "    </tr>\n",
       "    <tr>\n",
       "      <th>1</th>\n",
       "      <td>PS3</td>\n",
       "      <td>236</td>\n",
       "      <td>23.35</td>\n",
       "      <td>10.107066</td>\n",
       "    </tr>\n",
       "    <tr>\n",
       "      <th>2</th>\n",
       "      <td>PS4</td>\n",
       "      <td>223</td>\n",
       "      <td>15.96</td>\n",
       "      <td>13.972431</td>\n",
       "    </tr>\n",
       "    <tr>\n",
       "      <th>4</th>\n",
       "      <td>PSV</td>\n",
       "      <td>316</td>\n",
       "      <td>18.59</td>\n",
       "      <td>16.998386</td>\n",
       "    </tr>\n",
       "    <tr>\n",
       "      <th>6</th>\n",
       "      <td>WiiU</td>\n",
       "      <td>57</td>\n",
       "      <td>10.88</td>\n",
       "      <td>5.238971</td>\n",
       "    </tr>\n",
       "  </tbody>\n",
       "</table>\n",
       "</div>"
      ],
      "text/plain": [
       "  platform  count    sum  unit_price\n",
       "0      3DS    235  67.81    3.465566\n",
       "1      PS3    236  23.35   10.107066\n",
       "2      PS4    223  15.96   13.972431\n",
       "4      PSV    316  18.59   16.998386\n",
       "6     WiiU     57  10.88    5.238971"
      ]
     },
     "execution_count": 29,
     "metadata": {},
     "output_type": "execute_result"
    }
   ],
   "source": [
    "# Ventas en Japón\n",
    "jp_data_frame = df_since2002_video_games.drop(['na_sales', 'eu_sales', 'other_sales', 'total_sales_in_millions_usd'], axis=1)\\\n",
    "                                           .loc[df_since2002_video_games['jp_sales'] != 0.00]\n",
    "jp = jp_data_frame.groupby('platform')['jp_sales'].agg(['count', 'sum']).reset_index().sort_values('sum').tail()\n",
    "jp.sort_values('platform', inplace=True)\n",
    "jp['unit_price'] = jp['count'] / jp['sum']\n",
    "jp\n",
    "\n",
    "#jp_data_frame.loc[jp_data_frame['jp_sales'] == 0.01]\n"
   ]
  },
  {
   "cell_type": "markdown",
   "metadata": {},
   "source": [
    "<font color=\"sienna\"> Podemos identificar que las 3 plataformas en común con mayores ventas en estas paises son: `DS`, `PS2` y `PS3`; pero que el precio final por consumidor varia significativamente, dependiente de la región. Como ejemplo podemos ver como el precio para PS3 en NA y EU está al rededor de 2.70 USD, mientras que en JP cuatriplica este valor.   </font>"
   ]
  },
  {
   "cell_type": "markdown",
   "metadata": {},
   "source": [
    "##### 4.1 Los cinco géneros principales"
   ]
  },
  {
   "cell_type": "code",
   "execution_count": 30,
   "metadata": {},
   "outputs": [
    {
     "data": {
      "application/vnd.plotly.v1+json": {
       "config": {
        "plotlyServerURL": "https://plot.ly"
       },
       "data": [
        {
         "marker": {
          "color": "rgba(107, 44, 57, 0.7)",
          "line": {
           "color": "rgba(250, 159, 37, 1)"
          }
         },
         "type": "bar",
         "x": [
          "Adventure",
          "Role-Playing",
          "Sports",
          "Shooter",
          "Action"
         ],
         "y": [
          63,
          116,
          129,
          139,
          345
         ]
        }
       ],
       "layout": {
        "paper_bgcolor": "rgba(0,0,0,0)",
        "plot_bgcolor": "rgba(0,0,0,0)",
        "template": {
         "data": {
          "bar": [
           {
            "error_x": {
             "color": "#2a3f5f"
            },
            "error_y": {
             "color": "#2a3f5f"
            },
            "marker": {
             "line": {
              "color": "#E5ECF6",
              "width": 0.5
             },
             "pattern": {
              "fillmode": "overlay",
              "size": 10,
              "solidity": 0.2
             }
            },
            "type": "bar"
           }
          ],
          "barpolar": [
           {
            "marker": {
             "line": {
              "color": "#E5ECF6",
              "width": 0.5
             },
             "pattern": {
              "fillmode": "overlay",
              "size": 10,
              "solidity": 0.2
             }
            },
            "type": "barpolar"
           }
          ],
          "carpet": [
           {
            "aaxis": {
             "endlinecolor": "#2a3f5f",
             "gridcolor": "white",
             "linecolor": "white",
             "minorgridcolor": "white",
             "startlinecolor": "#2a3f5f"
            },
            "baxis": {
             "endlinecolor": "#2a3f5f",
             "gridcolor": "white",
             "linecolor": "white",
             "minorgridcolor": "white",
             "startlinecolor": "#2a3f5f"
            },
            "type": "carpet"
           }
          ],
          "choropleth": [
           {
            "colorbar": {
             "outlinewidth": 0,
             "ticks": ""
            },
            "type": "choropleth"
           }
          ],
          "contour": [
           {
            "colorbar": {
             "outlinewidth": 0,
             "ticks": ""
            },
            "colorscale": [
             [
              0,
              "#0d0887"
             ],
             [
              0.1111111111111111,
              "#46039f"
             ],
             [
              0.2222222222222222,
              "#7201a8"
             ],
             [
              0.3333333333333333,
              "#9c179e"
             ],
             [
              0.4444444444444444,
              "#bd3786"
             ],
             [
              0.5555555555555556,
              "#d8576b"
             ],
             [
              0.6666666666666666,
              "#ed7953"
             ],
             [
              0.7777777777777778,
              "#fb9f3a"
             ],
             [
              0.8888888888888888,
              "#fdca26"
             ],
             [
              1,
              "#f0f921"
             ]
            ],
            "type": "contour"
           }
          ],
          "contourcarpet": [
           {
            "colorbar": {
             "outlinewidth": 0,
             "ticks": ""
            },
            "type": "contourcarpet"
           }
          ],
          "heatmap": [
           {
            "colorbar": {
             "outlinewidth": 0,
             "ticks": ""
            },
            "colorscale": [
             [
              0,
              "#0d0887"
             ],
             [
              0.1111111111111111,
              "#46039f"
             ],
             [
              0.2222222222222222,
              "#7201a8"
             ],
             [
              0.3333333333333333,
              "#9c179e"
             ],
             [
              0.4444444444444444,
              "#bd3786"
             ],
             [
              0.5555555555555556,
              "#d8576b"
             ],
             [
              0.6666666666666666,
              "#ed7953"
             ],
             [
              0.7777777777777778,
              "#fb9f3a"
             ],
             [
              0.8888888888888888,
              "#fdca26"
             ],
             [
              1,
              "#f0f921"
             ]
            ],
            "type": "heatmap"
           }
          ],
          "heatmapgl": [
           {
            "colorbar": {
             "outlinewidth": 0,
             "ticks": ""
            },
            "colorscale": [
             [
              0,
              "#0d0887"
             ],
             [
              0.1111111111111111,
              "#46039f"
             ],
             [
              0.2222222222222222,
              "#7201a8"
             ],
             [
              0.3333333333333333,
              "#9c179e"
             ],
             [
              0.4444444444444444,
              "#bd3786"
             ],
             [
              0.5555555555555556,
              "#d8576b"
             ],
             [
              0.6666666666666666,
              "#ed7953"
             ],
             [
              0.7777777777777778,
              "#fb9f3a"
             ],
             [
              0.8888888888888888,
              "#fdca26"
             ],
             [
              1,
              "#f0f921"
             ]
            ],
            "type": "heatmapgl"
           }
          ],
          "histogram": [
           {
            "marker": {
             "pattern": {
              "fillmode": "overlay",
              "size": 10,
              "solidity": 0.2
             }
            },
            "type": "histogram"
           }
          ],
          "histogram2d": [
           {
            "colorbar": {
             "outlinewidth": 0,
             "ticks": ""
            },
            "colorscale": [
             [
              0,
              "#0d0887"
             ],
             [
              0.1111111111111111,
              "#46039f"
             ],
             [
              0.2222222222222222,
              "#7201a8"
             ],
             [
              0.3333333333333333,
              "#9c179e"
             ],
             [
              0.4444444444444444,
              "#bd3786"
             ],
             [
              0.5555555555555556,
              "#d8576b"
             ],
             [
              0.6666666666666666,
              "#ed7953"
             ],
             [
              0.7777777777777778,
              "#fb9f3a"
             ],
             [
              0.8888888888888888,
              "#fdca26"
             ],
             [
              1,
              "#f0f921"
             ]
            ],
            "type": "histogram2d"
           }
          ],
          "histogram2dcontour": [
           {
            "colorbar": {
             "outlinewidth": 0,
             "ticks": ""
            },
            "colorscale": [
             [
              0,
              "#0d0887"
             ],
             [
              0.1111111111111111,
              "#46039f"
             ],
             [
              0.2222222222222222,
              "#7201a8"
             ],
             [
              0.3333333333333333,
              "#9c179e"
             ],
             [
              0.4444444444444444,
              "#bd3786"
             ],
             [
              0.5555555555555556,
              "#d8576b"
             ],
             [
              0.6666666666666666,
              "#ed7953"
             ],
             [
              0.7777777777777778,
              "#fb9f3a"
             ],
             [
              0.8888888888888888,
              "#fdca26"
             ],
             [
              1,
              "#f0f921"
             ]
            ],
            "type": "histogram2dcontour"
           }
          ],
          "mesh3d": [
           {
            "colorbar": {
             "outlinewidth": 0,
             "ticks": ""
            },
            "type": "mesh3d"
           }
          ],
          "parcoords": [
           {
            "line": {
             "colorbar": {
              "outlinewidth": 0,
              "ticks": ""
             }
            },
            "type": "parcoords"
           }
          ],
          "pie": [
           {
            "automargin": true,
            "type": "pie"
           }
          ],
          "scatter": [
           {
            "fillpattern": {
             "fillmode": "overlay",
             "size": 10,
             "solidity": 0.2
            },
            "type": "scatter"
           }
          ],
          "scatter3d": [
           {
            "line": {
             "colorbar": {
              "outlinewidth": 0,
              "ticks": ""
             }
            },
            "marker": {
             "colorbar": {
              "outlinewidth": 0,
              "ticks": ""
             }
            },
            "type": "scatter3d"
           }
          ],
          "scattercarpet": [
           {
            "marker": {
             "colorbar": {
              "outlinewidth": 0,
              "ticks": ""
             }
            },
            "type": "scattercarpet"
           }
          ],
          "scattergeo": [
           {
            "marker": {
             "colorbar": {
              "outlinewidth": 0,
              "ticks": ""
             }
            },
            "type": "scattergeo"
           }
          ],
          "scattergl": [
           {
            "marker": {
             "colorbar": {
              "outlinewidth": 0,
              "ticks": ""
             }
            },
            "type": "scattergl"
           }
          ],
          "scattermapbox": [
           {
            "marker": {
             "colorbar": {
              "outlinewidth": 0,
              "ticks": ""
             }
            },
            "type": "scattermapbox"
           }
          ],
          "scatterpolar": [
           {
            "marker": {
             "colorbar": {
              "outlinewidth": 0,
              "ticks": ""
             }
            },
            "type": "scatterpolar"
           }
          ],
          "scatterpolargl": [
           {
            "marker": {
             "colorbar": {
              "outlinewidth": 0,
              "ticks": ""
             }
            },
            "type": "scatterpolargl"
           }
          ],
          "scatterternary": [
           {
            "marker": {
             "colorbar": {
              "outlinewidth": 0,
              "ticks": ""
             }
            },
            "type": "scatterternary"
           }
          ],
          "surface": [
           {
            "colorbar": {
             "outlinewidth": 0,
             "ticks": ""
            },
            "colorscale": [
             [
              0,
              "#0d0887"
             ],
             [
              0.1111111111111111,
              "#46039f"
             ],
             [
              0.2222222222222222,
              "#7201a8"
             ],
             [
              0.3333333333333333,
              "#9c179e"
             ],
             [
              0.4444444444444444,
              "#bd3786"
             ],
             [
              0.5555555555555556,
              "#d8576b"
             ],
             [
              0.6666666666666666,
              "#ed7953"
             ],
             [
              0.7777777777777778,
              "#fb9f3a"
             ],
             [
              0.8888888888888888,
              "#fdca26"
             ],
             [
              1,
              "#f0f921"
             ]
            ],
            "type": "surface"
           }
          ],
          "table": [
           {
            "cells": {
             "fill": {
              "color": "#EBF0F8"
             },
             "line": {
              "color": "white"
             }
            },
            "header": {
             "fill": {
              "color": "#C8D4E3"
             },
             "line": {
              "color": "white"
             }
            },
            "type": "table"
           }
          ]
         },
         "layout": {
          "annotationdefaults": {
           "arrowcolor": "#2a3f5f",
           "arrowhead": 0,
           "arrowwidth": 1
          },
          "autotypenumbers": "strict",
          "coloraxis": {
           "colorbar": {
            "outlinewidth": 0,
            "ticks": ""
           }
          },
          "colorscale": {
           "diverging": [
            [
             0,
             "#8e0152"
            ],
            [
             0.1,
             "#c51b7d"
            ],
            [
             0.2,
             "#de77ae"
            ],
            [
             0.3,
             "#f1b6da"
            ],
            [
             0.4,
             "#fde0ef"
            ],
            [
             0.5,
             "#f7f7f7"
            ],
            [
             0.6,
             "#e6f5d0"
            ],
            [
             0.7,
             "#b8e186"
            ],
            [
             0.8,
             "#7fbc41"
            ],
            [
             0.9,
             "#4d9221"
            ],
            [
             1,
             "#276419"
            ]
           ],
           "sequential": [
            [
             0,
             "#0d0887"
            ],
            [
             0.1111111111111111,
             "#46039f"
            ],
            [
             0.2222222222222222,
             "#7201a8"
            ],
            [
             0.3333333333333333,
             "#9c179e"
            ],
            [
             0.4444444444444444,
             "#bd3786"
            ],
            [
             0.5555555555555556,
             "#d8576b"
            ],
            [
             0.6666666666666666,
             "#ed7953"
            ],
            [
             0.7777777777777778,
             "#fb9f3a"
            ],
            [
             0.8888888888888888,
             "#fdca26"
            ],
            [
             1,
             "#f0f921"
            ]
           ],
           "sequentialminus": [
            [
             0,
             "#0d0887"
            ],
            [
             0.1111111111111111,
             "#46039f"
            ],
            [
             0.2222222222222222,
             "#7201a8"
            ],
            [
             0.3333333333333333,
             "#9c179e"
            ],
            [
             0.4444444444444444,
             "#bd3786"
            ],
            [
             0.5555555555555556,
             "#d8576b"
            ],
            [
             0.6666666666666666,
             "#ed7953"
            ],
            [
             0.7777777777777778,
             "#fb9f3a"
            ],
            [
             0.8888888888888888,
             "#fdca26"
            ],
            [
             1,
             "#f0f921"
            ]
           ]
          },
          "colorway": [
           "#636efa",
           "#EF553B",
           "#00cc96",
           "#ab63fa",
           "#FFA15A",
           "#19d3f3",
           "#FF6692",
           "#B6E880",
           "#FF97FF",
           "#FECB52"
          ],
          "font": {
           "color": "#2a3f5f"
          },
          "geo": {
           "bgcolor": "white",
           "lakecolor": "white",
           "landcolor": "#E5ECF6",
           "showlakes": true,
           "showland": true,
           "subunitcolor": "white"
          },
          "hoverlabel": {
           "align": "left"
          },
          "hovermode": "closest",
          "mapbox": {
           "style": "light"
          },
          "paper_bgcolor": "white",
          "plot_bgcolor": "#E5ECF6",
          "polar": {
           "angularaxis": {
            "gridcolor": "white",
            "linecolor": "white",
            "ticks": ""
           },
           "bgcolor": "#E5ECF6",
           "radialaxis": {
            "gridcolor": "white",
            "linecolor": "white",
            "ticks": ""
           }
          },
          "scene": {
           "xaxis": {
            "backgroundcolor": "#E5ECF6",
            "gridcolor": "white",
            "gridwidth": 2,
            "linecolor": "white",
            "showbackground": true,
            "ticks": "",
            "zerolinecolor": "white"
           },
           "yaxis": {
            "backgroundcolor": "#E5ECF6",
            "gridcolor": "white",
            "gridwidth": 2,
            "linecolor": "white",
            "showbackground": true,
            "ticks": "",
            "zerolinecolor": "white"
           },
           "zaxis": {
            "backgroundcolor": "#E5ECF6",
            "gridcolor": "white",
            "gridwidth": 2,
            "linecolor": "white",
            "showbackground": true,
            "ticks": "",
            "zerolinecolor": "white"
           }
          },
          "shapedefaults": {
           "line": {
            "color": "#2a3f5f"
           }
          },
          "ternary": {
           "aaxis": {
            "gridcolor": "white",
            "linecolor": "white",
            "ticks": ""
           },
           "baxis": {
            "gridcolor": "white",
            "linecolor": "white",
            "ticks": ""
           },
           "bgcolor": "#E5ECF6",
           "caxis": {
            "gridcolor": "white",
            "linecolor": "white",
            "ticks": ""
           }
          },
          "title": {
           "x": 0.05
          },
          "xaxis": {
           "automargin": true,
           "gridcolor": "white",
           "linecolor": "white",
           "ticks": "",
           "title": {
            "standoff": 15
           },
           "zerolinecolor": "white",
           "zerolinewidth": 2
          },
          "yaxis": {
           "automargin": true,
           "gridcolor": "white",
           "linecolor": "white",
           "ticks": "",
           "title": {
            "standoff": 15
           },
           "zerolinecolor": "white",
           "zerolinewidth": 2
          }
         }
        },
        "title": {
         "text": "Most popular video game genres in North America and Europe"
        },
        "xaxis": {
         "title": {
          "text": "Genre"
         }
        },
        "yaxis": {
         "title": {
          "text": "Number of scores"
         }
        }
       }
      }
     },
     "metadata": {},
     "output_type": "display_data"
    }
   ],
   "source": [
    "# Los cinco géneros principales para Norteamérica y Europa\n",
    "\n",
    "na_data_by_genre = na_data_frame.groupby('platform')['na_sales'].agg(['count', 'sum']).reset_index().sort_values('sum').tail()\n",
    "top5_genre = (na_data_by_genre.merge(na_data_frame[['platform', 'genre']], on='platform')\n",
    " ).groupby('genre')['platform'].count().reset_index().sort_values('platform').tail()\n",
    "\n",
    "#Graficar \n",
    "fig5 = go.Figure()\n",
    "count_color_fig5 = 0\n",
    "\n",
    "fig5.add_trace(go.Bar(\n",
    "    x=top5_genre['genre'],\n",
    "    y=top5_genre['platform'],\n",
    "    marker=dict(\n",
    "        color='rgba(107, 44, 57, 0.7)',\n",
    "        line=dict(\n",
    "            color='rgba(250, 159, 37, 1)'\n",
    "        )\n",
    "    )\n",
    "))\n",
    "fig5.update_layout(\n",
    "    plot_bgcolor='rgba(0,0,0,0)',\n",
    "    paper_bgcolor='rgba(0,0,0,0)',\n",
    "    title='Most popular video game genres in North America and Europe',\n",
    "    xaxis_title='Genre',\n",
    "    yaxis_title='Number of scores'\n",
    ")\n",
    "fig5.show()"
   ]
  },
  {
   "cell_type": "code",
   "execution_count": 31,
   "metadata": {},
   "outputs": [
    {
     "data": {
      "application/vnd.plotly.v1+json": {
       "config": {
        "plotlyServerURL": "https://plot.ly"
       },
       "data": [
        {
         "marker": {
          "color": "rgba(107, 44, 57, 0.7)",
          "line": {
           "color": "rgba(250, 159, 37, 1)"
          }
         },
         "type": "bar",
         "x": [
          "Fighting",
          "Misc",
          "Adventure",
          "Role-Playing",
          "Action"
         ],
         "y": [
          56,
          79,
          129,
          225,
          371
         ]
        }
       ],
       "layout": {
        "paper_bgcolor": "rgba(0,0,0,0)",
        "plot_bgcolor": "rgba(0,0,0,0)",
        "template": {
         "data": {
          "bar": [
           {
            "error_x": {
             "color": "#2a3f5f"
            },
            "error_y": {
             "color": "#2a3f5f"
            },
            "marker": {
             "line": {
              "color": "#E5ECF6",
              "width": 0.5
             },
             "pattern": {
              "fillmode": "overlay",
              "size": 10,
              "solidity": 0.2
             }
            },
            "type": "bar"
           }
          ],
          "barpolar": [
           {
            "marker": {
             "line": {
              "color": "#E5ECF6",
              "width": 0.5
             },
             "pattern": {
              "fillmode": "overlay",
              "size": 10,
              "solidity": 0.2
             }
            },
            "type": "barpolar"
           }
          ],
          "carpet": [
           {
            "aaxis": {
             "endlinecolor": "#2a3f5f",
             "gridcolor": "white",
             "linecolor": "white",
             "minorgridcolor": "white",
             "startlinecolor": "#2a3f5f"
            },
            "baxis": {
             "endlinecolor": "#2a3f5f",
             "gridcolor": "white",
             "linecolor": "white",
             "minorgridcolor": "white",
             "startlinecolor": "#2a3f5f"
            },
            "type": "carpet"
           }
          ],
          "choropleth": [
           {
            "colorbar": {
             "outlinewidth": 0,
             "ticks": ""
            },
            "type": "choropleth"
           }
          ],
          "contour": [
           {
            "colorbar": {
             "outlinewidth": 0,
             "ticks": ""
            },
            "colorscale": [
             [
              0,
              "#0d0887"
             ],
             [
              0.1111111111111111,
              "#46039f"
             ],
             [
              0.2222222222222222,
              "#7201a8"
             ],
             [
              0.3333333333333333,
              "#9c179e"
             ],
             [
              0.4444444444444444,
              "#bd3786"
             ],
             [
              0.5555555555555556,
              "#d8576b"
             ],
             [
              0.6666666666666666,
              "#ed7953"
             ],
             [
              0.7777777777777778,
              "#fb9f3a"
             ],
             [
              0.8888888888888888,
              "#fdca26"
             ],
             [
              1,
              "#f0f921"
             ]
            ],
            "type": "contour"
           }
          ],
          "contourcarpet": [
           {
            "colorbar": {
             "outlinewidth": 0,
             "ticks": ""
            },
            "type": "contourcarpet"
           }
          ],
          "heatmap": [
           {
            "colorbar": {
             "outlinewidth": 0,
             "ticks": ""
            },
            "colorscale": [
             [
              0,
              "#0d0887"
             ],
             [
              0.1111111111111111,
              "#46039f"
             ],
             [
              0.2222222222222222,
              "#7201a8"
             ],
             [
              0.3333333333333333,
              "#9c179e"
             ],
             [
              0.4444444444444444,
              "#bd3786"
             ],
             [
              0.5555555555555556,
              "#d8576b"
             ],
             [
              0.6666666666666666,
              "#ed7953"
             ],
             [
              0.7777777777777778,
              "#fb9f3a"
             ],
             [
              0.8888888888888888,
              "#fdca26"
             ],
             [
              1,
              "#f0f921"
             ]
            ],
            "type": "heatmap"
           }
          ],
          "heatmapgl": [
           {
            "colorbar": {
             "outlinewidth": 0,
             "ticks": ""
            },
            "colorscale": [
             [
              0,
              "#0d0887"
             ],
             [
              0.1111111111111111,
              "#46039f"
             ],
             [
              0.2222222222222222,
              "#7201a8"
             ],
             [
              0.3333333333333333,
              "#9c179e"
             ],
             [
              0.4444444444444444,
              "#bd3786"
             ],
             [
              0.5555555555555556,
              "#d8576b"
             ],
             [
              0.6666666666666666,
              "#ed7953"
             ],
             [
              0.7777777777777778,
              "#fb9f3a"
             ],
             [
              0.8888888888888888,
              "#fdca26"
             ],
             [
              1,
              "#f0f921"
             ]
            ],
            "type": "heatmapgl"
           }
          ],
          "histogram": [
           {
            "marker": {
             "pattern": {
              "fillmode": "overlay",
              "size": 10,
              "solidity": 0.2
             }
            },
            "type": "histogram"
           }
          ],
          "histogram2d": [
           {
            "colorbar": {
             "outlinewidth": 0,
             "ticks": ""
            },
            "colorscale": [
             [
              0,
              "#0d0887"
             ],
             [
              0.1111111111111111,
              "#46039f"
             ],
             [
              0.2222222222222222,
              "#7201a8"
             ],
             [
              0.3333333333333333,
              "#9c179e"
             ],
             [
              0.4444444444444444,
              "#bd3786"
             ],
             [
              0.5555555555555556,
              "#d8576b"
             ],
             [
              0.6666666666666666,
              "#ed7953"
             ],
             [
              0.7777777777777778,
              "#fb9f3a"
             ],
             [
              0.8888888888888888,
              "#fdca26"
             ],
             [
              1,
              "#f0f921"
             ]
            ],
            "type": "histogram2d"
           }
          ],
          "histogram2dcontour": [
           {
            "colorbar": {
             "outlinewidth": 0,
             "ticks": ""
            },
            "colorscale": [
             [
              0,
              "#0d0887"
             ],
             [
              0.1111111111111111,
              "#46039f"
             ],
             [
              0.2222222222222222,
              "#7201a8"
             ],
             [
              0.3333333333333333,
              "#9c179e"
             ],
             [
              0.4444444444444444,
              "#bd3786"
             ],
             [
              0.5555555555555556,
              "#d8576b"
             ],
             [
              0.6666666666666666,
              "#ed7953"
             ],
             [
              0.7777777777777778,
              "#fb9f3a"
             ],
             [
              0.8888888888888888,
              "#fdca26"
             ],
             [
              1,
              "#f0f921"
             ]
            ],
            "type": "histogram2dcontour"
           }
          ],
          "mesh3d": [
           {
            "colorbar": {
             "outlinewidth": 0,
             "ticks": ""
            },
            "type": "mesh3d"
           }
          ],
          "parcoords": [
           {
            "line": {
             "colorbar": {
              "outlinewidth": 0,
              "ticks": ""
             }
            },
            "type": "parcoords"
           }
          ],
          "pie": [
           {
            "automargin": true,
            "type": "pie"
           }
          ],
          "scatter": [
           {
            "fillpattern": {
             "fillmode": "overlay",
             "size": 10,
             "solidity": 0.2
            },
            "type": "scatter"
           }
          ],
          "scatter3d": [
           {
            "line": {
             "colorbar": {
              "outlinewidth": 0,
              "ticks": ""
             }
            },
            "marker": {
             "colorbar": {
              "outlinewidth": 0,
              "ticks": ""
             }
            },
            "type": "scatter3d"
           }
          ],
          "scattercarpet": [
           {
            "marker": {
             "colorbar": {
              "outlinewidth": 0,
              "ticks": ""
             }
            },
            "type": "scattercarpet"
           }
          ],
          "scattergeo": [
           {
            "marker": {
             "colorbar": {
              "outlinewidth": 0,
              "ticks": ""
             }
            },
            "type": "scattergeo"
           }
          ],
          "scattergl": [
           {
            "marker": {
             "colorbar": {
              "outlinewidth": 0,
              "ticks": ""
             }
            },
            "type": "scattergl"
           }
          ],
          "scattermapbox": [
           {
            "marker": {
             "colorbar": {
              "outlinewidth": 0,
              "ticks": ""
             }
            },
            "type": "scattermapbox"
           }
          ],
          "scatterpolar": [
           {
            "marker": {
             "colorbar": {
              "outlinewidth": 0,
              "ticks": ""
             }
            },
            "type": "scatterpolar"
           }
          ],
          "scatterpolargl": [
           {
            "marker": {
             "colorbar": {
              "outlinewidth": 0,
              "ticks": ""
             }
            },
            "type": "scatterpolargl"
           }
          ],
          "scatterternary": [
           {
            "marker": {
             "colorbar": {
              "outlinewidth": 0,
              "ticks": ""
             }
            },
            "type": "scatterternary"
           }
          ],
          "surface": [
           {
            "colorbar": {
             "outlinewidth": 0,
             "ticks": ""
            },
            "colorscale": [
             [
              0,
              "#0d0887"
             ],
             [
              0.1111111111111111,
              "#46039f"
             ],
             [
              0.2222222222222222,
              "#7201a8"
             ],
             [
              0.3333333333333333,
              "#9c179e"
             ],
             [
              0.4444444444444444,
              "#bd3786"
             ],
             [
              0.5555555555555556,
              "#d8576b"
             ],
             [
              0.6666666666666666,
              "#ed7953"
             ],
             [
              0.7777777777777778,
              "#fb9f3a"
             ],
             [
              0.8888888888888888,
              "#fdca26"
             ],
             [
              1,
              "#f0f921"
             ]
            ],
            "type": "surface"
           }
          ],
          "table": [
           {
            "cells": {
             "fill": {
              "color": "#EBF0F8"
             },
             "line": {
              "color": "white"
             }
            },
            "header": {
             "fill": {
              "color": "#C8D4E3"
             },
             "line": {
              "color": "white"
             }
            },
            "type": "table"
           }
          ]
         },
         "layout": {
          "annotationdefaults": {
           "arrowcolor": "#2a3f5f",
           "arrowhead": 0,
           "arrowwidth": 1
          },
          "autotypenumbers": "strict",
          "coloraxis": {
           "colorbar": {
            "outlinewidth": 0,
            "ticks": ""
           }
          },
          "colorscale": {
           "diverging": [
            [
             0,
             "#8e0152"
            ],
            [
             0.1,
             "#c51b7d"
            ],
            [
             0.2,
             "#de77ae"
            ],
            [
             0.3,
             "#f1b6da"
            ],
            [
             0.4,
             "#fde0ef"
            ],
            [
             0.5,
             "#f7f7f7"
            ],
            [
             0.6,
             "#e6f5d0"
            ],
            [
             0.7,
             "#b8e186"
            ],
            [
             0.8,
             "#7fbc41"
            ],
            [
             0.9,
             "#4d9221"
            ],
            [
             1,
             "#276419"
            ]
           ],
           "sequential": [
            [
             0,
             "#0d0887"
            ],
            [
             0.1111111111111111,
             "#46039f"
            ],
            [
             0.2222222222222222,
             "#7201a8"
            ],
            [
             0.3333333333333333,
             "#9c179e"
            ],
            [
             0.4444444444444444,
             "#bd3786"
            ],
            [
             0.5555555555555556,
             "#d8576b"
            ],
            [
             0.6666666666666666,
             "#ed7953"
            ],
            [
             0.7777777777777778,
             "#fb9f3a"
            ],
            [
             0.8888888888888888,
             "#fdca26"
            ],
            [
             1,
             "#f0f921"
            ]
           ],
           "sequentialminus": [
            [
             0,
             "#0d0887"
            ],
            [
             0.1111111111111111,
             "#46039f"
            ],
            [
             0.2222222222222222,
             "#7201a8"
            ],
            [
             0.3333333333333333,
             "#9c179e"
            ],
            [
             0.4444444444444444,
             "#bd3786"
            ],
            [
             0.5555555555555556,
             "#d8576b"
            ],
            [
             0.6666666666666666,
             "#ed7953"
            ],
            [
             0.7777777777777778,
             "#fb9f3a"
            ],
            [
             0.8888888888888888,
             "#fdca26"
            ],
            [
             1,
             "#f0f921"
            ]
           ]
          },
          "colorway": [
           "#636efa",
           "#EF553B",
           "#00cc96",
           "#ab63fa",
           "#FFA15A",
           "#19d3f3",
           "#FF6692",
           "#B6E880",
           "#FF97FF",
           "#FECB52"
          ],
          "font": {
           "color": "#2a3f5f"
          },
          "geo": {
           "bgcolor": "white",
           "lakecolor": "white",
           "landcolor": "#E5ECF6",
           "showlakes": true,
           "showland": true,
           "subunitcolor": "white"
          },
          "hoverlabel": {
           "align": "left"
          },
          "hovermode": "closest",
          "mapbox": {
           "style": "light"
          },
          "paper_bgcolor": "white",
          "plot_bgcolor": "#E5ECF6",
          "polar": {
           "angularaxis": {
            "gridcolor": "white",
            "linecolor": "white",
            "ticks": ""
           },
           "bgcolor": "#E5ECF6",
           "radialaxis": {
            "gridcolor": "white",
            "linecolor": "white",
            "ticks": ""
           }
          },
          "scene": {
           "xaxis": {
            "backgroundcolor": "#E5ECF6",
            "gridcolor": "white",
            "gridwidth": 2,
            "linecolor": "white",
            "showbackground": true,
            "ticks": "",
            "zerolinecolor": "white"
           },
           "yaxis": {
            "backgroundcolor": "#E5ECF6",
            "gridcolor": "white",
            "gridwidth": 2,
            "linecolor": "white",
            "showbackground": true,
            "ticks": "",
            "zerolinecolor": "white"
           },
           "zaxis": {
            "backgroundcolor": "#E5ECF6",
            "gridcolor": "white",
            "gridwidth": 2,
            "linecolor": "white",
            "showbackground": true,
            "ticks": "",
            "zerolinecolor": "white"
           }
          },
          "shapedefaults": {
           "line": {
            "color": "#2a3f5f"
           }
          },
          "ternary": {
           "aaxis": {
            "gridcolor": "white",
            "linecolor": "white",
            "ticks": ""
           },
           "baxis": {
            "gridcolor": "white",
            "linecolor": "white",
            "ticks": ""
           },
           "bgcolor": "#E5ECF6",
           "caxis": {
            "gridcolor": "white",
            "linecolor": "white",
            "ticks": ""
           }
          },
          "title": {
           "x": 0.05
          },
          "xaxis": {
           "automargin": true,
           "gridcolor": "white",
           "linecolor": "white",
           "ticks": "",
           "title": {
            "standoff": 15
           },
           "zerolinecolor": "white",
           "zerolinewidth": 2
          },
          "yaxis": {
           "automargin": true,
           "gridcolor": "white",
           "linecolor": "white",
           "ticks": "",
           "title": {
            "standoff": 15
           },
           "zerolinecolor": "white",
           "zerolinewidth": 2
          }
         }
        },
        "title": {
         "text": "Most popular video game genres"
        },
        "xaxis": {
         "title": {
          "text": "Genre"
         }
        },
        "yaxis": {
         "title": {
          "text": "Number of scores"
         }
        }
       }
      }
     },
     "metadata": {},
     "output_type": "display_data"
    }
   ],
   "source": [
    "# Los cinco géneros principales para Japón\n",
    "\n",
    "jp_data_by_genre = jp_data_frame.groupby('platform')['jp_sales'].agg(['count', 'sum']).reset_index().sort_values('sum').tail()\n",
    "top5_genre_jp = (jp_data_by_genre.merge(jp_data_frame[['platform', 'genre']], on='platform')\n",
    " ).groupby('genre')['platform'].count().reset_index().sort_values('platform').tail()\n",
    "\n",
    "#Graficar resultado del top 5 de generos más comunes\n",
    "fig6 = go.Figure()\n",
    "count_color_fig6 = 0\n",
    "\n",
    "fig6.add_trace(go.Bar(\n",
    "    x=top5_genre_jp['genre'],\n",
    "    y=top5_genre_jp['platform'],\n",
    "    marker=dict(\n",
    "        color='rgba(107, 44, 57, 0.7)',\n",
    "        line=dict(\n",
    "            color='rgba(250, 159, 37, 1)'\n",
    "        )\n",
    "    )\n",
    "))\n",
    "fig6.update_layout(\n",
    "    plot_bgcolor='rgba(0,0,0,0)',\n",
    "    paper_bgcolor='rgba(0,0,0,0)',\n",
    "    title='Most popular video game genres',\n",
    "    xaxis_title='Genre',\n",
    "    yaxis_title='Number of scores'\n",
    ")\n",
    "fig6.show()"
   ]
  },
  {
   "cell_type": "markdown",
   "metadata": {},
   "source": [
    "<font color=\"sienna\"> Se concluye que los 5 generos principales son [Action, Msic, Sports, Shooter, Racing], ya que son populares tando para Norteamérica, como en Europa. En Japón se a diferencia de los dos ultimos, cuentas con gran popularidad Adventure y Role-Playing.  </font>"
   ]
  },
  {
   "cell_type": "markdown",
   "metadata": {},
   "source": [
    "##### 4.2  Clasificaciones de ESRB vs ventas por regiones"
   ]
  },
  {
   "cell_type": "code",
   "execution_count": 32,
   "metadata": {},
   "outputs": [
    {
     "data": {
      "application/vnd.plotly.v1+json": {
       "config": {
        "plotlyServerURL": "https://plot.ly"
       },
       "data": [
        {
         "marker": {
          "color": "rgba(0, 48, 73, 0.7)",
          "line": {
           "color": "rgba(0, 48, 73, 1)"
          }
         },
         "name": "na_sales",
         "type": "bar",
         "x": [
          "E",
          "E10+",
          "M",
          "T"
         ],
         "y": [
          79.05,
          54.24,
          165.21,
          49.79
         ]
        },
        {
         "marker": {
          "color": "rgba(54, 46, 65, 0.7)",
          "line": {
           "color": "rgba(54, 46, 65, 1)"
          }
         },
         "name": "eu_sales",
         "type": "bar",
         "x": [
          "E",
          "E10+",
          "M",
          "T"
         ],
         "y": [
          83.36,
          42.69,
          145.32,
          41.95
         ]
        },
        {
         "marker": {
          "color": "rgba(107, 44, 57, 0.7)",
          "line": {
           "color": "rgba(107, 44, 57, 1)"
          }
         },
         "name": "jp_sales",
         "type": "bar",
         "x": [
          "E",
          "E10+",
          "M",
          "T"
         ],
         "y": [
          15.14,
          5.89,
          14.110000000000001,
          20.59
         ]
        }
       ],
       "layout": {
        "barmode": "group",
        "paper_bgcolor": "rgba(0,0,0,0)",
        "plot_bgcolor": "rgba(0,0,0,0)",
        "template": {
         "data": {
          "bar": [
           {
            "error_x": {
             "color": "#2a3f5f"
            },
            "error_y": {
             "color": "#2a3f5f"
            },
            "marker": {
             "line": {
              "color": "#E5ECF6",
              "width": 0.5
             },
             "pattern": {
              "fillmode": "overlay",
              "size": 10,
              "solidity": 0.2
             }
            },
            "type": "bar"
           }
          ],
          "barpolar": [
           {
            "marker": {
             "line": {
              "color": "#E5ECF6",
              "width": 0.5
             },
             "pattern": {
              "fillmode": "overlay",
              "size": 10,
              "solidity": 0.2
             }
            },
            "type": "barpolar"
           }
          ],
          "carpet": [
           {
            "aaxis": {
             "endlinecolor": "#2a3f5f",
             "gridcolor": "white",
             "linecolor": "white",
             "minorgridcolor": "white",
             "startlinecolor": "#2a3f5f"
            },
            "baxis": {
             "endlinecolor": "#2a3f5f",
             "gridcolor": "white",
             "linecolor": "white",
             "minorgridcolor": "white",
             "startlinecolor": "#2a3f5f"
            },
            "type": "carpet"
           }
          ],
          "choropleth": [
           {
            "colorbar": {
             "outlinewidth": 0,
             "ticks": ""
            },
            "type": "choropleth"
           }
          ],
          "contour": [
           {
            "colorbar": {
             "outlinewidth": 0,
             "ticks": ""
            },
            "colorscale": [
             [
              0,
              "#0d0887"
             ],
             [
              0.1111111111111111,
              "#46039f"
             ],
             [
              0.2222222222222222,
              "#7201a8"
             ],
             [
              0.3333333333333333,
              "#9c179e"
             ],
             [
              0.4444444444444444,
              "#bd3786"
             ],
             [
              0.5555555555555556,
              "#d8576b"
             ],
             [
              0.6666666666666666,
              "#ed7953"
             ],
             [
              0.7777777777777778,
              "#fb9f3a"
             ],
             [
              0.8888888888888888,
              "#fdca26"
             ],
             [
              1,
              "#f0f921"
             ]
            ],
            "type": "contour"
           }
          ],
          "contourcarpet": [
           {
            "colorbar": {
             "outlinewidth": 0,
             "ticks": ""
            },
            "type": "contourcarpet"
           }
          ],
          "heatmap": [
           {
            "colorbar": {
             "outlinewidth": 0,
             "ticks": ""
            },
            "colorscale": [
             [
              0,
              "#0d0887"
             ],
             [
              0.1111111111111111,
              "#46039f"
             ],
             [
              0.2222222222222222,
              "#7201a8"
             ],
             [
              0.3333333333333333,
              "#9c179e"
             ],
             [
              0.4444444444444444,
              "#bd3786"
             ],
             [
              0.5555555555555556,
              "#d8576b"
             ],
             [
              0.6666666666666666,
              "#ed7953"
             ],
             [
              0.7777777777777778,
              "#fb9f3a"
             ],
             [
              0.8888888888888888,
              "#fdca26"
             ],
             [
              1,
              "#f0f921"
             ]
            ],
            "type": "heatmap"
           }
          ],
          "heatmapgl": [
           {
            "colorbar": {
             "outlinewidth": 0,
             "ticks": ""
            },
            "colorscale": [
             [
              0,
              "#0d0887"
             ],
             [
              0.1111111111111111,
              "#46039f"
             ],
             [
              0.2222222222222222,
              "#7201a8"
             ],
             [
              0.3333333333333333,
              "#9c179e"
             ],
             [
              0.4444444444444444,
              "#bd3786"
             ],
             [
              0.5555555555555556,
              "#d8576b"
             ],
             [
              0.6666666666666666,
              "#ed7953"
             ],
             [
              0.7777777777777778,
              "#fb9f3a"
             ],
             [
              0.8888888888888888,
              "#fdca26"
             ],
             [
              1,
              "#f0f921"
             ]
            ],
            "type": "heatmapgl"
           }
          ],
          "histogram": [
           {
            "marker": {
             "pattern": {
              "fillmode": "overlay",
              "size": 10,
              "solidity": 0.2
             }
            },
            "type": "histogram"
           }
          ],
          "histogram2d": [
           {
            "colorbar": {
             "outlinewidth": 0,
             "ticks": ""
            },
            "colorscale": [
             [
              0,
              "#0d0887"
             ],
             [
              0.1111111111111111,
              "#46039f"
             ],
             [
              0.2222222222222222,
              "#7201a8"
             ],
             [
              0.3333333333333333,
              "#9c179e"
             ],
             [
              0.4444444444444444,
              "#bd3786"
             ],
             [
              0.5555555555555556,
              "#d8576b"
             ],
             [
              0.6666666666666666,
              "#ed7953"
             ],
             [
              0.7777777777777778,
              "#fb9f3a"
             ],
             [
              0.8888888888888888,
              "#fdca26"
             ],
             [
              1,
              "#f0f921"
             ]
            ],
            "type": "histogram2d"
           }
          ],
          "histogram2dcontour": [
           {
            "colorbar": {
             "outlinewidth": 0,
             "ticks": ""
            },
            "colorscale": [
             [
              0,
              "#0d0887"
             ],
             [
              0.1111111111111111,
              "#46039f"
             ],
             [
              0.2222222222222222,
              "#7201a8"
             ],
             [
              0.3333333333333333,
              "#9c179e"
             ],
             [
              0.4444444444444444,
              "#bd3786"
             ],
             [
              0.5555555555555556,
              "#d8576b"
             ],
             [
              0.6666666666666666,
              "#ed7953"
             ],
             [
              0.7777777777777778,
              "#fb9f3a"
             ],
             [
              0.8888888888888888,
              "#fdca26"
             ],
             [
              1,
              "#f0f921"
             ]
            ],
            "type": "histogram2dcontour"
           }
          ],
          "mesh3d": [
           {
            "colorbar": {
             "outlinewidth": 0,
             "ticks": ""
            },
            "type": "mesh3d"
           }
          ],
          "parcoords": [
           {
            "line": {
             "colorbar": {
              "outlinewidth": 0,
              "ticks": ""
             }
            },
            "type": "parcoords"
           }
          ],
          "pie": [
           {
            "automargin": true,
            "type": "pie"
           }
          ],
          "scatter": [
           {
            "fillpattern": {
             "fillmode": "overlay",
             "size": 10,
             "solidity": 0.2
            },
            "type": "scatter"
           }
          ],
          "scatter3d": [
           {
            "line": {
             "colorbar": {
              "outlinewidth": 0,
              "ticks": ""
             }
            },
            "marker": {
             "colorbar": {
              "outlinewidth": 0,
              "ticks": ""
             }
            },
            "type": "scatter3d"
           }
          ],
          "scattercarpet": [
           {
            "marker": {
             "colorbar": {
              "outlinewidth": 0,
              "ticks": ""
             }
            },
            "type": "scattercarpet"
           }
          ],
          "scattergeo": [
           {
            "marker": {
             "colorbar": {
              "outlinewidth": 0,
              "ticks": ""
             }
            },
            "type": "scattergeo"
           }
          ],
          "scattergl": [
           {
            "marker": {
             "colorbar": {
              "outlinewidth": 0,
              "ticks": ""
             }
            },
            "type": "scattergl"
           }
          ],
          "scattermapbox": [
           {
            "marker": {
             "colorbar": {
              "outlinewidth": 0,
              "ticks": ""
             }
            },
            "type": "scattermapbox"
           }
          ],
          "scatterpolar": [
           {
            "marker": {
             "colorbar": {
              "outlinewidth": 0,
              "ticks": ""
             }
            },
            "type": "scatterpolar"
           }
          ],
          "scatterpolargl": [
           {
            "marker": {
             "colorbar": {
              "outlinewidth": 0,
              "ticks": ""
             }
            },
            "type": "scatterpolargl"
           }
          ],
          "scatterternary": [
           {
            "marker": {
             "colorbar": {
              "outlinewidth": 0,
              "ticks": ""
             }
            },
            "type": "scatterternary"
           }
          ],
          "surface": [
           {
            "colorbar": {
             "outlinewidth": 0,
             "ticks": ""
            },
            "colorscale": [
             [
              0,
              "#0d0887"
             ],
             [
              0.1111111111111111,
              "#46039f"
             ],
             [
              0.2222222222222222,
              "#7201a8"
             ],
             [
              0.3333333333333333,
              "#9c179e"
             ],
             [
              0.4444444444444444,
              "#bd3786"
             ],
             [
              0.5555555555555556,
              "#d8576b"
             ],
             [
              0.6666666666666666,
              "#ed7953"
             ],
             [
              0.7777777777777778,
              "#fb9f3a"
             ],
             [
              0.8888888888888888,
              "#fdca26"
             ],
             [
              1,
              "#f0f921"
             ]
            ],
            "type": "surface"
           }
          ],
          "table": [
           {
            "cells": {
             "fill": {
              "color": "#EBF0F8"
             },
             "line": {
              "color": "white"
             }
            },
            "header": {
             "fill": {
              "color": "#C8D4E3"
             },
             "line": {
              "color": "white"
             }
            },
            "type": "table"
           }
          ]
         },
         "layout": {
          "annotationdefaults": {
           "arrowcolor": "#2a3f5f",
           "arrowhead": 0,
           "arrowwidth": 1
          },
          "autotypenumbers": "strict",
          "coloraxis": {
           "colorbar": {
            "outlinewidth": 0,
            "ticks": ""
           }
          },
          "colorscale": {
           "diverging": [
            [
             0,
             "#8e0152"
            ],
            [
             0.1,
             "#c51b7d"
            ],
            [
             0.2,
             "#de77ae"
            ],
            [
             0.3,
             "#f1b6da"
            ],
            [
             0.4,
             "#fde0ef"
            ],
            [
             0.5,
             "#f7f7f7"
            ],
            [
             0.6,
             "#e6f5d0"
            ],
            [
             0.7,
             "#b8e186"
            ],
            [
             0.8,
             "#7fbc41"
            ],
            [
             0.9,
             "#4d9221"
            ],
            [
             1,
             "#276419"
            ]
           ],
           "sequential": [
            [
             0,
             "#0d0887"
            ],
            [
             0.1111111111111111,
             "#46039f"
            ],
            [
             0.2222222222222222,
             "#7201a8"
            ],
            [
             0.3333333333333333,
             "#9c179e"
            ],
            [
             0.4444444444444444,
             "#bd3786"
            ],
            [
             0.5555555555555556,
             "#d8576b"
            ],
            [
             0.6666666666666666,
             "#ed7953"
            ],
            [
             0.7777777777777778,
             "#fb9f3a"
            ],
            [
             0.8888888888888888,
             "#fdca26"
            ],
            [
             1,
             "#f0f921"
            ]
           ],
           "sequentialminus": [
            [
             0,
             "#0d0887"
            ],
            [
             0.1111111111111111,
             "#46039f"
            ],
            [
             0.2222222222222222,
             "#7201a8"
            ],
            [
             0.3333333333333333,
             "#9c179e"
            ],
            [
             0.4444444444444444,
             "#bd3786"
            ],
            [
             0.5555555555555556,
             "#d8576b"
            ],
            [
             0.6666666666666666,
             "#ed7953"
            ],
            [
             0.7777777777777778,
             "#fb9f3a"
            ],
            [
             0.8888888888888888,
             "#fdca26"
            ],
            [
             1,
             "#f0f921"
            ]
           ]
          },
          "colorway": [
           "#636efa",
           "#EF553B",
           "#00cc96",
           "#ab63fa",
           "#FFA15A",
           "#19d3f3",
           "#FF6692",
           "#B6E880",
           "#FF97FF",
           "#FECB52"
          ],
          "font": {
           "color": "#2a3f5f"
          },
          "geo": {
           "bgcolor": "white",
           "lakecolor": "white",
           "landcolor": "#E5ECF6",
           "showlakes": true,
           "showland": true,
           "subunitcolor": "white"
          },
          "hoverlabel": {
           "align": "left"
          },
          "hovermode": "closest",
          "mapbox": {
           "style": "light"
          },
          "paper_bgcolor": "white",
          "plot_bgcolor": "#E5ECF6",
          "polar": {
           "angularaxis": {
            "gridcolor": "white",
            "linecolor": "white",
            "ticks": ""
           },
           "bgcolor": "#E5ECF6",
           "radialaxis": {
            "gridcolor": "white",
            "linecolor": "white",
            "ticks": ""
           }
          },
          "scene": {
           "xaxis": {
            "backgroundcolor": "#E5ECF6",
            "gridcolor": "white",
            "gridwidth": 2,
            "linecolor": "white",
            "showbackground": true,
            "ticks": "",
            "zerolinecolor": "white"
           },
           "yaxis": {
            "backgroundcolor": "#E5ECF6",
            "gridcolor": "white",
            "gridwidth": 2,
            "linecolor": "white",
            "showbackground": true,
            "ticks": "",
            "zerolinecolor": "white"
           },
           "zaxis": {
            "backgroundcolor": "#E5ECF6",
            "gridcolor": "white",
            "gridwidth": 2,
            "linecolor": "white",
            "showbackground": true,
            "ticks": "",
            "zerolinecolor": "white"
           }
          },
          "shapedefaults": {
           "line": {
            "color": "#2a3f5f"
           }
          },
          "ternary": {
           "aaxis": {
            "gridcolor": "white",
            "linecolor": "white",
            "ticks": ""
           },
           "baxis": {
            "gridcolor": "white",
            "linecolor": "white",
            "ticks": ""
           },
           "bgcolor": "#E5ECF6",
           "caxis": {
            "gridcolor": "white",
            "linecolor": "white",
            "ticks": ""
           }
          },
          "title": {
           "x": 0.05
          },
          "xaxis": {
           "automargin": true,
           "gridcolor": "white",
           "linecolor": "white",
           "ticks": "",
           "title": {
            "standoff": 15
           },
           "zerolinecolor": "white",
           "zerolinewidth": 2
          },
          "yaxis": {
           "automargin": true,
           "gridcolor": "white",
           "linecolor": "white",
           "ticks": "",
           "title": {
            "standoff": 15
           },
           "zerolinecolor": "white",
           "zerolinewidth": 2
          }
         }
        },
        "title": {
         "text": "Total Sales by ESRB Rating and Region"
        },
        "xaxis": {
         "title": {
          "text": "ESRB Rating"
         }
        },
        "yaxis": {
         "title": {
          "text": "Total Sales"
         }
        }
       }
      }
     },
     "metadata": {},
     "output_type": "display_data"
    }
   ],
   "source": [
    "regions = ['na_sales', 'eu_sales', 'jp_sales']\n",
    "\n",
    "df_data_by_esrb = df_since2002_video_games[df_since2002_video_games['rating'].notna()].reset_index(drop=True)\n",
    "rating_by_esrb = df_data_by_esrb.groupby('rating')[regions].sum().reset_index()\n",
    "\n",
    "#Graficas ventas por regíon\n",
    "fig7 = go.Figure()\n",
    "count_color_fig7 = 0\n",
    "\n",
    "for region in regions:\n",
    "   \n",
    "    # Add traces for each region\n",
    "    fig7.add_trace(go.Bar(\n",
    "        x=rating_by_esrb['rating'],\n",
    "        y=rating_by_esrb[region],\n",
    "        name=region,\n",
    "        marker=dict(\n",
    "            color=colors[count_color_fig7],\n",
    "            line=dict(\n",
    "                color=line_colors[count_color_fig7]\n",
    "            )\n",
    "        )\n",
    "    ))\n",
    "    count_color_fig7 +=1\n",
    "\n",
    "fig7.update_layout(\n",
    "    barmode='group',  # Use 'group' for grouped bars\n",
    "    plot_bgcolor='rgba(0,0,0,0)',\n",
    "    paper_bgcolor='rgba(0,0,0,0)',\n",
    "    title='Total Sales by ESRB Rating and Region',\n",
    "    xaxis_title='ESRB Rating',\n",
    "    yaxis_title='Total Sales'\n",
    ")\n",
    "\n",
    "fig7.show()"
   ]
  },
  {
   "cell_type": "markdown",
   "metadata": {},
   "source": [
    "<font color=\"sienna\"> Podemos evidenciar que las clasificaciones para todos(E) y mayores de 17(M), son las categorias que más cuentas con ventas, estonces será otro criterio a consideración para el modelo 2017.  </font>"
   ]
  },
  {
   "cell_type": "markdown",
   "metadata": {},
   "source": [
    "<div class=\"alert alert-block alert-danger\">\n",
    "<b>Comentario del revisor</b> <a class=\"tocSkip\"></a>\n",
    "    \n",
    "En esta sección de perfilamiento, transformemos las tablas en gráficos, son mucho más elocuentes. Adicionalmente, habrá que actualizar el filtro por periodo.\n",
    "</div>"
   ]
  },
  {
   "cell_type": "markdown",
   "metadata": {},
   "source": [
    "<div class=\"alert alert-block alert-danger\">\n",
    "<b>Comentario del revisor</b> <a class=\"tocSkip\"></a>\n",
    "    \n",
    "Excelente. Solo nos queda un elemento por corregir.\n",
    "</div>"
   ]
  },
  {
   "cell_type": "markdown",
   "metadata": {},
   "source": [
    "<div class=\"alert alert-block alert-success\">\n",
    "<b>Comentario del revisor</b> <a class=\"tocSkip\"></a>\n",
    "    \n",
    "Todo corregido.\n",
    "</div>"
   ]
  },
  {
   "cell_type": "markdown",
   "metadata": {},
   "source": [
    "#### 5. Prueba de hipótesis estadísticas\n",
    "* Las calificaciones promedio de los usuarios para las plataformas Xbox One y PC son las mismas.\n",
    "* Las calificaciones promedio de los usuarios para los géneros de Acción y Deportes son diferentes."
   ]
  },
  {
   "cell_type": "code",
   "execution_count": 33,
   "metadata": {},
   "outputs": [
    {
     "name": "stdout",
     "output_type": "stream",
     "text": [
      "valor p: 0.14012658403611647\n",
      "No podemos rechazar la hipótesis nula\n"
     ]
    }
   ],
   "source": [
    "# Prueba las hipótesis: \n",
    "\n",
    "# Ho: No hay diferencia entre las calificaciones promedio de los usuarios para las plataformas XOne y PC. \n",
    "# H¡: Hay diferencia entre las calificaciones promedio de los usuarios para las plataformas XOne y PC.\n",
    "\n",
    "# Realizar prueba t de Student con un α = 0.01.\n",
    "x_one_score = df_since2002_video_games.query(\"platform == 'XOne' and user_score.notna()\")['user_score'].reset_index(drop=True)\n",
    "pc_score = df_since2002_video_games.query(\"platform == 'PC' and user_score.notna()\")['user_score'].reset_index(drop=True)\n",
    "\n",
    "# establece un nivel crítico de significación estadística:\n",
    "alpha = 0.01\n",
    "\n",
    "# Probar la hipótesis de que no hay diferencia entre las calificaciones promedio de los usuarios para las plataformas XOne y PC.\n",
    "result = ttest_ind(x_one_score, pc_score)\n",
    "print('valor p:', result.pvalue)\n",
    "\n",
    "# Comparar el valor P obtenido con el nivel de significación estadística:\n",
    "if result.pvalue < alpha:\n",
    "    print(\"Rechazamos la hipótesis nula\")\n",
    "else:\n",
    "    print(\"No podemos rechazar la hipótesis nula\")\n"
   ]
  },
  {
   "cell_type": "markdown",
   "metadata": {},
   "source": [
    "<font color=\"sienna\"> No hay información estadística suficiente para afirmar que los promedios de las calificaciones de los usuarios para las plataformas XOne y PC son iguales.  </font>"
   ]
  },
  {
   "cell_type": "code",
   "execution_count": 34,
   "metadata": {},
   "outputs": [
    {
     "name": "stdout",
     "output_type": "stream",
     "text": [
      "valor p: 1.0517832389140023e-27\n",
      "Rechazamos la hipótesis nula\n"
     ]
    }
   ],
   "source": [
    "# Prueba las hipótesis: \n",
    "\n",
    "# Ho: Hay diferencia entre las calificaciones promedio de los usuarios para los géneros de Acción y Deportes. \n",
    "# H¡: No hay diferencia entre las calificaciones promedio de los usuarios para los géneros de Acción y Deportes.\n",
    "\n",
    "# Realizar prueba t de Student con un α = 0.01.\n",
    "action_score = df_since2002_video_games.query(\"genre == 'Action' and user_score.notna()\")['user_score'].reset_index(drop=True)\n",
    "sport_score = df_since2002_video_games.query(\"genre == 'Sports' and user_score.notna()\")['user_score'].reset_index(drop=True)\n",
    "\n",
    "# establece un nivel crítico de significación estadística:\n",
    "alpha = 0.01\n",
    "\n",
    "# Probar la hipótesis de que no hay diferencia entre las calificaciones promedio de los usuarios para las plataformas XOne y PC.\n",
    "result = ttest_ind(action_score, sport_score)\n",
    "print('valor p:', result.pvalue)\n",
    "\n",
    "# Comparar el valor P obtenido con el nivel de significación estadística:\n",
    "if result.pvalue < alpha:\n",
    "    print(\"Rechazamos la hipótesis nula\")\n",
    "else:\n",
    "    print(\"No podemos rechazar la hipótesis nula\")\n"
   ]
  },
  {
   "cell_type": "markdown",
   "metadata": {},
   "source": [
    "<div class=\"alert alert-block alert-danger\">\n",
    "<b>Comentario del revisor</b> <a class=\"tocSkip\"></a>\n",
    "    \n",
    "Gran trabajo con estas pruebas de hipótesis. Sin embargo, habrá que actualizar el filtro por periodo utilizado.\n",
    "</div>"
   ]
  },
  {
   "cell_type": "markdown",
   "metadata": {},
   "source": [
    "<div class=\"alert alert-block alert-success\">\n",
    "<b>Comentario del revisor</b> <a class=\"tocSkip\"></a>\n",
    "    \n",
    "Todo corregido.\n",
    "</div>"
   ]
  },
  {
   "cell_type": "markdown",
   "metadata": {},
   "source": [
    "<font color=\"sienna\"> Se realizó prueba t de Student, donde se asume que los tados tienden a terner distribución normal, y se `aplicó ttes_ind`, ya que se intenta comparar las medias de dos DataFrames. </font>"
   ]
  },
  {
   "cell_type": "markdown",
   "metadata": {},
   "source": [
    "## Conclusión general\n",
    "\n",
    "<font color=\"sienna\"> En base a los datos analizados, se llega a concluir que la evolución de los videojuegos ha desempeñado un papel crucial en el mercado, dado el notable impacto en la audiencia y, por consiguiente, en las ventas generadas por las diversas plataformas que los promocionan.\n",
    "\n",
    "Es posible inferir que los datos son significativos en cada periodo, ya que reflejan un ritmo constante de crecimiento. A partir de 1994, este crecimiento experimentó una aceleración, posiblemente atribuible a la transición hacia sistemas de 16 bits en esa época. Hacia mediados de 1999, la introducción de la primera consola doméstica habilitada para Internet marcó un hito, sugiriendo que el crecimiento en las ventas se disparó gracias a los continuos avances tecnológicos.\n",
    "\n",
    "Las ventas alcanzaron su punto máximo durante los periodos comprendidos entre 2006 y 2011, posterior a estas fechas, se observa una tendencia decreciente, que hasta ahora se desconocen los motivos.\n",
    "También es relevante destacar que las plataformas tienen una vida útil aproximada de alrededor de cinco años, como claramente se evidencia en las gráficas de ventas por plataforma.\n",
    "\n",
    "En resumen, la evolución de los videojuegos no solo ha marcado hitos significativos en términos de ventas y tecnología, sino que también ha delineado ciclos de vida para las plataformas, influyendo en las tendencias y preferencias de los consumidores. Estos datos proporcionan una visión integral de la dinámica cambiante de la industria de los videojuegos a lo largo del tiempo, y lo que se tendrá en cuenta para el modelo 2017. \n",
    "\n",
    "\n",
    "NOTA: `No se realizó tratamiento a los datos nulos, por tanto se realizaron los análisis sin considerar datos faltante`\n",
    "</font>"
   ]
  },
  {
   "cell_type": "markdown",
   "metadata": {},
   "source": [
    "<div class=\"alert alert-block alert-danger\">\n",
    "    \n",
    "# Comentarios generales\n",
    "<b>Comentario del revisor</b> <a class=\"tocSkip\"></a>\n",
    "    \n",
    "Gran trabajo, Estefanía. Nos quedan algunos detalles por resolver siendo el más importante la actualización del filtro por periodo.\n",
    "</div>"
   ]
  },
  {
   "cell_type": "markdown",
   "metadata": {},
   "source": [
    "<div class=\"alert alert-block alert-danger\">\n",
    "    \n",
    "# Comentarios generales\n",
    "<b>Comentario del revisor</b> <a class=\"tocSkip\"></a>\n",
    "    \n",
    "Nos queda solamente un elemento por corregir.\n",
    "</div>"
   ]
  },
  {
   "cell_type": "markdown",
   "metadata": {},
   "source": [
    "<div class=\"alert alert-block alert-success\">\n",
    "    \n",
    "# Comentarios generales\n",
    "<b>Comentario del revisor</b> <a class=\"tocSkip\"></a>\n",
    "    \n",
    "Todo corregido. Has aprobado un nuevo proyecto. ¡Felicitaciones!\n",
    "</div>"
   ]
  }
 ],
 "metadata": {
  "ExecuteTimeLog": [
   {
    "duration": 963,
    "start_time": "2024-07-02T23:14:52.399Z"
   },
   {
    "duration": 59,
    "start_time": "2024-07-02T23:14:53.366Z"
   },
   {
    "duration": 30,
    "start_time": "2024-07-02T23:14:53.428Z"
   },
   {
    "duration": 20,
    "start_time": "2024-07-02T23:14:53.461Z"
   },
   {
    "duration": 4,
    "start_time": "2024-07-02T23:14:53.508Z"
   },
   {
    "duration": 14,
    "start_time": "2024-07-02T23:14:53.515Z"
   },
   {
    "duration": 28,
    "start_time": "2024-07-02T23:14:53.532Z"
   },
   {
    "duration": 45,
    "start_time": "2024-07-02T23:14:53.563Z"
   },
   {
    "duration": 11,
    "start_time": "2024-07-02T23:14:53.611Z"
   },
   {
    "duration": 15,
    "start_time": "2024-07-02T23:14:53.624Z"
   },
   {
    "duration": 365,
    "start_time": "2024-07-02T23:14:53.642Z"
   },
   {
    "duration": 10,
    "start_time": "2024-07-02T23:14:54.010Z"
   },
   {
    "duration": 17,
    "start_time": "2024-07-02T23:14:54.023Z"
   },
   {
    "duration": 22,
    "start_time": "2024-07-02T23:14:54.105Z"
   },
   {
    "duration": 17,
    "start_time": "2024-07-02T23:14:54.130Z"
   },
   {
    "duration": 123,
    "start_time": "2024-07-02T23:14:54.150Z"
   },
   {
    "duration": 54,
    "start_time": "2024-07-02T23:14:54.276Z"
   },
   {
    "duration": 34,
    "start_time": "2024-07-02T23:14:54.333Z"
   },
   {
    "duration": 4,
    "start_time": "2024-07-02T23:14:54.370Z"
   },
   {
    "duration": 37,
    "start_time": "2024-07-02T23:14:54.378Z"
   },
   {
    "duration": 41,
    "start_time": "2024-07-02T23:14:54.417Z"
   },
   {
    "duration": 92,
    "start_time": "2024-07-02T23:14:54.461Z"
   },
   {
    "duration": 81,
    "start_time": "2024-07-02T23:14:54.556Z"
   },
   {
    "duration": 33,
    "start_time": "2024-07-02T23:14:54.640Z"
   },
   {
    "duration": 40,
    "start_time": "2024-07-02T23:14:54.676Z"
   },
   {
    "duration": 23,
    "start_time": "2024-07-02T23:14:54.719Z"
   },
   {
    "duration": 22,
    "start_time": "2024-07-02T23:14:54.745Z"
   },
   {
    "duration": 64,
    "start_time": "2024-07-02T23:14:54.769Z"
   },
   {
    "duration": 31,
    "start_time": "2024-07-02T23:14:54.835Z"
   },
   {
    "duration": 59,
    "start_time": "2024-07-02T23:14:54.869Z"
   },
   {
    "duration": 19,
    "start_time": "2024-07-02T23:14:54.935Z"
   },
   {
    "duration": 17,
    "start_time": "2024-07-02T23:14:54.957Z"
   }
  ],
  "kernelspec": {
   "display_name": "Python 3 (ipykernel)",
   "language": "python",
   "name": "python3"
  },
  "language_info": {
   "codemirror_mode": {
    "name": "ipython",
    "version": 3
   },
   "file_extension": ".py",
   "mimetype": "text/x-python",
   "name": "python",
   "nbconvert_exporter": "python",
   "pygments_lexer": "ipython3",
   "version": "3.11.5"
  },
  "toc": {
   "base_numbering": 1,
   "nav_menu": {},
   "number_sections": true,
   "sideBar": true,
   "skip_h1_title": true,
   "title_cell": "Table of Contents",
   "title_sidebar": "Contents",
   "toc_cell": false,
   "toc_position": {},
   "toc_section_display": true,
   "toc_window_display": false
  }
 },
 "nbformat": 4,
 "nbformat_minor": 2
}
